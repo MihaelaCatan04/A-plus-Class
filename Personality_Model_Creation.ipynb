{
  "nbformat": 4,
  "nbformat_minor": 0,
  "metadata": {
    "colab": {
      "name": "Personality_Model_Creation.ipynb",
      "provenance": [],
      "collapsed_sections": [],
      "toc_visible": true
    },
    "kernelspec": {
      "display_name": "Python 3",
      "name": "python3"
    },
    "language_info": {
      "name": "python"
    }
  },
  "cells": [
    {
      "cell_type": "markdown",
      "metadata": {
        "id": "Jk4f7f3HLeAF"
      },
      "source": [
        "# **Personality Prediction**"
      ]
    },
    {
      "cell_type": "markdown",
      "metadata": {
        "id": "-coC_Pz-8bPi"
      },
      "source": [
        "## Data Importation"
      ]
    },
    {
      "cell_type": "markdown",
      "metadata": {
        "id": "xjRjcLyaLi9s"
      },
      "source": [
        "Import libraries:"
      ]
    },
    {
      "cell_type": "code",
      "metadata": {
        "id": "lOVULjJM7uWk"
      },
      "source": [
        "import pandas as pd\n",
        "import nltk\n",
        "import seaborn as sns\n",
        "import matplotlib.pyplot as plt\n",
        "import numpy as np"
      ],
      "execution_count": 72,
      "outputs": []
    },
    {
      "cell_type": "markdown",
      "metadata": {
        "id": "kPapmt2_LllP"
      },
      "source": [
        "Import and read the dataset:"
      ]
    },
    {
      "cell_type": "code",
      "metadata": {
        "id": "bR0SNoLBcPEF",
        "colab": {
          "base_uri": "https://localhost:8080/"
        },
        "outputId": "d7f7c214-0a35-4d3b-e222-95b0802885e5"
      },
      "source": [
        "from google.colab import drive\n",
        "drive.mount('/content/gdrive')"
      ],
      "execution_count": 73,
      "outputs": [
        {
          "output_type": "stream",
          "text": [
            "Drive already mounted at /content/gdrive; to attempt to forcibly remount, call drive.mount(\"/content/gdrive\", force_remount=True).\n"
          ],
          "name": "stdout"
        }
      ]
    },
    {
      "cell_type": "code",
      "metadata": {
        "id": "F0ww23agFCRJ",
        "colab": {
          "base_uri": "https://localhost:8080/"
        },
        "outputId": "a1146056-3122-4f86-98eb-f4370fea26f3"
      },
      "source": [
        "df = pd.read_csv('/content/gdrive/My Drive/Personality prediction/Bronze/mbti_1.csv')\n",
        "print(df)"
      ],
      "execution_count": 74,
      "outputs": [
        {
          "output_type": "stream",
          "text": [
            "      type                                              posts\n",
            "0     INFJ  'http://www.youtube.com/watch?v=qsXHcwe3krw|||...\n",
            "1     ENTP  'I'm finding the lack of me in these posts ver...\n",
            "2     INTP  'Good one  _____   https://www.youtube.com/wat...\n",
            "3     INTJ  'Dear INTP,   I enjoyed our conversation the o...\n",
            "4     ENTJ  'You're fired.|||That's another silly misconce...\n",
            "...    ...                                                ...\n",
            "8670  ISFP  'https://www.youtube.com/watch?v=t8edHB_h908||...\n",
            "8671  ENFP  'So...if this thread already exists someplace ...\n",
            "8672  INTP  'So many questions when i do these things.  I ...\n",
            "8673  INFP  'I am very conflicted right now when it comes ...\n",
            "8674  INFP  'It has been too long since I have been on per...\n",
            "\n",
            "[8675 rows x 2 columns]\n"
          ],
          "name": "stdout"
        }
      ]
    },
    {
      "cell_type": "markdown",
      "metadata": {
        "id": "YvvSEEF6Lp7X"
      },
      "source": [
        "## Exploratory Data Analysis"
      ]
    },
    {
      "cell_type": "markdown",
      "metadata": {
        "id": "rrdtWAd0O91p"
      },
      "source": [
        "### Validation and Data Preparation"
      ]
    },
    {
      "cell_type": "markdown",
      "metadata": {
        "id": "02ee2QViwWI1"
      },
      "source": [
        "Visualize the dataset:"
      ]
    },
    {
      "cell_type": "code",
      "metadata": {
        "colab": {
          "base_uri": "https://localhost:8080/",
          "height": 0
        },
        "id": "kqYewG4qFM90",
        "outputId": "845e57db-2aba-46bf-aed9-d809691ec0df"
      },
      "source": [
        "df.head()"
      ],
      "execution_count": 75,
      "outputs": [
        {
          "output_type": "execute_result",
          "data": {
            "text/html": [
              "<div>\n",
              "<style scoped>\n",
              "    .dataframe tbody tr th:only-of-type {\n",
              "        vertical-align: middle;\n",
              "    }\n",
              "\n",
              "    .dataframe tbody tr th {\n",
              "        vertical-align: top;\n",
              "    }\n",
              "\n",
              "    .dataframe thead th {\n",
              "        text-align: right;\n",
              "    }\n",
              "</style>\n",
              "<table border=\"1\" class=\"dataframe\">\n",
              "  <thead>\n",
              "    <tr style=\"text-align: right;\">\n",
              "      <th></th>\n",
              "      <th>type</th>\n",
              "      <th>posts</th>\n",
              "    </tr>\n",
              "  </thead>\n",
              "  <tbody>\n",
              "    <tr>\n",
              "      <th>0</th>\n",
              "      <td>INFJ</td>\n",
              "      <td>'http://www.youtube.com/watch?v=qsXHcwe3krw|||...</td>\n",
              "    </tr>\n",
              "    <tr>\n",
              "      <th>1</th>\n",
              "      <td>ENTP</td>\n",
              "      <td>'I'm finding the lack of me in these posts ver...</td>\n",
              "    </tr>\n",
              "    <tr>\n",
              "      <th>2</th>\n",
              "      <td>INTP</td>\n",
              "      <td>'Good one  _____   https://www.youtube.com/wat...</td>\n",
              "    </tr>\n",
              "    <tr>\n",
              "      <th>3</th>\n",
              "      <td>INTJ</td>\n",
              "      <td>'Dear INTP,   I enjoyed our conversation the o...</td>\n",
              "    </tr>\n",
              "    <tr>\n",
              "      <th>4</th>\n",
              "      <td>ENTJ</td>\n",
              "      <td>'You're fired.|||That's another silly misconce...</td>\n",
              "    </tr>\n",
              "  </tbody>\n",
              "</table>\n",
              "</div>"
            ],
            "text/plain": [
              "   type                                              posts\n",
              "0  INFJ  'http://www.youtube.com/watch?v=qsXHcwe3krw|||...\n",
              "1  ENTP  'I'm finding the lack of me in these posts ver...\n",
              "2  INTP  'Good one  _____   https://www.youtube.com/wat...\n",
              "3  INTJ  'Dear INTP,   I enjoyed our conversation the o...\n",
              "4  ENTJ  'You're fired.|||That's another silly misconce..."
            ]
          },
          "metadata": {
            "tags": []
          },
          "execution_count": 75
        }
      ]
    },
    {
      "cell_type": "markdown",
      "metadata": {
        "id": "_Cw8A6mPLMto"
      },
      "source": [
        "Verify if there are any NaN values:\n"
      ]
    },
    {
      "cell_type": "code",
      "metadata": {
        "colab": {
          "base_uri": "https://localhost:8080/"
        },
        "id": "vC4QTGzxHFVy",
        "outputId": "00a61a95-4524-475a-bfe1-d768969bee57"
      },
      "source": [
        "df.isnull().any()"
      ],
      "execution_count": 76,
      "outputs": [
        {
          "output_type": "execute_result",
          "data": {
            "text/plain": [
              "type     False\n",
              "posts    False\n",
              "dtype: bool"
            ]
          },
          "metadata": {
            "tags": []
          },
          "execution_count": 76
        }
      ]
    },
    {
      "cell_type": "markdown",
      "metadata": {
        "id": "ymi3Kk5MLUqj"
      },
      "source": [
        "Take a look at the data types:"
      ]
    },
    {
      "cell_type": "code",
      "metadata": {
        "colab": {
          "base_uri": "https://localhost:8080/"
        },
        "id": "4V55QCb4HF68",
        "outputId": "0f19b224-2475-4662-d8b9-29a83ce139d8"
      },
      "source": [
        "df.dtypes"
      ],
      "execution_count": 77,
      "outputs": [
        {
          "output_type": "execute_result",
          "data": {
            "text/plain": [
              "type     object\n",
              "posts    object\n",
              "dtype: object"
            ]
          },
          "metadata": {
            "tags": []
          },
          "execution_count": 77
        }
      ]
    },
    {
      "cell_type": "code",
      "metadata": {
        "colab": {
          "base_uri": "https://localhost:8080/"
        },
        "id": "7w1-mEn9HQin",
        "outputId": "3ebd9bcc-f957-4c3c-d2d8-9bec78c879ff"
      },
      "source": [
        "df.info()"
      ],
      "execution_count": 78,
      "outputs": [
        {
          "output_type": "stream",
          "text": [
            "<class 'pandas.core.frame.DataFrame'>\n",
            "RangeIndex: 8675 entries, 0 to 8674\n",
            "Data columns (total 2 columns):\n",
            " #   Column  Non-Null Count  Dtype \n",
            "---  ------  --------------  ----- \n",
            " 0   type    8675 non-null   object\n",
            " 1   posts   8675 non-null   object\n",
            "dtypes: object(2)\n",
            "memory usage: 135.7+ KB\n"
          ],
          "name": "stdout"
        }
      ]
    },
    {
      "cell_type": "markdown",
      "metadata": {
        "id": "saX9ItVMLX4k"
      },
      "source": [
        "Analyse the dataset:"
      ]
    },
    {
      "cell_type": "code",
      "metadata": {
        "colab": {
          "base_uri": "https://localhost:8080/",
          "height": 0
        },
        "id": "TcYFJ88bHkU-",
        "outputId": "207b4ca4-27ff-4e0e-b032-5089063f793b"
      },
      "source": [
        "df.describe(include=['object'])"
      ],
      "execution_count": 79,
      "outputs": [
        {
          "output_type": "execute_result",
          "data": {
            "text/html": [
              "<div>\n",
              "<style scoped>\n",
              "    .dataframe tbody tr th:only-of-type {\n",
              "        vertical-align: middle;\n",
              "    }\n",
              "\n",
              "    .dataframe tbody tr th {\n",
              "        vertical-align: top;\n",
              "    }\n",
              "\n",
              "    .dataframe thead th {\n",
              "        text-align: right;\n",
              "    }\n",
              "</style>\n",
              "<table border=\"1\" class=\"dataframe\">\n",
              "  <thead>\n",
              "    <tr style=\"text-align: right;\">\n",
              "      <th></th>\n",
              "      <th>type</th>\n",
              "      <th>posts</th>\n",
              "    </tr>\n",
              "  </thead>\n",
              "  <tbody>\n",
              "    <tr>\n",
              "      <th>count</th>\n",
              "      <td>8675</td>\n",
              "      <td>8675</td>\n",
              "    </tr>\n",
              "    <tr>\n",
              "      <th>unique</th>\n",
              "      <td>16</td>\n",
              "      <td>8675</td>\n",
              "    </tr>\n",
              "    <tr>\n",
              "      <th>top</th>\n",
              "      <td>INFP</td>\n",
              "      <td>'I could really use some IRL cheat codes right...</td>\n",
              "    </tr>\n",
              "    <tr>\n",
              "      <th>freq</th>\n",
              "      <td>1832</td>\n",
              "      <td>1</td>\n",
              "    </tr>\n",
              "  </tbody>\n",
              "</table>\n",
              "</div>"
            ],
            "text/plain": [
              "        type                                              posts\n",
              "count   8675                                               8675\n",
              "unique    16                                               8675\n",
              "top     INFP  'I could really use some IRL cheat codes right...\n",
              "freq    1832                                                  1"
            ]
          },
          "metadata": {
            "tags": []
          },
          "execution_count": 79
        }
      ]
    },
    {
      "cell_type": "code",
      "metadata": {
        "colab": {
          "base_uri": "https://localhost:8080/"
        },
        "id": "dTUpDsccHpPC",
        "outputId": "a7188d13-3cdc-4c56-985c-bfc2e59b2422"
      },
      "source": [
        "types = np.unique(np.array(df['type']))\n",
        "types"
      ],
      "execution_count": 80,
      "outputs": [
        {
          "output_type": "execute_result",
          "data": {
            "text/plain": [
              "array(['ENFJ', 'ENFP', 'ENTJ', 'ENTP', 'ESFJ', 'ESFP', 'ESTJ', 'ESTP',\n",
              "       'INFJ', 'INFP', 'INTJ', 'INTP', 'ISFJ', 'ISFP', 'ISTJ', 'ISTP'],\n",
              "      dtype=object)"
            ]
          },
          "metadata": {
            "tags": []
          },
          "execution_count": 80
        }
      ]
    },
    {
      "cell_type": "markdown",
      "metadata": {
        "id": "yR4Eb0e1LmHg"
      },
      "source": [
        "Split the posts and double the personality type as many times as it is necessary:"
      ]
    },
    {
      "cell_type": "code",
      "metadata": {
        "colab": {
          "base_uri": "https://localhost:8080/"
        },
        "id": "ZAQlPfN8K17c",
        "outputId": "b55aa669-ffe8-4bb2-fde2-69035859be91"
      },
      "source": [
        "def extract(posts, new_posts):\n",
        "    for post in posts[1].split(\"|||\"):\n",
        "        new_posts.append((posts[0], post))\n",
        "\n",
        "posts = []\n",
        "df.apply(lambda x: extract(x, posts), axis=1)\n",
        "print(\"Number of users\", len(df))\n",
        "print(\"Number of posts\", len(posts))"
      ],
      "execution_count": 81,
      "outputs": [
        {
          "output_type": "stream",
          "text": [
            "Number of users 8675\n",
            "Number of posts 422845\n"
          ],
          "name": "stdout"
        }
      ]
    },
    {
      "cell_type": "code",
      "metadata": {
        "colab": {
          "base_uri": "https://localhost:8080/"
        },
        "id": "aEsFxmONK2yC",
        "outputId": "13cec6bb-3a0e-43cb-8c23-cbf777bd6c69"
      },
      "source": [
        "df = pd.DataFrame(posts, columns=[\"types\", \"posts\"])\n",
        "print(df.shape)\n",
        "print(df.head())"
      ],
      "execution_count": 82,
      "outputs": [
        {
          "output_type": "stream",
          "text": [
            "(422845, 2)\n",
            "  types                                              posts\n",
            "0  INFJ        'http://www.youtube.com/watch?v=qsXHcwe3krw\n",
            "1  INFJ  http://41.media.tumblr.com/tumblr_lfouy03PMA1q...\n",
            "2  INFJ  enfp and intj moments  https://www.youtube.com...\n",
            "3  INFJ  What has been the most life-changing experienc...\n",
            "4  INFJ  http://www.youtube.com/watch?v=vXZeYwwRDw8   h...\n"
          ],
          "name": "stdout"
        }
      ]
    },
    {
      "cell_type": "markdown",
      "metadata": {
        "id": "QupT_EIAPXJJ"
      },
      "source": [
        "### Multivariate Analysis"
      ]
    },
    {
      "cell_type": "markdown",
      "metadata": {
        "id": "4z5pGTAULd6_"
      },
      "source": [
        "Analyse the number of personality types and count their number of total posts:"
      ]
    },
    {
      "cell_type": "code",
      "metadata": {
        "colab": {
          "base_uri": "https://localhost:8080/",
          "height": 0
        },
        "id": "6JR9CrLsH0p2",
        "outputId": "c67d893e-b33f-4bd3-ca6a-47039ea6e242"
      },
      "source": [
        "total = df.groupby(['types']).count()\n",
        "total"
      ],
      "execution_count": 83,
      "outputs": [
        {
          "output_type": "execute_result",
          "data": {
            "text/html": [
              "<div>\n",
              "<style scoped>\n",
              "    .dataframe tbody tr th:only-of-type {\n",
              "        vertical-align: middle;\n",
              "    }\n",
              "\n",
              "    .dataframe tbody tr th {\n",
              "        vertical-align: top;\n",
              "    }\n",
              "\n",
              "    .dataframe thead th {\n",
              "        text-align: right;\n",
              "    }\n",
              "</style>\n",
              "<table border=\"1\" class=\"dataframe\">\n",
              "  <thead>\n",
              "    <tr style=\"text-align: right;\">\n",
              "      <th></th>\n",
              "      <th>posts</th>\n",
              "    </tr>\n",
              "    <tr>\n",
              "      <th>types</th>\n",
              "      <th></th>\n",
              "    </tr>\n",
              "  </thead>\n",
              "  <tbody>\n",
              "    <tr>\n",
              "      <th>ENFJ</th>\n",
              "      <td>9288</td>\n",
              "    </tr>\n",
              "    <tr>\n",
              "      <th>ENFP</th>\n",
              "      <td>32769</td>\n",
              "    </tr>\n",
              "    <tr>\n",
              "      <th>ENTJ</th>\n",
              "      <td>11273</td>\n",
              "    </tr>\n",
              "    <tr>\n",
              "      <th>ENTP</th>\n",
              "      <td>33761</td>\n",
              "    </tr>\n",
              "    <tr>\n",
              "      <th>ESFJ</th>\n",
              "      <td>2018</td>\n",
              "    </tr>\n",
              "    <tr>\n",
              "      <th>ESFP</th>\n",
              "      <td>2215</td>\n",
              "    </tr>\n",
              "    <tr>\n",
              "      <th>ESTJ</th>\n",
              "      <td>1921</td>\n",
              "    </tr>\n",
              "    <tr>\n",
              "      <th>ESTP</th>\n",
              "      <td>4337</td>\n",
              "    </tr>\n",
              "    <tr>\n",
              "      <th>INFJ</th>\n",
              "      <td>72105</td>\n",
              "    </tr>\n",
              "    <tr>\n",
              "      <th>INFP</th>\n",
              "      <td>89796</td>\n",
              "    </tr>\n",
              "    <tr>\n",
              "      <th>INTJ</th>\n",
              "      <td>52471</td>\n",
              "    </tr>\n",
              "    <tr>\n",
              "      <th>INTP</th>\n",
              "      <td>63359</td>\n",
              "    </tr>\n",
              "    <tr>\n",
              "      <th>ISFJ</th>\n",
              "      <td>8121</td>\n",
              "    </tr>\n",
              "    <tr>\n",
              "      <th>ISFP</th>\n",
              "      <td>13000</td>\n",
              "    </tr>\n",
              "    <tr>\n",
              "      <th>ISTJ</th>\n",
              "      <td>9913</td>\n",
              "    </tr>\n",
              "    <tr>\n",
              "      <th>ISTP</th>\n",
              "      <td>16498</td>\n",
              "    </tr>\n",
              "  </tbody>\n",
              "</table>\n",
              "</div>"
            ],
            "text/plain": [
              "       posts\n",
              "types       \n",
              "ENFJ    9288\n",
              "ENFP   32769\n",
              "ENTJ   11273\n",
              "ENTP   33761\n",
              "ESFJ    2018\n",
              "ESFP    2215\n",
              "ESTJ    1921\n",
              "ESTP    4337\n",
              "INFJ   72105\n",
              "INFP   89796\n",
              "INTJ   52471\n",
              "INTP   63359\n",
              "ISFJ    8121\n",
              "ISFP   13000\n",
              "ISTJ    9913\n",
              "ISTP   16498"
            ]
          },
          "metadata": {
            "tags": []
          },
          "execution_count": 83
        }
      ]
    },
    {
      "cell_type": "markdown",
      "metadata": {
        "id": "ClmGuwrjwibJ"
      },
      "source": [
        "The graphics of total posts for each personality type:"
      ]
    },
    {
      "cell_type": "code",
      "metadata": {
        "colab": {
          "base_uri": "https://localhost:8080/",
          "height": 0
        },
        "id": "EO594nPFH2wb",
        "outputId": "4bd3c49d-18bf-4b27-f9fd-556bd35c2d9b"
      },
      "source": [
        "plt.figure(figsize = (12,4))\n",
        "plt.bar(np.array(total.index), height = total['posts'],)\n",
        "plt.xlabel('Personality types', size = 14)\n",
        "plt.ylabel('No. of posts', size = 14)\n",
        "plt.title('Total posts for each personality type')"
      ],
      "execution_count": 84,
      "outputs": [
        {
          "output_type": "execute_result",
          "data": {
            "text/plain": [
              "Text(0.5, 1.0, 'Total posts for each personality type')"
            ]
          },
          "metadata": {
            "tags": []
          },
          "execution_count": 84
        },
        {
          "output_type": "display_data",
          "data": {
            "image/png": "[encoded data removed]",
            "text/plain": [
              "<Figure size 864x288 with 1 Axes>"
            ]
          },
          "metadata": {
            "tags": [],
            "needs_background": "light"
          }
        }
      ]
    },
    {
      "cell_type": "code",
      "metadata": {
        "colab": {
          "base_uri": "https://localhost:8080/",
          "height": 0
        },
        "id": "YzufmwqkI9ZT",
        "outputId": "e3207a05-5307-42c7-d168-a5c80b2cee42"
      },
      "source": [
        "cnt_srs = df['types'].value_counts()\n",
        "plt.figure(figsize=(12,4))\n",
        "sns.barplot(cnt_srs.index, cnt_srs.values, alpha=0.8)\n",
        "plt.xlabel('Personality types', fontsize=12)\n",
        "plt.ylabel('No. of posts', fontsize=12)\n",
        "plt.title('Total posts for each personality type')\n",
        "plt.show()"
      ],
      "execution_count": 85,
      "outputs": [
        {
          "output_type": "stream",
          "text": [
            "/usr/local/lib/python3.7/dist-packages/seaborn/_decorators.py:43: FutureWarning: Pass the following variables as keyword args: x, y. From version 0.12, the only valid positional argument will be `data`, and passing other arguments without an explicit keyword will result in an error or misinterpretation.\n",
            "  FutureWarning\n"
          ],
          "name": "stderr"
        },
        {
          "output_type": "display_data",
          "data": {
            "image/png": "[encoded data removed]",
            "text/plain": [
              "<Figure size 864x288 with 1 Axes>"
            ]
          },
          "metadata": {
            "tags": [],
            "needs_background": "light"
          }
        }
      ]
    },
    {
      "cell_type": "markdown",
      "metadata": {
        "id": "sOv-fWFxQO6V"
      },
      "source": [
        "### Univariate Analysis"
      ]
    },
    {
      "cell_type": "markdown",
      "metadata": {
        "id": "3kh7mOzjL1o3"
      },
      "source": [
        "Split every type of personality into pairs of letters, based on their index :"
      ]
    },
    {
      "cell_type": "code",
      "metadata": {
        "colab": {
          "base_uri": "https://localhost:8080/"
        },
        "id": "1np0285qJrHs",
        "outputId": "e823b9a5-5346-4524-90a2-9e14e473c096"
      },
      "source": [
        "df['Letter1'] = df.apply(lambda row: row.types[0], axis = 1)\n",
        "df['Letter2'] = df.apply(lambda row: row.types[1], axis = 1)\n",
        "df['Letter3'] = df.apply(lambda row: row.types[2], axis = 1)\n",
        "df['Letter4'] = df.apply(lambda row: row.types[3], axis = 1)\n",
        "df = df.drop(df.columns[0], axis=1)\n",
        "print(df)"
      ],
      "execution_count": 86,
      "outputs": [
        {
          "output_type": "stream",
          "text": [
            "                                                    posts  ... Letter4\n",
            "0             'http://www.youtube.com/watch?v=qsXHcwe3krw  ...       J\n",
            "1       http://41.media.tumblr.com/tumblr_lfouy03PMA1q...  ...       J\n",
            "2       enfp and intj moments  https://www.youtube.com...  ...       J\n",
            "3       What has been the most life-changing experienc...  ...       J\n",
            "4       http://www.youtube.com/watch?v=vXZeYwwRDw8   h...  ...       J\n",
            "...                                                   ...  ...     ...\n",
            "422840  I was going to close my facebook a few months ...  ...       P\n",
            "422841  30 Seconds to Mars - All of my collections. It...  ...       P\n",
            "422842  I have seen it, and i agree. I did actually th...  ...       P\n",
            "422843  Ok so i have just watched Underworld 4 (Awaken...  ...       P\n",
            "422844  I would never want to turn off my emotions. so...  ...       P\n",
            "\n",
            "[422845 rows x 5 columns]\n"
          ],
          "name": "stdout"
        }
      ]
    },
    {
      "cell_type": "markdown",
      "metadata": {
        "id": "1H3Y3gGKypc2"
      },
      "source": [
        "We have obtained a dataframe made of 422845 rows and 5 columns."
      ]
    },
    {
      "cell_type": "markdown",
      "metadata": {
        "id": "EFQxBOs1MRfX"
      },
      "source": [
        "Drop duplicates:"
      ]
    },
    {
      "cell_type": "code",
      "metadata": {
        "id": "rUDeWd-qJ0Ps"
      },
      "source": [
        "df = df.drop_duplicates()"
      ],
      "execution_count": 87,
      "outputs": []
    },
    {
      "cell_type": "code",
      "metadata": {
        "colab": {
          "base_uri": "https://localhost:8080/"
        },
        "id": "Opsruo6GJ3Ve",
        "outputId": "7286b322-6591-413c-bdb4-1231921f6864"
      },
      "source": [
        "df.shape"
      ],
      "execution_count": 88,
      "outputs": [
        {
          "output_type": "execute_result",
          "data": {
            "text/plain": [
              "(419055, 5)"
            ]
          },
          "metadata": {
            "tags": []
          },
          "execution_count": 88
        }
      ]
    },
    {
      "cell_type": "markdown",
      "metadata": {
        "id": "K2VEB-btMUIb"
      },
      "source": [
        "Eliminate NaN values:"
      ]
    },
    {
      "cell_type": "code",
      "metadata": {
        "id": "vSHx-5S4J9OG"
      },
      "source": [
        "df = df.dropna()"
      ],
      "execution_count": 89,
      "outputs": []
    },
    {
      "cell_type": "code",
      "metadata": {
        "colab": {
          "base_uri": "https://localhost:8080/"
        },
        "id": "sYimIjNjKE9M",
        "outputId": "85e8b922-7f6e-4875-86d2-04890f6e4ec5"
      },
      "source": [
        "df.shape"
      ],
      "execution_count": 90,
      "outputs": [
        {
          "output_type": "execute_result",
          "data": {
            "text/plain": [
              "(419055, 5)"
            ]
          },
          "metadata": {
            "tags": []
          },
          "execution_count": 90
        }
      ]
    },
    {
      "cell_type": "markdown",
      "metadata": {
        "id": "t0u_TMUgy5Oy"
      },
      "source": [
        "Our final dataset consists of 419055 rows and 5 columns."
      ]
    },
    {
      "cell_type": "markdown",
      "metadata": {
        "id": "yNudG3V4MZNe"
      },
      "source": [
        "Analyse number of posts per each pair of letters:"
      ]
    },
    {
      "cell_type": "code",
      "metadata": {
        "colab": {
          "base_uri": "https://localhost:8080/",
          "height": 0
        },
        "id": "PI2kLmQ7KaiT",
        "outputId": "62ac78fe-c060-445b-c2ef-709e0a1ce46d"
      },
      "source": [
        "letter1 = df[['posts','Letter1']].groupby(['Letter1']).count()\n",
        "letter1"
      ],
      "execution_count": 91,
      "outputs": [
        {
          "output_type": "execute_result",
          "data": {
            "text/html": [
              "<div>\n",
              "<style scoped>\n",
              "    .dataframe tbody tr th:only-of-type {\n",
              "        vertical-align: middle;\n",
              "    }\n",
              "\n",
              "    .dataframe tbody tr th {\n",
              "        vertical-align: top;\n",
              "    }\n",
              "\n",
              "    .dataframe thead th {\n",
              "        text-align: right;\n",
              "    }\n",
              "</style>\n",
              "<table border=\"1\" class=\"dataframe\">\n",
              "  <thead>\n",
              "    <tr style=\"text-align: right;\">\n",
              "      <th></th>\n",
              "      <th>posts</th>\n",
              "    </tr>\n",
              "    <tr>\n",
              "      <th>Letter1</th>\n",
              "      <th></th>\n",
              "    </tr>\n",
              "  </thead>\n",
              "  <tbody>\n",
              "    <tr>\n",
              "      <th>E</th>\n",
              "      <td>96550</td>\n",
              "    </tr>\n",
              "    <tr>\n",
              "      <th>I</th>\n",
              "      <td>322505</td>\n",
              "    </tr>\n",
              "  </tbody>\n",
              "</table>\n",
              "</div>"
            ],
            "text/plain": [
              "          posts\n",
              "Letter1        \n",
              "E         96550\n",
              "I        322505"
            ]
          },
          "metadata": {
            "tags": []
          },
          "execution_count": 91
        }
      ]
    },
    {
      "cell_type": "code",
      "metadata": {
        "colab": {
          "base_uri": "https://localhost:8080/",
          "height": 0
        },
        "id": "0uDua2ufKkUs",
        "outputId": "c1966f32-3a7e-48b1-db08-0bcbfbe2f2c6"
      },
      "source": [
        "plt.figure(figsize = (12,4))\n",
        "plt.bar(('Extroverts', 'Introverts'), height = letter1['posts'])\n",
        "plt.xlabel('Personality types', size = 14)\n",
        "plt.ylabel('No. of posts', size = 14)\n",
        "plt.title('Total posts per each letter')"
      ],
      "execution_count": 92,
      "outputs": [
        {
          "output_type": "execute_result",
          "data": {
            "text/plain": [
              "Text(0.5, 1.0, 'Total posts per each letter')"
            ]
          },
          "metadata": {
            "tags": []
          },
          "execution_count": 92
        },
        {
          "output_type": "display_data",
          "data": {
            "image/png": "[encoded data removed]",
            "text/plain": [
              "<Figure size 864x288 with 1 Axes>"
            ]
          },
          "metadata": {
            "tags": [],
            "needs_background": "light"
          }
        }
      ]
    },
    {
      "cell_type": "code",
      "metadata": {
        "colab": {
          "base_uri": "https://localhost:8080/",
          "height": 0
        },
        "id": "T9OGCjKZVci-",
        "outputId": "19e4df5b-5542-45e8-d892-edd72b1e3b3d"
      },
      "source": [
        "letter2 = df[['posts','Letter2']].groupby(['Letter2']).count()\n",
        "letter2"
      ],
      "execution_count": 93,
      "outputs": [
        {
          "output_type": "execute_result",
          "data": {
            "text/html": [
              "<div>\n",
              "<style scoped>\n",
              "    .dataframe tbody tr th:only-of-type {\n",
              "        vertical-align: middle;\n",
              "    }\n",
              "\n",
              "    .dataframe tbody tr th {\n",
              "        vertical-align: top;\n",
              "    }\n",
              "\n",
              "    .dataframe thead th {\n",
              "        text-align: right;\n",
              "    }\n",
              "</style>\n",
              "<table border=\"1\" class=\"dataframe\">\n",
              "  <thead>\n",
              "    <tr style=\"text-align: right;\">\n",
              "      <th></th>\n",
              "      <th>posts</th>\n",
              "    </tr>\n",
              "    <tr>\n",
              "      <th>Letter2</th>\n",
              "      <th></th>\n",
              "    </tr>\n",
              "  </thead>\n",
              "  <tbody>\n",
              "    <tr>\n",
              "      <th>N</th>\n",
              "      <td>361537</td>\n",
              "    </tr>\n",
              "    <tr>\n",
              "      <th>S</th>\n",
              "      <td>57518</td>\n",
              "    </tr>\n",
              "  </tbody>\n",
              "</table>\n",
              "</div>"
            ],
            "text/plain": [
              "          posts\n",
              "Letter2        \n",
              "N        361537\n",
              "S         57518"
            ]
          },
          "metadata": {
            "tags": []
          },
          "execution_count": 93
        }
      ]
    },
    {
      "cell_type": "code",
      "metadata": {
        "colab": {
          "base_uri": "https://localhost:8080/",
          "height": 0
        },
        "id": "G2-qafVsVj7z",
        "outputId": "3b31443f-9f58-4c23-ef90-7570aafbadee"
      },
      "source": [
        "plt.figure(figsize = (12,4))\n",
        "plt.bar(('Intuitives', 'Sensors'), height = letter2['posts'])\n",
        "plt.xlabel('Personality types', size = 14)\n",
        "plt.ylabel('No. of posts', size = 14)\n",
        "plt.title('Total posts per each letter')"
      ],
      "execution_count": 94,
      "outputs": [
        {
          "output_type": "execute_result",
          "data": {
            "text/plain": [
              "Text(0.5, 1.0, 'Total posts per each letter')"
            ]
          },
          "metadata": {
            "tags": []
          },
          "execution_count": 94
        },
        {
          "output_type": "display_data",
          "data": {
            "image/png": "[encoded data removed]",
            "text/plain": [
              "<Figure size 864x288 with 1 Axes>"
            ]
          },
          "metadata": {
            "tags": [],
            "needs_background": "light"
          }
        }
      ]
    },
    {
      "cell_type": "code",
      "metadata": {
        "colab": {
          "base_uri": "https://localhost:8080/",
          "height": 0
        },
        "id": "XESEELKQVqIB",
        "outputId": "d5b20181-de71-47c2-d618-a8b4e189b0c7"
      },
      "source": [
        "letter3 = df[['posts','Letter3']].groupby(['Letter3']).count()\n",
        "letter3"
      ],
      "execution_count": 95,
      "outputs": [
        {
          "output_type": "execute_result",
          "data": {
            "text/html": [
              "<div>\n",
              "<style scoped>\n",
              "    .dataframe tbody tr th:only-of-type {\n",
              "        vertical-align: middle;\n",
              "    }\n",
              "\n",
              "    .dataframe tbody tr th {\n",
              "        vertical-align: top;\n",
              "    }\n",
              "\n",
              "    .dataframe thead th {\n",
              "        text-align: right;\n",
              "    }\n",
              "</style>\n",
              "<table border=\"1\" class=\"dataframe\">\n",
              "  <thead>\n",
              "    <tr style=\"text-align: right;\">\n",
              "      <th></th>\n",
              "      <th>posts</th>\n",
              "    </tr>\n",
              "    <tr>\n",
              "      <th>Letter3</th>\n",
              "      <th></th>\n",
              "    </tr>\n",
              "  </thead>\n",
              "  <tbody>\n",
              "    <tr>\n",
              "      <th>F</th>\n",
              "      <td>227253</td>\n",
              "    </tr>\n",
              "    <tr>\n",
              "      <th>T</th>\n",
              "      <td>191802</td>\n",
              "    </tr>\n",
              "  </tbody>\n",
              "</table>\n",
              "</div>"
            ],
            "text/plain": [
              "          posts\n",
              "Letter3        \n",
              "F        227253\n",
              "T        191802"
            ]
          },
          "metadata": {
            "tags": []
          },
          "execution_count": 95
        }
      ]
    },
    {
      "cell_type": "code",
      "metadata": {
        "colab": {
          "base_uri": "https://localhost:8080/",
          "height": 0
        },
        "id": "CLkCEDkiVwAA",
        "outputId": "ab3af729-9e01-49fd-a52b-5539dfa06698"
      },
      "source": [
        "plt.figure(figsize = (12,4))\n",
        "plt.bar(('Feelers', 'Thinkers'), height = letter3['posts'])\n",
        "plt.xlabel('Personality types', size = 14)\n",
        "plt.ylabel('No. of posts', size = 14)\n",
        "plt.title('Total posts per each letter')"
      ],
      "execution_count": 96,
      "outputs": [
        {
          "output_type": "execute_result",
          "data": {
            "text/plain": [
              "Text(0.5, 1.0, 'Total posts per each letter')"
            ]
          },
          "metadata": {
            "tags": []
          },
          "execution_count": 96
        },
        {
          "output_type": "display_data",
          "data": {
            "image/png": "[encoded data removed]",
            "text/plain": [
              "<Figure size 864x288 with 1 Axes>"
            ]
          },
          "metadata": {
            "tags": [],
            "needs_background": "light"
          }
        }
      ]
    },
    {
      "cell_type": "code",
      "metadata": {
        "colab": {
          "base_uri": "https://localhost:8080/",
          "height": 0
        },
        "id": "7xrEVF9-V2pG",
        "outputId": "39a4eff5-901c-47bd-d5db-b6e569fc1f0d"
      },
      "source": [
        "letter4 = df[['posts','Letter4']].groupby(['Letter4']).count()\n",
        "letter4"
      ],
      "execution_count": 97,
      "outputs": [
        {
          "output_type": "execute_result",
          "data": {
            "text/html": [
              "<div>\n",
              "<style scoped>\n",
              "    .dataframe tbody tr th:only-of-type {\n",
              "        vertical-align: middle;\n",
              "    }\n",
              "\n",
              "    .dataframe tbody tr th {\n",
              "        vertical-align: top;\n",
              "    }\n",
              "\n",
              "    .dataframe thead th {\n",
              "        text-align: right;\n",
              "    }\n",
              "</style>\n",
              "<table border=\"1\" class=\"dataframe\">\n",
              "  <thead>\n",
              "    <tr style=\"text-align: right;\">\n",
              "      <th></th>\n",
              "      <th>posts</th>\n",
              "    </tr>\n",
              "    <tr>\n",
              "      <th>Letter4</th>\n",
              "      <th></th>\n",
              "    </tr>\n",
              "  </thead>\n",
              "  <tbody>\n",
              "    <tr>\n",
              "      <th>J</th>\n",
              "      <td>165684</td>\n",
              "    </tr>\n",
              "    <tr>\n",
              "      <th>P</th>\n",
              "      <td>253371</td>\n",
              "    </tr>\n",
              "  </tbody>\n",
              "</table>\n",
              "</div>"
            ],
            "text/plain": [
              "          posts\n",
              "Letter4        \n",
              "J        165684\n",
              "P        253371"
            ]
          },
          "metadata": {
            "tags": []
          },
          "execution_count": 97
        }
      ]
    },
    {
      "cell_type": "code",
      "metadata": {
        "colab": {
          "base_uri": "https://localhost:8080/",
          "height": 0
        },
        "id": "9GNWs1UcV6A0",
        "outputId": "19d45e7a-b61e-493e-f2ff-a5418c5eadcd"
      },
      "source": [
        "plt.figure(figsize = (12,4))\n",
        "plt.bar(('Judgers', 'Perceivers'), height = letter4['posts'])\n",
        "plt.xlabel('Personality types', size = 14)\n",
        "plt.ylabel('No. of posts', size = 14)\n",
        "plt.title('Total posts per each letter')"
      ],
      "execution_count": 98,
      "outputs": [
        {
          "output_type": "execute_result",
          "data": {
            "text/plain": [
              "Text(0.5, 1.0, 'Total posts per each letter')"
            ]
          },
          "metadata": {
            "tags": []
          },
          "execution_count": 98
        },
        {
          "output_type": "display_data",
          "data": {
            "image/png": "[encoded data removed]",
            "text/plain": [
              "<Figure size 864x288 with 1 Axes>"
            ]
          },
          "metadata": {
            "tags": [],
            "needs_background": "light"
          }
        }
      ]
    },
    {
      "cell_type": "markdown",
      "metadata": {
        "id": "lt2r6n6pRLlG"
      },
      "source": [
        "## Posts Preprocessing"
      ]
    },
    {
      "cell_type": "markdown",
      "metadata": {
        "id": "fCVfh6qpkRnC"
      },
      "source": [
        "Delete all the links, tokenize the posts, turn them into lowercase, eliminate punctuation and stopwords, apply stemming."
      ]
    },
    {
      "cell_type": "code",
      "metadata": {
        "colab": {
          "base_uri": "https://localhost:8080/"
        },
        "id": "_jQZs34Gd9Nc",
        "outputId": "5687e00a-ca9a-4a4e-e108-c0427c29dbfe"
      },
      "source": [
        "import nltk\n",
        "nltk.download('stopwords')\n",
        "import nltk\n",
        "from nltk.corpus import stopwords\n",
        "stop = stopwords.words('english')\n",
        "from nltk.stem import PorterStemmer\n",
        "porter = PorterStemmer()"
      ],
      "execution_count": 99,
      "outputs": [
        {
          "output_type": "stream",
          "text": [
            "[nltk_data] Downloading package stopwords to /root/nltk_data...\n",
            "[nltk_data]   Package stopwords is already up-to-date!\n"
          ],
          "name": "stdout"
        }
      ]
    },
    {
      "cell_type": "code",
      "metadata": {
        "id": "6tsa4kUNb_xC"
      },
      "source": [
        "import re\n",
        "from nltk.tokenize import RegexpTokenizer\n",
        "tokenizer = RegexpTokenizer(r'\\w+')\n",
        "regex = '(http|ftp|https)://([\\w_-]+(?:(?:\\.[\\w_-]+)+))([\\w.,@?^=%&:/~+#-]*[\\w@?^=%&/~+#-])?'\n",
        "df['posts'] = df['posts'].replace(to_replace = regex, value = np.NaN, regex=True)\n",
        "df = df.dropna()\n",
        "posts = df['posts'].values\n",
        "for i in range(len(posts)):\n",
        "  posts[i] = ' '.join([porter.stem(word.lower()) for word in tokenizer.tokenize(posts[i]) if word.lower() not in stop])\n",
        "df['posts'] = posts"
      ],
      "execution_count": 100,
      "outputs": []
    },
    {
      "cell_type": "markdown",
      "metadata": {
        "id": "Q_IIfGxrzh8L"
      },
      "source": [
        "Visualize the dataframe:\n"
      ]
    },
    {
      "cell_type": "code",
      "metadata": {
        "colab": {
          "base_uri": "https://localhost:8080/",
          "height": 0
        },
        "id": "bDMH-ANDeXoa",
        "outputId": "a6cc22e6-1312-4dde-af7e-5636181ece6c"
      },
      "source": [
        "df.head()"
      ],
      "execution_count": 101,
      "outputs": [
        {
          "output_type": "execute_result",
          "data": {
            "text/html": [
              "<div>\n",
              "<style scoped>\n",
              "    .dataframe tbody tr th:only-of-type {\n",
              "        vertical-align: middle;\n",
              "    }\n",
              "\n",
              "    .dataframe tbody tr th {\n",
              "        vertical-align: top;\n",
              "    }\n",
              "\n",
              "    .dataframe thead th {\n",
              "        text-align: right;\n",
              "    }\n",
              "</style>\n",
              "<table border=\"1\" class=\"dataframe\">\n",
              "  <thead>\n",
              "    <tr style=\"text-align: right;\">\n",
              "      <th></th>\n",
              "      <th>posts</th>\n",
              "      <th>Letter1</th>\n",
              "      <th>Letter2</th>\n",
              "      <th>Letter3</th>\n",
              "      <th>Letter4</th>\n",
              "    </tr>\n",
              "  </thead>\n",
              "  <tbody>\n",
              "    <tr>\n",
              "      <th>3</th>\n",
              "      <td>life chang experi life</td>\n",
              "      <td>I</td>\n",
              "      <td>N</td>\n",
              "      <td>F</td>\n",
              "      <td>J</td>\n",
              "    </tr>\n",
              "    <tr>\n",
              "      <th>5</th>\n",
              "      <td>may perc experi immers</td>\n",
              "      <td>I</td>\n",
              "      <td>N</td>\n",
              "      <td>F</td>\n",
              "      <td>J</td>\n",
              "    </tr>\n",
              "    <tr>\n",
              "      <th>7</th>\n",
              "      <td>hello enfj7 sorri hear distress natur relation...</td>\n",
              "      <td>I</td>\n",
              "      <td>N</td>\n",
              "      <td>F</td>\n",
              "      <td>J</td>\n",
              "    </tr>\n",
              "    <tr>\n",
              "      <th>9</th>\n",
              "      <td>welcom stuff</td>\n",
              "      <td>I</td>\n",
              "      <td>N</td>\n",
              "      <td>F</td>\n",
              "      <td>J</td>\n",
              "    </tr>\n",
              "    <tr>\n",
              "      <th>11</th>\n",
              "      <td>prozac wellbrutin least thirti minut move leg ...</td>\n",
              "      <td>I</td>\n",
              "      <td>N</td>\n",
              "      <td>F</td>\n",
              "      <td>J</td>\n",
              "    </tr>\n",
              "  </tbody>\n",
              "</table>\n",
              "</div>"
            ],
            "text/plain": [
              "                                                posts Letter1  ... Letter3 Letter4\n",
              "3                              life chang experi life       I  ...       F       J\n",
              "5                              may perc experi immers       I  ...       F       J\n",
              "7   hello enfj7 sorri hear distress natur relation...       I  ...       F       J\n",
              "9                                        welcom stuff       I  ...       F       J\n",
              "11  prozac wellbrutin least thirti minut move leg ...       I  ...       F       J\n",
              "\n",
              "[5 rows x 5 columns]"
            ]
          },
          "metadata": {
            "tags": []
          },
          "execution_count": 101
        }
      ]
    },
    {
      "cell_type": "code",
      "metadata": {
        "colab": {
          "base_uri": "https://localhost:8080/",
          "height": 0
        },
        "id": "Xm-rUdd_r6DC",
        "outputId": "650a0d7d-992a-4605-a055-ac87e9961334"
      },
      "source": [
        "df.tail()"
      ],
      "execution_count": 102,
      "outputs": [
        {
          "output_type": "execute_result",
          "data": {
            "text/html": [
              "<div>\n",
              "<style scoped>\n",
              "    .dataframe tbody tr th:only-of-type {\n",
              "        vertical-align: middle;\n",
              "    }\n",
              "\n",
              "    .dataframe tbody tr th {\n",
              "        vertical-align: top;\n",
              "    }\n",
              "\n",
              "    .dataframe thead th {\n",
              "        text-align: right;\n",
              "    }\n",
              "</style>\n",
              "<table border=\"1\" class=\"dataframe\">\n",
              "  <thead>\n",
              "    <tr style=\"text-align: right;\">\n",
              "      <th></th>\n",
              "      <th>posts</th>\n",
              "      <th>Letter1</th>\n",
              "      <th>Letter2</th>\n",
              "      <th>Letter3</th>\n",
              "      <th>Letter4</th>\n",
              "    </tr>\n",
              "  </thead>\n",
              "  <tbody>\n",
              "    <tr>\n",
              "      <th>422840</th>\n",
              "      <td>go close facebook month back well want abl mes...</td>\n",
              "      <td>I</td>\n",
              "      <td>N</td>\n",
              "      <td>F</td>\n",
              "      <td>P</td>\n",
              "    </tr>\n",
              "    <tr>\n",
              "      <th>422841</th>\n",
              "      <td>30 second mar collect seem fit mood right</td>\n",
              "      <td>I</td>\n",
              "      <td>N</td>\n",
              "      <td>F</td>\n",
              "      <td>P</td>\n",
              "    </tr>\n",
              "    <tr>\n",
              "      <th>422842</th>\n",
              "      <td>seen agre actual think first time watch movi b...</td>\n",
              "      <td>I</td>\n",
              "      <td>N</td>\n",
              "      <td>F</td>\n",
              "      <td>P</td>\n",
              "    </tr>\n",
              "    <tr>\n",
              "      <th>422843</th>\n",
              "      <td>ok watch underworld 4 awaken must say realli g...</td>\n",
              "      <td>I</td>\n",
              "      <td>N</td>\n",
              "      <td>F</td>\n",
              "      <td>P</td>\n",
              "    </tr>\n",
              "    <tr>\n",
              "      <th>422844</th>\n",
              "      <td>would never want turn emot sometim hide world ...</td>\n",
              "      <td>I</td>\n",
              "      <td>N</td>\n",
              "      <td>F</td>\n",
              "      <td>P</td>\n",
              "    </tr>\n",
              "  </tbody>\n",
              "</table>\n",
              "</div>"
            ],
            "text/plain": [
              "                                                    posts  ... Letter4\n",
              "422840  go close facebook month back well want abl mes...  ...       P\n",
              "422841          30 second mar collect seem fit mood right  ...       P\n",
              "422842  seen agre actual think first time watch movi b...  ...       P\n",
              "422843  ok watch underworld 4 awaken must say realli g...  ...       P\n",
              "422844  would never want turn emot sometim hide world ...  ...       P\n",
              "\n",
              "[5 rows x 5 columns]"
            ]
          },
          "metadata": {
            "tags": []
          },
          "execution_count": 102
        }
      ]
    },
    {
      "cell_type": "markdown",
      "metadata": {
        "id": "FOyG8p8YRwa9"
      },
      "source": [
        "### Analysis of the most frecvent words"
      ]
    },
    {
      "cell_type": "markdown",
      "metadata": {
        "id": "Y6-L3Iyms62_"
      },
      "source": [
        "Analyze the Frequency Distribution:"
      ]
    },
    {
      "cell_type": "code",
      "metadata": {
        "id": "I-_WjGcBOE1y"
      },
      "source": [
        "import nltk\n",
        "import pandas as pd\n",
        "from nltk.probability import FreqDist\n",
        "import matplotlib.pyplot as plt\n",
        "import seaborn as sns\n",
        "def counter(text, column_text, quantity, title):\n",
        "    frequency = nltk.FreqDist(' '.join(list(text[column_text].apply(lambda x: ' '.join(x.split())))).split())  \n",
        "    df_frequency = pd.DataFrame({\"Word\": list(frequency.keys()),\n",
        "                                   \"Frequency\": list(frequency.values())})\n",
        "    df_frequency = df_frequency.nlargest(columns = \"Frequency\", n = quantity)\n",
        "    plt.figure(figsize=(12,8))\n",
        "    ax = sns.barplot(data = df_frequency, x = \"Word\", y = \"Frequency\", color = 'blue')\n",
        "    ax.set(ylabel = \"Count\")\n",
        "    plt.xticks(rotation='vertical')\n",
        "    plt.title(title)\n",
        "    plt.show()"
      ],
      "execution_count": 103,
      "outputs": []
    },
    {
      "cell_type": "markdown",
      "metadata": {
        "id": "B6KRjPQntaLW"
      },
      "source": [
        "The graphics of frequency:"
      ]
    },
    {
      "cell_type": "code",
      "metadata": {
        "colab": {
          "base_uri": "https://localhost:8080/",
          "height": 0
        },
        "id": "rjAO3xBsqoF4",
        "outputId": "32fea729-6535-41b6-e2c5-845d814d1865"
      },
      "source": [
        "counter(df[df['Letter1'].str.contains(\"I\")], 'posts', 10, 'Most frecvent words for Introverts')"
      ],
      "execution_count": 104,
      "outputs": [
        {
          "output_type": "display_data",
          "data": {
            "image/png": "[encoded data removed]",
            "text/plain": [
              "<Figure size 864x576 with 1 Axes>"
            ]
          },
          "metadata": {
            "tags": [],
            "needs_background": "light"
          }
        }
      ]
    },
    {
      "cell_type": "code",
      "metadata": {
        "id": "L1JUoSZ8rNUj",
        "colab": {
          "base_uri": "https://localhost:8080/",
          "height": 0
        },
        "outputId": "5e4776e3-b65d-4f0e-8a7e-c034812ce48f"
      },
      "source": [
        "counter(df[df['Letter1'].str.contains(\"E\")], 'posts', 10, 'Most frecvent words for Extroverts')"
      ],
      "execution_count": 105,
      "outputs": [
        {
          "output_type": "display_data",
          "data": {
            "image/png": "[encoded data removed]",
            "text/plain": [
              "<Figure size 864x576 with 1 Axes>"
            ]
          },
          "metadata": {
            "tags": [],
            "needs_background": "light"
          }
        }
      ]
    },
    {
      "cell_type": "code",
      "metadata": {
        "id": "ewo4gm7_rYlR",
        "colab": {
          "base_uri": "https://localhost:8080/",
          "height": 0
        },
        "outputId": "d9f199b9-caa4-4643-937d-d36a5a01ebdb"
      },
      "source": [
        "counter(df[df['Letter2'].str.contains(\"N\")], 'posts', 10, 'Most frecvent words for Intuitives')"
      ],
      "execution_count": 106,
      "outputs": [
        {
          "output_type": "display_data",
          "data": {
            "image/png": "[encoded data removed]",
            "text/plain": [
              "<Figure size 864x576 with 1 Axes>"
            ]
          },
          "metadata": {
            "tags": [],
            "needs_background": "light"
          }
        }
      ]
    },
    {
      "cell_type": "code",
      "metadata": {
        "id": "96TZ_Nm_raWe",
        "colab": {
          "base_uri": "https://localhost:8080/",
          "height": 0
        },
        "outputId": "6aeff990-0302-4c53-e4f4-16ff32d8d044"
      },
      "source": [
        "counter(df[df['Letter2'].str.contains(\"S\")], 'posts', 10, 'Most frecvent words for Sensors')"
      ],
      "execution_count": 107,
      "outputs": [
        {
          "output_type": "display_data",
          "data": {
            "image/png": "[encoded data removed]",
            "text/plain": [
              "<Figure size 864x576 with 1 Axes>"
            ]
          },
          "metadata": {
            "tags": [],
            "needs_background": "light"
          }
        }
      ]
    },
    {
      "cell_type": "code",
      "metadata": {
        "id": "_TDxoQ0grcRp",
        "colab": {
          "base_uri": "https://localhost:8080/",
          "height": 0
        },
        "outputId": "f9156ea4-852e-434c-de7c-b2e577ced7c7"
      },
      "source": [
        "counter(df[df['Letter3'].str.contains(\"T\")], 'posts', 10, 'Most frecvent words for Thinkers')"
      ],
      "execution_count": 108,
      "outputs": [
        {
          "output_type": "display_data",
          "data": {
            "image/png": "[encoded data removed]",
            "text/plain": [
              "<Figure size 864x576 with 1 Axes>"
            ]
          },
          "metadata": {
            "tags": [],
            "needs_background": "light"
          }
        }
      ]
    },
    {
      "cell_type": "code",
      "metadata": {
        "id": "l0Oj_zFMrhAO",
        "colab": {
          "base_uri": "https://localhost:8080/",
          "height": 0
        },
        "outputId": "7830b64a-255d-490d-83df-f1c5224c226d"
      },
      "source": [
        "counter(df[df['Letter3'].str.contains(\"F\")], 'posts', 10, 'Most frecvent words for Feelers')"
      ],
      "execution_count": 109,
      "outputs": [
        {
          "output_type": "display_data",
          "data": {
            "image/png": "[encoded data removed]",
            "text/plain": [
              "<Figure size 864x576 with 1 Axes>"
            ]
          },
          "metadata": {
            "tags": [],
            "needs_background": "light"
          }
        }
      ]
    },
    {
      "cell_type": "code",
      "metadata": {
        "id": "fznObpRDrihO",
        "colab": {
          "base_uri": "https://localhost:8080/",
          "height": 0
        },
        "outputId": "0fb34527-727b-4213-c99e-13cd285300b8"
      },
      "source": [
        "counter(df[df['Letter4'].str.contains(\"J\")], 'posts', 10, 'Most frecvent words for Judgers')"
      ],
      "execution_count": 110,
      "outputs": [
        {
          "output_type": "display_data",
          "data": {
            "image/png": "[encoded data removed]",
            "text/plain": [
              "<Figure size 864x576 with 1 Axes>"
            ]
          },
          "metadata": {
            "tags": [],
            "needs_background": "light"
          }
        }
      ]
    },
    {
      "cell_type": "code",
      "metadata": {
        "id": "nLddyomrrn9m",
        "colab": {
          "base_uri": "https://localhost:8080/",
          "height": 0
        },
        "outputId": "a1b548f4-ffba-4f4b-c1c7-68fe0aeba36c"
      },
      "source": [
        "counter(df[df['Letter4'].str.contains(\"P\")], 'posts', 10, 'Most frecvent words for Percievers')"
      ],
      "execution_count": 111,
      "outputs": [
        {
          "output_type": "display_data",
          "data": {
            "image/png": "[encoded data removed]",
            "text/plain": [
              "<Figure size 864x576 with 1 Axes>"
            ]
          },
          "metadata": {
            "tags": [],
            "needs_background": "light"
          }
        }
      ]
    },
    {
      "cell_type": "code",
      "metadata": {
        "id": "OhzrU1WztYpP",
        "colab": {
          "base_uri": "https://localhost:8080/",
          "height": 0
        },
        "outputId": "54d6a80b-5b60-45be-a3ae-be9ade818ab2"
      },
      "source": [
        "counter(df, 'posts', 20, 'Most frecvent words in the whole dataset')"
      ],
      "execution_count": 112,
      "outputs": [
        {
          "output_type": "display_data",
          "data": {
            "image/png": "[encoded data removed]",
            "text/plain": [
              "<Figure size 864x576 with 1 Axes>"
            ]
          },
          "metadata": {
            "tags": [],
            "needs_background": "light"
          }
        }
      ]
    },
    {
      "cell_type": "markdown",
      "metadata": {
        "id": "om2xTvRLcwim"
      },
      "source": [
        "## Modeling"
      ]
    },
    {
      "cell_type": "markdown",
      "metadata": {
        "id": "5WEgDZ771ikt"
      },
      "source": [
        "Import the necessary libraries:"
      ]
    },
    {
      "cell_type": "code",
      "metadata": {
        "id": "n-S_T9bMjCs-"
      },
      "source": [
        "from sklearn.pipeline import Pipeline\n",
        "from sklearn.feature_extraction.text import TfidfVectorizer\n",
        "from sklearn.metrics import accuracy_score\n",
        "from sklearn import metrics\n",
        "from sklearn.model_selection import train_test_split\n",
        "from sklearn.ensemble import RandomForestClassifier\n",
        "from sklearn.metrics import plot_confusion_matrix\n",
        "from joblib import dump, load"
      ],
      "execution_count": 113,
      "outputs": []
    },
    {
      "cell_type": "markdown",
      "metadata": {
        "id": "AXTNOq_Fl8xi"
      },
      "source": [
        "### Model for the 1st pair"
      ]
    },
    {
      "cell_type": "markdown",
      "metadata": {
        "id": "rz75C_DC86OA"
      },
      "source": [
        "Our dataset is unbalanced, so we're going to undersample the majority class."
      ]
    },
    {
      "cell_type": "code",
      "metadata": {
        "colab": {
          "base_uri": "https://localhost:8080/"
        },
        "id": "dfNXuHnF8-AQ",
        "outputId": "f6b17a5f-115e-4364-9375-44528689362d"
      },
      "source": [
        "class_count_I, class_count_E = df['Letter1'].value_counts()\n",
        "class_I = df[df['Letter1'] == 'I']\n",
        "class_E = df[df['Letter1'] == 'E']\n",
        "print('I:', class_I.shape)\n",
        "print('E:', class_E.shape)"
      ],
      "execution_count": null,
      "outputs": [
        {
          "output_type": "stream",
          "text": [
            "I: (301904, 5)\n",
            "E: (92075, 5)\n"
          ],
          "name": "stdout"
        }
      ]
    },
    {
      "cell_type": "code",
      "metadata": {
        "colab": {
          "base_uri": "https://localhost:8080/",
          "height": 346
        },
        "id": "RTbcEDV69Bp0",
        "outputId": "98861e96-0b04-45de-8bd5-684097444ca9"
      },
      "source": [
        "class_I_under = class_I.sample(class_count_E)\n",
        "test_under1 = pd.concat([class_I_under, class_E], axis=0)\n",
        "print(\"total class of E and I:\", test_under1['Letter1'].value_counts())\n",
        "test_under1['Letter1'].value_counts().plot(kind='bar', title='count Letter1')"
      ],
      "execution_count": null,
      "outputs": [
        {
          "output_type": "stream",
          "text": [
            "total class of E and I: I    92075\n",
            "E    92075\n",
            "Name: Letter1, dtype: int64\n"
          ],
          "name": "stdout"
        },
        {
          "output_type": "execute_result",
          "data": {
            "text/plain": [
              "<matplotlib.axes._subplots.AxesSubplot at 0x7f4764ccaf50>"
            ]
          },
          "metadata": {
            "tags": []
          },
          "execution_count": 45
        },
        {
          "output_type": "display_data",
          "data": {
            "image/png": "[encoded data removed]",
            "text/plain": [
              "<Figure size 432x288 with 1 Axes>"
            ]
          },
          "metadata": {
            "tags": [],
            "needs_background": "light"
          }
        }
      ]
    },
    {
      "cell_type": "markdown",
      "metadata": {
        "id": "tXZ1Rv0Rl__r"
      },
      "source": [
        "Create the necessary dataframe and shuffle it:"
      ]
    },
    {
      "cell_type": "code",
      "metadata": {
        "colab": {
          "base_uri": "https://localhost:8080/",
          "height": 419
        },
        "id": "oKWRzeJvmA_7",
        "outputId": "f3e0ef8f-f153-49d2-9555-3092dc13968d"
      },
      "source": [
        "df1 = test_under1[['posts', 'Letter1']]\n",
        "df1 = df1.sample(frac = 1)\n",
        "df1"
      ],
      "execution_count": null,
      "outputs": [
        {
          "output_type": "execute_result",
          "data": {
            "text/html": [
              "<div>\n",
              "<style scoped>\n",
              "    .dataframe tbody tr th:only-of-type {\n",
              "        vertical-align: middle;\n",
              "    }\n",
              "\n",
              "    .dataframe tbody tr th {\n",
              "        vertical-align: top;\n",
              "    }\n",
              "\n",
              "    .dataframe thead th {\n",
              "        text-align: right;\n",
              "    }\n",
              "</style>\n",
              "<table border=\"1\" class=\"dataframe\">\n",
              "  <thead>\n",
              "    <tr style=\"text-align: right;\">\n",
              "      <th></th>\n",
              "      <th>posts</th>\n",
              "      <th>Letter1</th>\n",
              "    </tr>\n",
              "  </thead>\n",
              "  <tbody>\n",
              "    <tr>\n",
              "      <th>20827</th>\n",
              "      <td>sympathi op express multipl time mean instig h...</td>\n",
              "      <td>I</td>\n",
              "    </tr>\n",
              "    <tr>\n",
              "      <th>68568</th>\n",
              "      <td>stop treat like free agent figur pattern think...</td>\n",
              "      <td>I</td>\n",
              "    </tr>\n",
              "    <tr>\n",
              "      <th>155165</th>\n",
              "      <td>rather entp analyz lot pro f j want complet ch...</td>\n",
              "      <td>I</td>\n",
              "    </tr>\n",
              "    <tr>\n",
              "      <th>282840</th>\n",
              "      <td>first person type enfj relationship istj end s...</td>\n",
              "      <td>E</td>\n",
              "    </tr>\n",
              "    <tr>\n",
              "      <th>203833</th>\n",
              "      <td>would actual creepi way make sound like someth...</td>\n",
              "      <td>I</td>\n",
              "    </tr>\n",
              "    <tr>\n",
              "      <th>...</th>\n",
              "      <td>...</td>\n",
              "      <td>...</td>\n",
              "    </tr>\n",
              "    <tr>\n",
              "      <th>323014</th>\n",
              "      <td>ad illustr also occasion storyboard artist eve...</td>\n",
              "      <td>I</td>\n",
              "    </tr>\n",
              "    <tr>\n",
              "      <th>155755</th>\n",
              "      <td>watch movi familiar concept believ would prove...</td>\n",
              "      <td>E</td>\n",
              "    </tr>\n",
              "    <tr>\n",
              "      <th>400475</th>\n",
              "      <td>let go 7w6 focu wondrou interest part life alm...</td>\n",
              "      <td>I</td>\n",
              "    </tr>\n",
              "    <tr>\n",
              "      <th>389972</th>\n",
              "      <td>shower hassl interrupt day great go find hot s...</td>\n",
              "      <td>I</td>\n",
              "    </tr>\n",
              "    <tr>\n",
              "      <th>150805</th>\n",
              "      <td>want go nurs cope sight blood needl limit opti...</td>\n",
              "      <td>E</td>\n",
              "    </tr>\n",
              "  </tbody>\n",
              "</table>\n",
              "<p>184150 rows × 2 columns</p>\n",
              "</div>"
            ],
            "text/plain": [
              "                                                    posts Letter1\n",
              "20827   sympathi op express multipl time mean instig h...       I\n",
              "68568   stop treat like free agent figur pattern think...       I\n",
              "155165  rather entp analyz lot pro f j want complet ch...       I\n",
              "282840  first person type enfj relationship istj end s...       E\n",
              "203833  would actual creepi way make sound like someth...       I\n",
              "...                                                   ...     ...\n",
              "323014  ad illustr also occasion storyboard artist eve...       I\n",
              "155755  watch movi familiar concept believ would prove...       E\n",
              "400475  let go 7w6 focu wondrou interest part life alm...       I\n",
              "389972  shower hassl interrupt day great go find hot s...       I\n",
              "150805  want go nurs cope sight blood needl limit opti...       E\n",
              "\n",
              "[184150 rows x 2 columns]"
            ]
          },
          "metadata": {
            "tags": []
          },
          "execution_count": 46
        }
      ]
    },
    {
      "cell_type": "markdown",
      "metadata": {
        "id": "y9DotlAumGSP"
      },
      "source": [
        "Split the dataset into the train and test:"
      ]
    },
    {
      "cell_type": "code",
      "metadata": {
        "id": "wCMKb-IjmLFS"
      },
      "source": [
        "X1 = df1['posts']\n",
        "y1 = df1['Letter1']\n",
        "X_train1, X_test1, y_train1, y_test1 = train_test_split(X1, y1, test_size=0.33, random_state=42)"
      ],
      "execution_count": null,
      "outputs": []
    },
    {
      "cell_type": "markdown",
      "metadata": {
        "id": "l-58xJHWmRZq"
      },
      "source": [
        "Create the model:"
      ]
    },
    {
      "cell_type": "code",
      "metadata": {
        "id": "i72qmbm-mVH8"
      },
      "source": [
        "pipe1 = Pipeline([('vect', TfidfVectorizer()),\n",
        "                 ('model', RandomForestClassifier(n_estimators=50, criterion=\"entropy\", random_state = 2))])\n",
        "model1 = pipe1.fit(X_train1, y_train1)\n",
        "prediction1 = model1.predict(X_test1)"
      ],
      "execution_count": null,
      "outputs": []
    },
    {
      "cell_type": "markdown",
      "metadata": {
        "id": "m3Pylfv28yHI"
      },
      "source": [
        "Evaluate the model:"
      ]
    },
    {
      "cell_type": "code",
      "metadata": {
        "colab": {
          "base_uri": "https://localhost:8080/",
          "height": 449
        },
        "id": "YEZ0Z6ZZ7VLw",
        "outputId": "54d1d1de-bea4-4422-afb6-1ad6ecd14da7"
      },
      "source": [
        "print(\"accuracy: {}%\".format(round(accuracy_score(y_test1, prediction1)*100,2)))\n",
        "print(metrics.classification_report(y_test1, prediction1))\n",
        "plot_confusion_matrix(model1, X_test1, y_test1)  \n",
        "plt.show()"
      ],
      "execution_count": null,
      "outputs": [
        {
          "output_type": "stream",
          "text": [
            "accuracy: 56.66%\n",
            "              precision    recall  f1-score   support\n",
            "\n",
            "           E       0.57      0.55      0.56     30345\n",
            "           I       0.57      0.58      0.57     30425\n",
            "\n",
            "    accuracy                           0.57     60770\n",
            "   macro avg       0.57      0.57      0.57     60770\n",
            "weighted avg       0.57      0.57      0.57     60770\n",
            "\n"
          ],
          "name": "stdout"
        },
        {
          "output_type": "display_data",
          "data": {
            "image/png": "[encoded data removed]",
            "text/plain": [
              "<Figure size 432x288 with 2 Axes>"
            ]
          },
          "metadata": {
            "tags": [],
            "needs_background": "light"
          }
        }
      ]
    },
    {
      "cell_type": "markdown",
      "metadata": {
        "id": "ODlrh41F873R"
      },
      "source": [
        "Conclusion:\n",
        "\n",
        "We have obtained a model that has a 56,66% accuracy score."
      ]
    },
    {
      "cell_type": "markdown",
      "metadata": {
        "id": "ZPfr8c609dSL"
      },
      "source": [
        "Save the model:"
      ]
    },
    {
      "cell_type": "code",
      "metadata": {
        "colab": {
          "base_uri": "https://localhost:8080/"
        },
        "id": "Rk9tpIV9IOwO",
        "outputId": "cdb17b71-5d57-47e7-a381-60efa1c5b1be"
      },
      "source": [
        "dump(model1, '/content/gdrive/MyDrive/Personality prediction/Balanced Models/model1.joblib')"
      ],
      "execution_count": null,
      "outputs": [
        {
          "output_type": "execute_result",
          "data": {
            "text/plain": [
              "['/content/gdrive/MyDrive/Personality prediction/Balanced Models/model1.joblib']"
            ]
          },
          "metadata": {
            "tags": []
          },
          "execution_count": 50
        }
      ]
    },
    {
      "cell_type": "markdown",
      "metadata": {
        "id": "7q0qMhAPlDd5"
      },
      "source": [
        "### Model for the 2nd pair\n"
      ]
    },
    {
      "cell_type": "markdown",
      "metadata": {
        "id": "Vukb3GkC_7rH"
      },
      "source": [
        "Our dataset is unbalanced, so we're going to undersample the majority class."
      ]
    },
    {
      "cell_type": "code",
      "metadata": {
        "colab": {
          "base_uri": "https://localhost:8080/"
        },
        "id": "8597Zw7f_9ZZ",
        "outputId": "a8095b67-3452-4323-940e-5a7a8432af7a"
      },
      "source": [
        "class_count_N, class_count_S = df['Letter2'].value_counts()\n",
        "class_N = df[df['Letter2'] == 'N']\n",
        "class_S = df[df['Letter2'] == 'S']\n",
        "print('N:', class_N.shape)\n",
        "print('S:', class_S.shape)"
      ],
      "execution_count": null,
      "outputs": [
        {
          "output_type": "stream",
          "text": [
            "N: (340239, 5)\n",
            "S: (53740, 5)\n"
          ],
          "name": "stdout"
        }
      ]
    },
    {
      "cell_type": "code",
      "metadata": {
        "colab": {
          "base_uri": "https://localhost:8080/",
          "height": 347
        },
        "id": "lkapY4SoAVJ1",
        "outputId": "b8a59c42-6a6c-4d36-d3f6-25307264eb35"
      },
      "source": [
        "class_N_under = class_N.sample(class_count_S)\n",
        "test_under2 = pd.concat([class_N_under, class_S], axis=0)\n",
        "print(\"total class of S and N:\", test_under2['Letter2'].value_counts())\n",
        "test_under2['Letter2'].value_counts().plot(kind='bar', title='count Letter2')"
      ],
      "execution_count": null,
      "outputs": [
        {
          "output_type": "stream",
          "text": [
            "total class of S and N: N    53740\n",
            "S    53740\n",
            "Name: Letter2, dtype: int64\n"
          ],
          "name": "stdout"
        },
        {
          "output_type": "execute_result",
          "data": {
            "text/plain": [
              "<matplotlib.axes._subplots.AxesSubplot at 0x7f476635ff10>"
            ]
          },
          "metadata": {
            "tags": []
          },
          "execution_count": 52
        },
        {
          "output_type": "display_data",
          "data": {
            "image/png": "[encoded data removed]",
            "text/plain": [
              "<Figure size 432x288 with 1 Axes>"
            ]
          },
          "metadata": {
            "tags": [],
            "needs_background": "light"
          }
        }
      ]
    },
    {
      "cell_type": "markdown",
      "metadata": {
        "id": "ERLHAPt4lZfu"
      },
      "source": [
        "Create the necessary dataframe and shuffle it:"
      ]
    },
    {
      "cell_type": "code",
      "metadata": {
        "colab": {
          "base_uri": "https://localhost:8080/",
          "height": 419
        },
        "id": "EtHO5q_3lHmT",
        "outputId": "5e2bcbcd-f58b-4abb-f86f-4ba1924da0ba"
      },
      "source": [
        "df2 = test_under2[['posts', 'Letter2']]\n",
        "df2 = df2.sample(frac = 1)\n",
        "df2"
      ],
      "execution_count": null,
      "outputs": [
        {
          "output_type": "execute_result",
          "data": {
            "text/html": [
              "<div>\n",
              "<style scoped>\n",
              "    .dataframe tbody tr th:only-of-type {\n",
              "        vertical-align: middle;\n",
              "    }\n",
              "\n",
              "    .dataframe tbody tr th {\n",
              "        vertical-align: top;\n",
              "    }\n",
              "\n",
              "    .dataframe thead th {\n",
              "        text-align: right;\n",
              "    }\n",
              "</style>\n",
              "<table border=\"1\" class=\"dataframe\">\n",
              "  <thead>\n",
              "    <tr style=\"text-align: right;\">\n",
              "      <th></th>\n",
              "      <th>posts</th>\n",
              "      <th>Letter2</th>\n",
              "    </tr>\n",
              "  </thead>\n",
              "  <tbody>\n",
              "    <tr>\n",
              "      <th>293287</th>\n",
              "      <td>nag suspicion along done mbti test month suspe...</td>\n",
              "      <td>S</td>\n",
              "    </tr>\n",
              "    <tr>\n",
              "      <th>158945</th>\n",
              "      <td>hate peopl tell silent hate hate mode</td>\n",
              "      <td>S</td>\n",
              "    </tr>\n",
              "    <tr>\n",
              "      <th>173079</th>\n",
              "      <td>reach other time need would want somebodi soun...</td>\n",
              "      <td>N</td>\n",
              "    </tr>\n",
              "    <tr>\n",
              "      <th>411005</th>\n",
              "      <td>look logic wrong way logic expect highli linea...</td>\n",
              "      <td>N</td>\n",
              "    </tr>\n",
              "    <tr>\n",
              "      <th>357872</th>\n",
              "      <td>tell us approach tire hear counselor ie peopl ...</td>\n",
              "      <td>N</td>\n",
              "    </tr>\n",
              "    <tr>\n",
              "      <th>...</th>\n",
              "      <td>...</td>\n",
              "      <td>...</td>\n",
              "    </tr>\n",
              "    <tr>\n",
              "      <th>49275</th>\n",
              "      <td>opinion genuin believ cognit function test loa...</td>\n",
              "      <td>N</td>\n",
              "    </tr>\n",
              "    <tr>\n",
              "      <th>362667</th>\n",
              "      <td>hello dear intp new friend intp interest sharp...</td>\n",
              "      <td>N</td>\n",
              "    </tr>\n",
              "    <tr>\n",
              "      <th>86333</th>\n",
              "      <td>cold busi focus task hand sever day away miss ...</td>\n",
              "      <td>S</td>\n",
              "    </tr>\n",
              "    <tr>\n",
              "      <th>89551</th>\n",
              "      <td>titl suggest place littl blue planet best suit...</td>\n",
              "      <td>S</td>\n",
              "    </tr>\n",
              "    <tr>\n",
              "      <th>345371</th>\n",
              "      <td>domin si either think think much sad memori be...</td>\n",
              "      <td>S</td>\n",
              "    </tr>\n",
              "  </tbody>\n",
              "</table>\n",
              "<p>107480 rows × 2 columns</p>\n",
              "</div>"
            ],
            "text/plain": [
              "                                                    posts Letter2\n",
              "293287  nag suspicion along done mbti test month suspe...       S\n",
              "158945              hate peopl tell silent hate hate mode       S\n",
              "173079  reach other time need would want somebodi soun...       N\n",
              "411005  look logic wrong way logic expect highli linea...       N\n",
              "357872  tell us approach tire hear counselor ie peopl ...       N\n",
              "...                                                   ...     ...\n",
              "49275   opinion genuin believ cognit function test loa...       N\n",
              "362667  hello dear intp new friend intp interest sharp...       N\n",
              "86333   cold busi focus task hand sever day away miss ...       S\n",
              "89551   titl suggest place littl blue planet best suit...       S\n",
              "345371  domin si either think think much sad memori be...       S\n",
              "\n",
              "[107480 rows x 2 columns]"
            ]
          },
          "metadata": {
            "tags": []
          },
          "execution_count": 53
        }
      ]
    },
    {
      "cell_type": "markdown",
      "metadata": {
        "id": "Uc3D1GgolW4E"
      },
      "source": [
        "Split the dataset into the train and test:"
      ]
    },
    {
      "cell_type": "code",
      "metadata": {
        "id": "SJ7fyh5gleFu"
      },
      "source": [
        "X2 = df2['posts']\n",
        "y2 = df2['Letter2']\n",
        "X_train2, X_test2, y_train2, y_test2 = train_test_split(X2, y2, test_size=0.33, random_state=42)"
      ],
      "execution_count": null,
      "outputs": []
    },
    {
      "cell_type": "markdown",
      "metadata": {
        "id": "LRVcff9Qlhgk"
      },
      "source": [
        "Create the model:"
      ]
    },
    {
      "cell_type": "code",
      "metadata": {
        "id": "EoJcjPBvllNM"
      },
      "source": [
        "pipe2 = Pipeline([('vect', TfidfVectorizer()),\n",
        "                 ('model', RandomForestClassifier(n_estimators=150, criterion=\"entropy\", random_state = 2))])\n",
        "model2 = pipe2.fit(X_train2, y_train2)\n",
        "prediction2 = model2.predict(X_test2)"
      ],
      "execution_count": null,
      "outputs": []
    },
    {
      "cell_type": "markdown",
      "metadata": {
        "id": "YmuKuYffwtaj"
      },
      "source": [
        "Evaluate the model:"
      ]
    },
    {
      "cell_type": "code",
      "metadata": {
        "colab": {
          "base_uri": "https://localhost:8080/",
          "height": 449
        },
        "id": "ikasQDvWwgO6",
        "outputId": "d6524a48-c29e-40a9-921b-7a85b6c58ffa"
      },
      "source": [
        "print(\"accuracy: {}%\".format(round(accuracy_score(y_test2, prediction2)*100,2)))\n",
        "print(metrics.classification_report(y_test2, prediction2))\n",
        "plot_confusion_matrix(model2, X_test2, y_test2)  \n",
        "plt.show()"
      ],
      "execution_count": null,
      "outputs": [
        {
          "output_type": "stream",
          "text": [
            "accuracy: 58.16%\n",
            "              precision    recall  f1-score   support\n",
            "\n",
            "           N       0.58      0.61      0.59     17845\n",
            "           S       0.58      0.55      0.57     17624\n",
            "\n",
            "    accuracy                           0.58     35469\n",
            "   macro avg       0.58      0.58      0.58     35469\n",
            "weighted avg       0.58      0.58      0.58     35469\n",
            "\n"
          ],
          "name": "stdout"
        },
        {
          "output_type": "display_data",
          "data": {
            "image/png": "[encoded data removed]",
            "text/plain": [
              "<Figure size 432x288 with 2 Axes>"
            ]
          },
          "metadata": {
            "tags": [],
            "needs_background": "light"
          }
        }
      ]
    },
    {
      "cell_type": "markdown",
      "metadata": {
        "id": "86YtehXg9IKm"
      },
      "source": [
        "Conclusion:\n",
        "\n",
        "We have obtained a model that has a 58,16% accuracy score."
      ]
    },
    {
      "cell_type": "markdown",
      "metadata": {
        "id": "KA01YawS9ghG"
      },
      "source": [
        "Save the model:"
      ]
    },
    {
      "cell_type": "code",
      "metadata": {
        "colab": {
          "base_uri": "https://localhost:8080/"
        },
        "id": "r8CqmOfRw5tf",
        "outputId": "825159f9-1ec1-478e-95cb-b6b600530f8d"
      },
      "source": [
        "dump(model2, '/content/gdrive/MyDrive/Personality prediction/Balanced Models/model2.joblib')"
      ],
      "execution_count": null,
      "outputs": [
        {
          "output_type": "execute_result",
          "data": {
            "text/plain": [
              "['/content/gdrive/MyDrive/Personality prediction/Balanced Models/model2.joblib']"
            ]
          },
          "metadata": {
            "tags": []
          },
          "execution_count": 57
        }
      ]
    },
    {
      "cell_type": "markdown",
      "metadata": {
        "id": "zEkCTRVv1NI8"
      },
      "source": [
        "### Model for the 3rd pair"
      ]
    },
    {
      "cell_type": "markdown",
      "metadata": {
        "id": "KJZSIq7-AqtV"
      },
      "source": [
        "Our dataset is unbalanced, so we're going to undersample the majority class."
      ]
    },
    {
      "cell_type": "code",
      "metadata": {
        "colab": {
          "base_uri": "https://localhost:8080/"
        },
        "id": "rhxfOLe8A2FG",
        "outputId": "17ae2844-0d0f-4e76-de3b-9b236f010678"
      },
      "source": [
        "class_count_F, class_count_T = df['Letter3'].value_counts()\n",
        "class_F = df[df['Letter3'] == 'F']\n",
        "class_T = df[df['Letter3'] == 'T']\n",
        "print('F:', class_F.shape)\n",
        "print('T:', class_T.shape)"
      ],
      "execution_count": null,
      "outputs": [
        {
          "output_type": "stream",
          "text": [
            "F: (213290, 5)\n",
            "T: (180689, 5)\n"
          ],
          "name": "stdout"
        }
      ]
    },
    {
      "cell_type": "code",
      "metadata": {
        "colab": {
          "base_uri": "https://localhost:8080/",
          "height": 345
        },
        "id": "-gUhaiZPBA2-",
        "outputId": "b6e3ab4d-80d3-4bb2-aaeb-7a70181a6737"
      },
      "source": [
        "class_F_under = class_F.sample(class_count_T)\n",
        "test_under3 = pd.concat([class_F_under, class_T], axis=0)\n",
        "print(\"total class of T and F:\", test_under3['Letter3'].value_counts())\n",
        "test_under3['Letter3'].value_counts().plot(kind='bar', title='count Letter3')"
      ],
      "execution_count": null,
      "outputs": [
        {
          "output_type": "stream",
          "text": [
            "total class of T and F: T    180689\n",
            "F    180689\n",
            "Name: Letter3, dtype: int64\n"
          ],
          "name": "stdout"
        },
        {
          "output_type": "execute_result",
          "data": {
            "text/plain": [
              "<matplotlib.axes._subplots.AxesSubplot at 0x7f4765716e10>"
            ]
          },
          "metadata": {
            "tags": []
          },
          "execution_count": 59
        },
        {
          "output_type": "display_data",
          "data": {
            "image/png": "[encoded data removed]",
            "text/plain": [
              "<Figure size 432x288 with 1 Axes>"
            ]
          },
          "metadata": {
            "tags": [],
            "needs_background": "light"
          }
        }
      ]
    },
    {
      "cell_type": "markdown",
      "metadata": {
        "id": "4oSAvce81BeJ"
      },
      "source": [
        "Create the necessary dataframe and shuffle it:"
      ]
    },
    {
      "cell_type": "code",
      "metadata": {
        "colab": {
          "base_uri": "https://localhost:8080/",
          "height": 419
        },
        "id": "votmoFJJdkAE",
        "outputId": "1d9fe9f1-f066-498c-d004-9c59baa7bcf3"
      },
      "source": [
        "df3 = test_under3[['posts', 'Letter3']]\n",
        "df3 = df3.sample(frac = 1)\n",
        "df3"
      ],
      "execution_count": null,
      "outputs": [
        {
          "output_type": "execute_result",
          "data": {
            "text/html": [
              "<div>\n",
              "<style scoped>\n",
              "    .dataframe tbody tr th:only-of-type {\n",
              "        vertical-align: middle;\n",
              "    }\n",
              "\n",
              "    .dataframe tbody tr th {\n",
              "        vertical-align: top;\n",
              "    }\n",
              "\n",
              "    .dataframe thead th {\n",
              "        text-align: right;\n",
              "    }\n",
              "</style>\n",
              "<table border=\"1\" class=\"dataframe\">\n",
              "  <thead>\n",
              "    <tr style=\"text-align: right;\">\n",
              "      <th></th>\n",
              "      <th>posts</th>\n",
              "      <th>Letter3</th>\n",
              "    </tr>\n",
              "  </thead>\n",
              "  <tbody>\n",
              "    <tr>\n",
              "      <th>239042</th>\n",
              "      <td>lelouch lamperoug kind thought like alway igno...</td>\n",
              "      <td>F</td>\n",
              "    </tr>\n",
              "    <tr>\n",
              "      <th>270757</th>\n",
              "      <td>king men robert penn warren</td>\n",
              "      <td>T</td>\n",
              "    </tr>\n",
              "    <tr>\n",
              "      <th>282687</th>\n",
              "      <td>alway hesit proclaim thing broad moral oblig m...</td>\n",
              "      <td>T</td>\n",
              "    </tr>\n",
              "    <tr>\n",
              "      <th>304054</th>\n",
              "      <td>wonder soul ye would love healer heal someon h...</td>\n",
              "      <td>F</td>\n",
              "    </tr>\n",
              "    <tr>\n",
              "      <th>400151</th>\n",
              "      <td>depend success unless clinic depress bipolar f...</td>\n",
              "      <td>F</td>\n",
              "    </tr>\n",
              "    <tr>\n",
              "      <th>...</th>\n",
              "      <td>...</td>\n",
              "      <td>...</td>\n",
              "    </tr>\n",
              "    <tr>\n",
              "      <th>205628</th>\n",
              "      <td>1 need babi</td>\n",
              "      <td>F</td>\n",
              "    </tr>\n",
              "    <tr>\n",
              "      <th>244499</th>\n",
              "      <td>intj women scari news</td>\n",
              "      <td>F</td>\n",
              "    </tr>\n",
              "    <tr>\n",
              "      <th>84493</th>\n",
              "      <td>nighti thank consid respons back sorri take lo...</td>\n",
              "      <td>F</td>\n",
              "    </tr>\n",
              "    <tr>\n",
              "      <th>166347</th>\n",
              "      <td>crash nt parti infp would alway enjoy video ga...</td>\n",
              "      <td>F</td>\n",
              "    </tr>\n",
              "    <tr>\n",
              "      <th>240571</th>\n",
              "      <td>ok alright borrow mr meeper use minion skill</td>\n",
              "      <td>T</td>\n",
              "    </tr>\n",
              "  </tbody>\n",
              "</table>\n",
              "<p>361378 rows × 2 columns</p>\n",
              "</div>"
            ],
            "text/plain": [
              "                                                    posts Letter3\n",
              "239042  lelouch lamperoug kind thought like alway igno...       F\n",
              "270757                        king men robert penn warren       T\n",
              "282687  alway hesit proclaim thing broad moral oblig m...       T\n",
              "304054  wonder soul ye would love healer heal someon h...       F\n",
              "400151  depend success unless clinic depress bipolar f...       F\n",
              "...                                                   ...     ...\n",
              "205628                                        1 need babi       F\n",
              "244499                              intj women scari news       F\n",
              "84493   nighti thank consid respons back sorri take lo...       F\n",
              "166347  crash nt parti infp would alway enjoy video ga...       F\n",
              "240571       ok alright borrow mr meeper use minion skill       T\n",
              "\n",
              "[361378 rows x 2 columns]"
            ]
          },
          "metadata": {
            "tags": []
          },
          "execution_count": 60
        }
      ]
    },
    {
      "cell_type": "markdown",
      "metadata": {
        "id": "k_GEwPVe1qLm"
      },
      "source": [
        "Split the dataset into the train and test:"
      ]
    },
    {
      "cell_type": "code",
      "metadata": {
        "id": "n3gI_NK8h5Pk"
      },
      "source": [
        "X3 = df3['posts']\n",
        "y3 = df3['Letter3']\n",
        "X_train3, X_test3, y_train3, y_test3 = train_test_split(X3, y3, test_size=0.33, random_state=42)"
      ],
      "execution_count": null,
      "outputs": []
    },
    {
      "cell_type": "markdown",
      "metadata": {
        "id": "QAF7fh8T1xah"
      },
      "source": [
        "Create the model:"
      ]
    },
    {
      "cell_type": "code",
      "metadata": {
        "id": "F82QIGbMizNT"
      },
      "source": [
        "pipe3 = Pipeline([('vect', TfidfVectorizer()),\n",
        "                 ('model', RandomForestClassifier(n_estimators=50, criterion=\"entropy\", random_state = 2))])\n",
        "model3 = pipe3.fit(X_train3, y_train3)\n",
        "prediction3 = model3.predict(X_test3)"
      ],
      "execution_count": null,
      "outputs": []
    },
    {
      "cell_type": "markdown",
      "metadata": {
        "id": "hBl8WGvg11fz"
      },
      "source": [
        "Evaluate the model:"
      ]
    },
    {
      "cell_type": "code",
      "metadata": {
        "colab": {
          "base_uri": "https://localhost:8080/",
          "height": 449
        },
        "id": "MSb4Pijs14Cx",
        "outputId": "397155ac-d307-4802-e290-9784ae56207d"
      },
      "source": [
        "print(\"accuracy: {}%\".format(round(accuracy_score(y_test3, prediction3)*100,2)))\n",
        "print(metrics.classification_report(y_test3, prediction3))\n",
        "plot_confusion_matrix(model3, X_test3, y_test3)  \n",
        "plt.show()"
      ],
      "execution_count": null,
      "outputs": [
        {
          "output_type": "stream",
          "text": [
            "accuracy: 60.59%\n",
            "              precision    recall  f1-score   support\n",
            "\n",
            "           F       0.60      0.63      0.62     59692\n",
            "           T       0.61      0.58      0.60     59563\n",
            "\n",
            "    accuracy                           0.61    119255\n",
            "   macro avg       0.61      0.61      0.61    119255\n",
            "weighted avg       0.61      0.61      0.61    119255\n",
            "\n"
          ],
          "name": "stdout"
        },
        {
          "output_type": "display_data",
          "data": {
            "image/png": "[encoded data removed]",
            "text/plain": [
              "<Figure size 432x288 with 2 Axes>"
            ]
          },
          "metadata": {
            "tags": [],
            "needs_background": "light"
          }
        }
      ]
    },
    {
      "cell_type": "markdown",
      "metadata": {
        "id": "913QWtmN9MA1"
      },
      "source": [
        "Conclusion:\n",
        "\n",
        "We have obtained a model that has a 60,59% accuracy score."
      ]
    },
    {
      "cell_type": "markdown",
      "metadata": {
        "id": "zzAsoLB69hwY"
      },
      "source": [
        "Save the model:"
      ]
    },
    {
      "cell_type": "code",
      "metadata": {
        "colab": {
          "base_uri": "https://localhost:8080/"
        },
        "id": "RQkSbzHixLv2",
        "outputId": "c85fb6c3-cda0-4ba5-a385-9c988c67c848"
      },
      "source": [
        "dump(model3, '/content/gdrive/MyDrive/Personality prediction/Balanced Models/model3.joblib')"
      ],
      "execution_count": null,
      "outputs": [
        {
          "output_type": "execute_result",
          "data": {
            "text/plain": [
              "['/content/gdrive/MyDrive/Personality prediction/Balanced Models/model3.joblib']"
            ]
          },
          "metadata": {
            "tags": []
          },
          "execution_count": 64
        }
      ]
    },
    {
      "cell_type": "markdown",
      "metadata": {
        "id": "WlXkVMk637CR"
      },
      "source": [
        "### Model for the 4th pair\n",
        "\n",
        "\n"
      ]
    },
    {
      "cell_type": "markdown",
      "metadata": {
        "id": "MOQ9sL0DCGeV"
      },
      "source": [
        "Our dataset is unbalanced, so we're going to undersample the majority class."
      ]
    },
    {
      "cell_type": "code",
      "metadata": {
        "colab": {
          "base_uri": "https://localhost:8080/"
        },
        "id": "-jh-EVeOCNfo",
        "outputId": "d4035fa9-2401-4af1-f087-3c5abd03b4b2"
      },
      "source": [
        "class_count_P, class_count_J = df['Letter4'].value_counts()\n",
        "class_P = df[df['Letter4'] == 'P']\n",
        "class_J = df[df['Letter4'] == 'J']\n",
        "print('P:', class_P.shape)\n",
        "print('J:', class_J.shape)"
      ],
      "execution_count": 114,
      "outputs": [
        {
          "output_type": "stream",
          "text": [
            "P: (237798, 5)\n",
            "J: (156181, 5)\n"
          ],
          "name": "stdout"
        }
      ]
    },
    {
      "cell_type": "code",
      "metadata": {
        "colab": {
          "base_uri": "https://localhost:8080/",
          "height": 345
        },
        "id": "jWjAb6R3CoiJ",
        "outputId": "2e976b99-31a5-4bff-ca6a-d41dfe37f764"
      },
      "source": [
        "class_P_under = class_P.sample(class_count_J)\n",
        "test_under4 = pd.concat([class_P_under, class_J], axis=0)\n",
        "print(\"total class of J and P:\", test_under4['Letter4'].value_counts())\n",
        "test_under4['Letter4'].value_counts().plot(kind='bar', title='count Letter4')"
      ],
      "execution_count": 115,
      "outputs": [
        {
          "output_type": "stream",
          "text": [
            "total class of J and P: P    156181\n",
            "J    156181\n",
            "Name: Letter4, dtype: int64\n"
          ],
          "name": "stdout"
        },
        {
          "output_type": "execute_result",
          "data": {
            "text/plain": [
              "<matplotlib.axes._subplots.AxesSubplot at 0x7f4768cb4f10>"
            ]
          },
          "metadata": {
            "tags": []
          },
          "execution_count": 115
        },
        {
          "output_type": "display_data",
          "data": {
            "image/png": "[encoded data removed]",
            "text/plain": [
              "<Figure size 432x288 with 1 Axes>"
            ]
          },
          "metadata": {
            "tags": [],
            "needs_background": "light"
          }
        }
      ]
    },
    {
      "cell_type": "markdown",
      "metadata": {
        "id": "Dxa5cuvM3_Nq"
      },
      "source": [
        "Create the necessary dataframe and shuffle it:"
      ]
    },
    {
      "cell_type": "code",
      "metadata": {
        "colab": {
          "base_uri": "https://localhost:8080/",
          "height": 419
        },
        "id": "rIaYD-HihcwX",
        "outputId": "47cc5d0a-b69a-40d9-f116-8db45aa8a0eb"
      },
      "source": [
        "df4 = test_under4[['posts', 'Letter4']]\n",
        "df4 = df4.sample(frac = 1)\n",
        "df4"
      ],
      "execution_count": 116,
      "outputs": [
        {
          "output_type": "execute_result",
          "data": {
            "text/html": [
              "<div>\n",
              "<style scoped>\n",
              "    .dataframe tbody tr th:only-of-type {\n",
              "        vertical-align: middle;\n",
              "    }\n",
              "\n",
              "    .dataframe tbody tr th {\n",
              "        vertical-align: top;\n",
              "    }\n",
              "\n",
              "    .dataframe thead th {\n",
              "        text-align: right;\n",
              "    }\n",
              "</style>\n",
              "<table border=\"1\" class=\"dataframe\">\n",
              "  <thead>\n",
              "    <tr style=\"text-align: right;\">\n",
              "      <th></th>\n",
              "      <th>posts</th>\n",
              "      <th>Letter4</th>\n",
              "    </tr>\n",
              "  </thead>\n",
              "  <tbody>\n",
              "    <tr>\n",
              "      <th>407504</th>\n",
              "      <td>math math got along great math got involv alph...</td>\n",
              "      <td>P</td>\n",
              "    </tr>\n",
              "    <tr>\n",
              "      <th>413931</th>\n",
              "      <td>p chill pill aisl 5 strategi fals confid never...</td>\n",
              "      <td>P</td>\n",
              "    </tr>\n",
              "    <tr>\n",
              "      <th>217634</th>\n",
              "      <td>old could take colleg class particip commun ma...</td>\n",
              "      <td>P</td>\n",
              "    </tr>\n",
              "    <tr>\n",
              "      <th>94787</th>\n",
              "      <td>hah thank grape smoke realm drink im lil bitch</td>\n",
              "      <td>P</td>\n",
              "    </tr>\n",
              "    <tr>\n",
              "      <th>203771</th>\n",
              "      <td>dad intj brother intj friend know intj idk kno...</td>\n",
              "      <td>J</td>\n",
              "    </tr>\n",
              "    <tr>\n",
              "      <th>...</th>\n",
              "      <td>...</td>\n",
              "      <td>...</td>\n",
              "    </tr>\n",
              "    <tr>\n",
              "      <th>74138</th>\n",
              "      <td>happen often initi feel like absolut random ro...</td>\n",
              "      <td>P</td>\n",
              "    </tr>\n",
              "    <tr>\n",
              "      <th>193795</th>\n",
              "      <td>iron reuben abel discuss introduct book man me...</td>\n",
              "      <td>P</td>\n",
              "    </tr>\n",
              "    <tr>\n",
              "      <th>115177</th>\n",
              "      <td>thank ah quick say troubl effici look like dif...</td>\n",
              "      <td>P</td>\n",
              "    </tr>\n",
              "    <tr>\n",
              "      <th>227274</th>\n",
              "      <td>curiou person assign skip like post count quit...</td>\n",
              "      <td>P</td>\n",
              "    </tr>\n",
              "    <tr>\n",
              "      <th>134554</th>\n",
              "      <td>definit mean escap thing go childhood teenag y...</td>\n",
              "      <td>J</td>\n",
              "    </tr>\n",
              "  </tbody>\n",
              "</table>\n",
              "<p>312362 rows × 2 columns</p>\n",
              "</div>"
            ],
            "text/plain": [
              "                                                    posts Letter4\n",
              "407504  math math got along great math got involv alph...       P\n",
              "413931  p chill pill aisl 5 strategi fals confid never...       P\n",
              "217634  old could take colleg class particip commun ma...       P\n",
              "94787      hah thank grape smoke realm drink im lil bitch       P\n",
              "203771  dad intj brother intj friend know intj idk kno...       J\n",
              "...                                                   ...     ...\n",
              "74138   happen often initi feel like absolut random ro...       P\n",
              "193795  iron reuben abel discuss introduct book man me...       P\n",
              "115177  thank ah quick say troubl effici look like dif...       P\n",
              "227274  curiou person assign skip like post count quit...       P\n",
              "134554  definit mean escap thing go childhood teenag y...       J\n",
              "\n",
              "[312362 rows x 2 columns]"
            ]
          },
          "metadata": {
            "tags": []
          },
          "execution_count": 116
        }
      ]
    },
    {
      "cell_type": "markdown",
      "metadata": {
        "id": "aw5Kt1Aa4I0I"
      },
      "source": [
        "Split the dataset into the train and test:"
      ]
    },
    {
      "cell_type": "code",
      "metadata": {
        "id": "fU-4UNysjrFK"
      },
      "source": [
        "X4 = df4['posts']\n",
        "y4 = df4['Letter4']\n",
        "X_train4, X_test4, y_train4, y_test4 = train_test_split(X4, y4, test_size=0.33, random_state=42)"
      ],
      "execution_count": 117,
      "outputs": []
    },
    {
      "cell_type": "markdown",
      "metadata": {
        "id": "yH7jOjHa4Q_V"
      },
      "source": [
        "Create the model:"
      ]
    },
    {
      "cell_type": "code",
      "metadata": {
        "id": "TMw_-quXjwOV"
      },
      "source": [
        "pipe4 = Pipeline([('vect', TfidfVectorizer()),\n",
        "                 ('model', RandomForestClassifier(n_estimators=50, criterion=\"entropy\", random_state = 2))])\n",
        "model4 = pipe4.fit(X_train4, y_train4)\n",
        "prediction4 = model4.predict(X_test4)"
      ],
      "execution_count": 118,
      "outputs": []
    },
    {
      "cell_type": "markdown",
      "metadata": {
        "id": "8YInKw7t4fqz"
      },
      "source": [
        "Evaluate the model:"
      ]
    },
    {
      "cell_type": "code",
      "metadata": {
        "colab": {
          "base_uri": "https://localhost:8080/",
          "height": 449
        },
        "id": "sUamKw2l4h6F",
        "outputId": "9ccc44be-ae23-405a-d015-203288453a59"
      },
      "source": [
        "print(\"accuracy: {}%\".format(round(accuracy_score(y_test4, prediction4)*100,2)))\n",
        "print(metrics.classification_report(y_test4, prediction4))\n",
        "plot_confusion_matrix(model4, X_test4, y_test4)  \n",
        "plt.show()"
      ],
      "execution_count": 119,
      "outputs": [
        {
          "output_type": "stream",
          "text": [
            "accuracy: 56.1%\n",
            "              precision    recall  f1-score   support\n",
            "\n",
            "           J       0.56      0.58      0.57     51478\n",
            "           P       0.56      0.54      0.55     51602\n",
            "\n",
            "    accuracy                           0.56    103080\n",
            "   macro avg       0.56      0.56      0.56    103080\n",
            "weighted avg       0.56      0.56      0.56    103080\n",
            "\n"
          ],
          "name": "stdout"
        },
        {
          "output_type": "display_data",
          "data": {
            "image/png": "[encoded data removed]",
            "text/plain": [
              "<Figure size 432x288 with 2 Axes>"
            ]
          },
          "metadata": {
            "tags": [],
            "needs_background": "light"
          }
        }
      ]
    },
    {
      "cell_type": "markdown",
      "metadata": {
        "id": "Dx6UfN5G4r0s"
      },
      "source": [
        "Conclusion:\n",
        "\n",
        "We have obtained a model that has a 56,1% accuracy score."
      ]
    },
    {
      "cell_type": "markdown",
      "metadata": {
        "id": "1LBiFTIW9jRm"
      },
      "source": [
        "Save the model:"
      ]
    },
    {
      "cell_type": "code",
      "metadata": {
        "colab": {
          "base_uri": "https://localhost:8080/"
        },
        "id": "VCYz_cssxP80",
        "outputId": "1d88dc82-5cd2-48e4-ef86-fc5950ca1c0d"
      },
      "source": [
        "dump(model4, '/content/gdrive/MyDrive/Personality prediction/Balanced Models/model4.joblib')"
      ],
      "execution_count": 120,
      "outputs": [
        {
          "output_type": "execute_result",
          "data": {
            "text/plain": [
              "['/content/gdrive/MyDrive/Personality prediction/Balanced Models/model4.joblib']"
            ]
          },
          "metadata": {
            "tags": []
          },
          "execution_count": 120
        }
      ]
    }
  ]
}