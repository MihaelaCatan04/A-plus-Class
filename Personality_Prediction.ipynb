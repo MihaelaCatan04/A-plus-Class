{
  "nbformat": 4,
  "nbformat_minor": 0,
  "metadata": {
    "colab": {
      "name": "Personality_Prediction.ipynb",
      "provenance": [],
      "collapsed_sections": [],
      "toc_visible": true
    },
    "kernelspec": {
      "name": "python3",
      "display_name": "Python 3"
    },
    "language_info": {
      "name": "python"
    }
  },
  "cells": [
    {
      "cell_type": "markdown",
      "metadata": {
        "id": "YUncFHxwShaL"
      },
      "source": [
        "Instal and import the necessary libraries:"
      ]
    },
    {
      "cell_type": "code",
      "metadata": {
        "colab": {
          "base_uri": "https://localhost:8080/"
        },
        "id": "Rr4GpE8bEvlJ",
        "outputId": "4513af0c-14e5-4c7f-9a43-6968be1cf925"
      },
      "source": [
        "!pip install joblib"
      ],
      "execution_count": 26,
      "outputs": [
        {
          "output_type": "stream",
          "text": [
            "Requirement already satisfied: joblib in /usr/local/lib/python3.7/dist-packages (1.0.1)\n"
          ],
          "name": "stdout"
        }
      ]
    },
    {
      "cell_type": "code",
      "metadata": {
        "id": "lrEQXab7E6go"
      },
      "source": [
        "from joblib import dump, load\n",
        "import re"
      ],
      "execution_count": 27,
      "outputs": []
    },
    {
      "cell_type": "markdown",
      "metadata": {
        "id": "ooAuXrVxUNOu"
      },
      "source": [
        "# Input Reading"
      ]
    },
    {
      "cell_type": "markdown",
      "metadata": {
        "id": "GPrD1lO9VsrE"
      },
      "source": [
        "Introduce the input:"
      ]
    },
    {
      "cell_type": "code",
      "metadata": {
        "colab": {
          "base_uri": "https://localhost:8080/"
        },
        "id": "jfJuv0L4FEpJ",
        "outputId": "e3bdc117-a5d3-418a-8c91-29841b7c5b43"
      },
      "source": [
        "tweet = input('Ad tweet here: ')"
      ],
      "execution_count": 28,
      "outputs": [
        {
          "output_type": "stream",
          "text": [
            "Ad tweet here: Hey! I am Mihaela Catan. This is a tweet. This is a link: https://www.youtube.com/watch?v=Cl-Ne5mL3PE\n"
          ],
          "name": "stdout"
        }
      ]
    },
    {
      "cell_type": "markdown",
      "metadata": {
        "id": "HNouzAT4UZ2A"
      },
      "source": [
        "# Input Preprocessing"
      ]
    },
    {
      "cell_type": "markdown",
      "metadata": {
        "id": "bvUi3mzIV6a8"
      },
      "source": [
        "Delete all the links, tokenize the posts, turn them into lowercase, eliminate punctuation and stopwords, apply stemming."
      ]
    },
    {
      "cell_type": "code",
      "metadata": {
        "colab": {
          "base_uri": "https://localhost:8080/"
        },
        "id": "xxYDt2Fy8X5_",
        "outputId": "471d8db9-9891-40d6-9a04-4b44bdad06ba"
      },
      "source": [
        "import nltk\n",
        "nltk.download('stopwords')\n",
        "import nltk\n",
        "from nltk.corpus import stopwords\n",
        "stop = stopwords.words('english')\n",
        "from nltk.stem import PorterStemmer\n",
        "porter = PorterStemmer()\n",
        "from nltk.tokenize import RegexpTokenizer"
      ],
      "execution_count": 29,
      "outputs": [
        {
          "output_type": "stream",
          "text": [
            "[nltk_data] Downloading package stopwords to /root/nltk_data...\n",
            "[nltk_data]   Package stopwords is already up-to-date!\n"
          ],
          "name": "stdout"
        }
      ]
    },
    {
      "cell_type": "code",
      "metadata": {
        "id": "wrVQvnyQ8h93",
        "colab": {
          "base_uri": "https://localhost:8080/"
        },
        "outputId": "768f41c1-5326-4163-eb68-01c6a52401bd"
      },
      "source": [
        "tokenizer = RegexpTokenizer(r'\\w+')\n",
        "regex = '(http|ftp|https)://([\\w_-]+(?:(?:\\.[\\w_-]+)+))([\\w.,@?^=%&:/~+#-]*[\\w@?^=%&/~+#-])?'\n",
        "def process_data(data):\n",
        "  data = re.sub(regex, '', tweet, flags=re.MULTILINE)\n",
        "  data = ' '.join([porter.stem(word.lower()) for word in tokenizer.tokenize(data) if word.lower() not in stop])\n",
        "  return data\n",
        "tweet = process_data(tweet)\n",
        "print(tweet)"
      ],
      "execution_count": 30,
      "outputs": [
        {
          "output_type": "stream",
          "text": [
            "hey mihaela catan tweet link\n"
          ],
          "name": "stdout"
        }
      ]
    },
    {
      "cell_type": "markdown",
      "metadata": {
        "id": "ZTg0Z0MoUfDV"
      },
      "source": [
        "# Prediction Obtainment"
      ]
    },
    {
      "cell_type": "markdown",
      "metadata": {
        "id": "PO-3t_CKWQs8"
      },
      "source": [
        "Import all the models:"
      ]
    },
    {
      "cell_type": "code",
      "metadata": {
        "id": "MeCXxFVtFVuD",
        "colab": {
          "base_uri": "https://localhost:8080/"
        },
        "outputId": "8e6ae8c8-1954-4230-ea82-547e2e835cb1"
      },
      "source": [
        "from google.colab import drive\n",
        "drive.mount('/content/gdrive')"
      ],
      "execution_count": 31,
      "outputs": [
        {
          "output_type": "stream",
          "text": [
            "Drive already mounted at /content/gdrive; to attempt to forcibly remount, call drive.mount(\"/content/gdrive\", force_remount=True).\n"
          ],
          "name": "stdout"
        }
      ]
    },
    {
      "cell_type": "code",
      "metadata": {
        "id": "GpodpMEwI6aG"
      },
      "source": [
        "model1 = load('/content/gdrive/MyDrive/Personality prediction/Models/model1.joblib')"
      ],
      "execution_count": 32,
      "outputs": []
    },
    {
      "cell_type": "code",
      "metadata": {
        "id": "e7ob-JWSMG1f"
      },
      "source": [
        "model2 = load('/content/gdrive/MyDrive/Personality prediction/Models/model2.joblib')"
      ],
      "execution_count": 33,
      "outputs": []
    },
    {
      "cell_type": "code",
      "metadata": {
        "id": "ljuC0hGWMI5Q"
      },
      "source": [
        "model3 = load('/content/gdrive/MyDrive/Personality prediction/Models/model3.joblib')"
      ],
      "execution_count": 34,
      "outputs": []
    },
    {
      "cell_type": "code",
      "metadata": {
        "id": "nQj1s-4rMLga"
      },
      "source": [
        "model4 = load('/content/gdrive/MyDrive/Personality prediction/Models/model4.joblib')"
      ],
      "execution_count": 35,
      "outputs": []
    },
    {
      "cell_type": "markdown",
      "metadata": {
        "id": "bxC73lx1WTMu"
      },
      "source": [
        "Predict the personality type:"
      ]
    },
    {
      "cell_type": "code",
      "metadata": {
        "colab": {
          "base_uri": "https://localhost:8080/"
        },
        "id": "fGyuFUHeKCn9",
        "outputId": "0040be4f-a01c-4370-96cf-b77124543774"
      },
      "source": [
        "personality_type = model1.predict([tweet])[0] + model2.predict([tweet])[0] + model3.predict([tweet])[0] + model4.predict([tweet])[0]\n",
        "print(personality_type)"
      ],
      "execution_count": 36,
      "outputs": [
        {
          "output_type": "stream",
          "text": [
            "INFP\n"
          ],
          "name": "stdout"
        }
      ]
    }
  ]
}