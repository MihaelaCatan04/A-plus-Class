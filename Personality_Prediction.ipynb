{
  "nbformat": 4,
  "nbformat_minor": 0,
  "metadata": {
    "colab": {
      "name": "Personality_Prediction.ipynb",
      "provenance": [],
      "collapsed_sections": [],
      "toc_visible": true
    },
    "kernelspec": {
      "name": "python3",
      "display_name": "Python 3"
    },
    "language_info": {
      "name": "python"
    }
  },
  "cells": [
    {
      "cell_type": "markdown",
      "metadata": {
        "id": "YUncFHxwShaL"
      },
      "source": [
        "Instal and import the necessary libraries:"
      ]
    },
    {
      "cell_type": "code",
      "metadata": {
        "colab": {
          "base_uri": "https://localhost:8080/"
        },
        "id": "Rr4GpE8bEvlJ",
        "outputId": "b8f39c76-edaa-4e37-cbf5-55660ed66231"
      },
      "source": [
        "!pip install joblib"
      ],
      "execution_count": 1,
      "outputs": [
        {
          "output_type": "stream",
          "text": [
            "Requirement already satisfied: joblib in /usr/local/lib/python3.7/dist-packages (1.0.1)\n"
          ],
          "name": "stdout"
        }
      ]
    },
    {
      "cell_type": "code",
      "metadata": {
        "id": "lrEQXab7E6go"
      },
      "source": [
        "from joblib import dump, load\n",
        "import re"
      ],
      "execution_count": 2,
      "outputs": []
    },
    {
      "cell_type": "markdown",
      "metadata": {
        "id": "ooAuXrVxUNOu"
      },
      "source": [
        "# Input Reading"
      ]
    },
    {
      "cell_type": "markdown",
      "metadata": {
        "id": "GPrD1lO9VsrE"
      },
      "source": [
        "Introduce the input:"
      ]
    },
    {
      "cell_type": "code",
      "metadata": {
        "colab": {
          "base_uri": "https://localhost:8080/"
        },
        "id": "jfJuv0L4FEpJ",
        "outputId": "cb94e567-e6e5-4293-b469-1f6e139753f0"
      },
      "source": [
        "tweet = input('Ad tweet here: ')"
      ],
      "execution_count": 4,
      "outputs": [
        {
          "output_type": "stream",
          "text": [
            "Ad tweet here: Hello! My name is Mihaela Catan. I love NLP. This is the link: https://www.youtube.com/watch?v=3FRnNkGLGN4\n"
          ],
          "name": "stdout"
        }
      ]
    },
    {
      "cell_type": "markdown",
      "metadata": {
        "id": "HNouzAT4UZ2A"
      },
      "source": [
        "# Input Preprocessing"
      ]
    },
    {
      "cell_type": "markdown",
      "metadata": {
        "id": "bvUi3mzIV6a8"
      },
      "source": [
        "Delete all the links, tokenize the posts, turn them into lowercase, eliminate punctuation and stopwords, apply stemming."
      ]
    },
    {
      "cell_type": "code",
      "metadata": {
        "colab": {
          "base_uri": "https://localhost:8080/"
        },
        "id": "xxYDt2Fy8X5_",
        "outputId": "d901a456-1759-4190-b06c-25c817d959bd"
      },
      "source": [
        "import nltk\n",
        "nltk.download('stopwords')\n",
        "import nltk\n",
        "from nltk.corpus import stopwords\n",
        "stop = stopwords.words('english')\n",
        "from nltk.stem import PorterStemmer\n",
        "porter = PorterStemmer()\n",
        "from nltk.tokenize import RegexpTokenizer"
      ],
      "execution_count": 5,
      "outputs": [
        {
          "output_type": "stream",
          "text": [
            "[nltk_data] Downloading package stopwords to /root/nltk_data...\n",
            "[nltk_data]   Unzipping corpora/stopwords.zip.\n"
          ],
          "name": "stdout"
        }
      ]
    },
    {
      "cell_type": "code",
      "metadata": {
        "id": "wrVQvnyQ8h93",
        "colab": {
          "base_uri": "https://localhost:8080/"
        },
        "outputId": "5034568f-e11a-4fa6-be8f-22093a03270a"
      },
      "source": [
        "tokenizer = RegexpTokenizer(r'\\w+')\n",
        "regex = '(http|ftp|https)://([\\w_-]+(?:(?:\\.[\\w_-]+)+))([\\w.,@?^=%&:/~+#-]*[\\w@?^=%&/~+#-])?'\n",
        "def process_data(data):\n",
        "  data = re.sub(regex, '', tweet, flags=re.MULTILINE)\n",
        "  data = ' '.join([porter.stem(word.lower()) for word in tokenizer.tokenize(data) if word.lower() not in stop])\n",
        "  return data\n",
        "tweet = process_data(tweet)\n",
        "print(tweet)"
      ],
      "execution_count": 6,
      "outputs": [
        {
          "output_type": "stream",
          "text": [
            "hello name mihaela catan love nlp link\n"
          ],
          "name": "stdout"
        }
      ]
    },
    {
      "cell_type": "markdown",
      "metadata": {
        "id": "ZTg0Z0MoUfDV"
      },
      "source": [
        "# Prediction Obtainment"
      ]
    },
    {
      "cell_type": "markdown",
      "metadata": {
        "id": "PO-3t_CKWQs8"
      },
      "source": [
        "Import all the models:"
      ]
    },
    {
      "cell_type": "code",
      "metadata": {
        "id": "MeCXxFVtFVuD",
        "colab": {
          "base_uri": "https://localhost:8080/"
        },
        "outputId": "a51c1d77-f934-451f-e8f7-780921ee4dbe"
      },
      "source": [
        "from google.colab import drive\n",
        "drive.mount('/content/gdrive')"
      ],
      "execution_count": 7,
      "outputs": [
        {
          "output_type": "stream",
          "text": [
            "Mounted at /content/gdrive\n"
          ],
          "name": "stdout"
        }
      ]
    },
    {
      "cell_type": "code",
      "metadata": {
        "id": "GpodpMEwI6aG"
      },
      "source": [
        "model1 = load('/content/gdrive/MyDrive/Personality prediction/Balanced Models/model1.joblib')"
      ],
      "execution_count": 8,
      "outputs": []
    },
    {
      "cell_type": "code",
      "metadata": {
        "id": "e7ob-JWSMG1f"
      },
      "source": [
        "model2 = load('/content/gdrive/MyDrive/Personality prediction/Balanced Models/model2.joblib')"
      ],
      "execution_count": 10,
      "outputs": []
    },
    {
      "cell_type": "code",
      "metadata": {
        "id": "ljuC0hGWMI5Q"
      },
      "source": [
        "model3 = load('/content/gdrive/MyDrive/Personality prediction/Balanced Models/model3.joblib')"
      ],
      "execution_count": 11,
      "outputs": []
    },
    {
      "cell_type": "code",
      "metadata": {
        "id": "nQj1s-4rMLga"
      },
      "source": [
        "model4 = load('/content/gdrive/MyDrive/Personality prediction/Balanced Models/model4.joblib')"
      ],
      "execution_count": 12,
      "outputs": []
    },
    {
      "cell_type": "markdown",
      "metadata": {
        "id": "bxC73lx1WTMu"
      },
      "source": [
        "Predict the personality type:"
      ]
    },
    {
      "cell_type": "code",
      "metadata": {
        "colab": {
          "base_uri": "https://localhost:8080/"
        },
        "id": "fGyuFUHeKCn9",
        "outputId": "a704f2ad-281c-493a-e54c-9288ca8100f2"
      },
      "source": [
        "personality_type = model1.predict([tweet])[0] + model2.predict([tweet])[0] + model3.predict([tweet])[0] + model4.predict([tweet])[0]\n",
        "print(personality_type)"
      ],
      "execution_count": 13,
      "outputs": [
        {
          "output_type": "stream",
          "text": [
            "ENFP\n"
          ],
          "name": "stdout"
        }
      ]
    }
  ]
}