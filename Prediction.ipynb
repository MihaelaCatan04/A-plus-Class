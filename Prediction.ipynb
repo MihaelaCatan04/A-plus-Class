{
  "nbformat": 4,
  "nbformat_minor": 0,
  "metadata": {
    "colab": {
      "name": "Prediction.ipynb",
      "provenance": [],
      "collapsed_sections": []
    },
    "kernelspec": {
      "name": "python3",
      "display_name": "Python 3"
    },
    "language_info": {
      "name": "python"
    }
  },
  "cells": [
    {
      "cell_type": "code",
      "metadata": {
        "colab": {
          "base_uri": "https://localhost:8080/"
        },
        "id": "Rr4GpE8bEvlJ",
        "outputId": "1bc5ae56-0a6b-4191-947f-5a2eb58e7069"
      },
      "source": [
        "!pip install joblib"
      ],
      "execution_count": 1,
      "outputs": [
        {
          "output_type": "stream",
          "text": [
            "Requirement already satisfied: joblib in /usr/local/lib/python3.7/dist-packages (1.0.1)\n"
          ],
          "name": "stdout"
        }
      ]
    },
    {
      "cell_type": "code",
      "metadata": {
        "id": "lrEQXab7E6go"
      },
      "source": [
        "from joblib import dump, load"
      ],
      "execution_count": 2,
      "outputs": []
    },
    {
      "cell_type": "markdown",
      "metadata": {
        "id": "ooAuXrVxUNOu"
      },
      "source": [
        "# Citirea input-ului"
      ]
    },
    {
      "cell_type": "code",
      "metadata": {
        "colab": {
          "base_uri": "https://localhost:8080/"
        },
        "id": "jfJuv0L4FEpJ",
        "outputId": "91fc30a8-ada9-4939-b5f9-d64b9dfb45dd"
      },
      "source": [
        "tweet = input('Ad tweet here')"
      ],
      "execution_count": 3,
      "outputs": [
        {
          "output_type": "stream",
          "text": [
            "Ad tweet hereHello! My name is Mihaela.\n"
          ],
          "name": "stdout"
        }
      ]
    },
    {
      "cell_type": "code",
      "metadata": {
        "id": "YUHg8zPkFPX7",
        "colab": {
          "base_uri": "https://localhost:8080/",
          "height": 35
        },
        "outputId": "ddd52885-af8e-4b00-b64d-659638b0b961"
      },
      "source": [
        "tweet"
      ],
      "execution_count": 4,
      "outputs": [
        {
          "output_type": "execute_result",
          "data": {
            "application/vnd.google.colaboratory.intrinsic+json": {
              "type": "string"
            },
            "text/plain": [
              "'Hello! My name is Mihaela.'"
            ]
          },
          "metadata": {
            "tags": []
          },
          "execution_count": 4
        }
      ]
    },
    {
      "cell_type": "markdown",
      "metadata": {
        "id": "HNouzAT4UZ2A"
      },
      "source": [
        "# Procesarea input-ului"
      ]
    },
    {
      "cell_type": "code",
      "metadata": {
        "colab": {
          "base_uri": "https://localhost:8080/"
        },
        "id": "xxYDt2Fy8X5_",
        "outputId": "3a6171f3-9959-4265-f0cb-48e3d02faedd"
      },
      "source": [
        "import nltk\n",
        "nltk.download('stopwords')\n",
        "import nltk\n",
        "from nltk.corpus import stopwords\n",
        "stop = stopwords.words('english')\n",
        "from nltk.stem import PorterStemmer\n",
        "porter = PorterStemmer()\n",
        "from nltk.tokenize import RegexpTokenizer"
      ],
      "execution_count": 5,
      "outputs": [
        {
          "output_type": "stream",
          "text": [
            "[nltk_data] Downloading package stopwords to /root/nltk_data...\n",
            "[nltk_data]   Unzipping corpora/stopwords.zip.\n"
          ],
          "name": "stdout"
        }
      ]
    },
    {
      "cell_type": "code",
      "metadata": {
        "id": "wrVQvnyQ8h93"
      },
      "source": [
        "tokenizer = RegexpTokenizer(r'\\w+')\n",
        "def process_data(data):\n",
        "    data = ' '.join([porter.stem(word.lower()) for word in tokenizer.tokenize(data) if word.lower() not in stop])\n",
        "    return data\n",
        "tweet = process_data(tweet)"
      ],
      "execution_count": 6,
      "outputs": []
    },
    {
      "cell_type": "code",
      "metadata": {
        "colab": {
          "base_uri": "https://localhost:8080/"
        },
        "id": "Pj41XJuULvCf",
        "outputId": "91bd64ac-f039-4569-c7d9-f96a41da454b"
      },
      "source": [
        "print(tweet)"
      ],
      "execution_count": 7,
      "outputs": [
        {
          "output_type": "stream",
          "text": [
            "hello name mihaela\n"
          ],
          "name": "stdout"
        }
      ]
    },
    {
      "cell_type": "markdown",
      "metadata": {
        "id": "ZTg0Z0MoUfDV"
      },
      "source": [
        "Obiținerea predicției"
      ]
    },
    {
      "cell_type": "code",
      "metadata": {
        "id": "MeCXxFVtFVuD",
        "colab": {
          "base_uri": "https://localhost:8080/"
        },
        "outputId": "ad4bddbb-aae9-4264-d761-16ec11855959"
      },
      "source": [
        "from google.colab import drive\n",
        "drive.mount('/content/gdrive')"
      ],
      "execution_count": 8,
      "outputs": [
        {
          "output_type": "stream",
          "text": [
            "Mounted at /content/gdrive\n"
          ],
          "name": "stdout"
        }
      ]
    },
    {
      "cell_type": "code",
      "metadata": {
        "id": "GpodpMEwI6aG"
      },
      "source": [
        "model1 = load('/content/gdrive/MyDrive/Personality prediction/Modele/modelul1.joblib')"
      ],
      "execution_count": 9,
      "outputs": []
    },
    {
      "cell_type": "code",
      "metadata": {
        "id": "e7ob-JWSMG1f"
      },
      "source": [
        "model2 = load('/content/gdrive/MyDrive/Personality prediction/Modele/modelul2.joblib')"
      ],
      "execution_count": 10,
      "outputs": []
    },
    {
      "cell_type": "code",
      "metadata": {
        "id": "ljuC0hGWMI5Q"
      },
      "source": [
        "model3 = load('/content/gdrive/MyDrive/Personality prediction/Modele/modelul3.joblib')"
      ],
      "execution_count": 11,
      "outputs": []
    },
    {
      "cell_type": "code",
      "metadata": {
        "id": "nQj1s-4rMLga"
      },
      "source": [
        "model4 = load('/content/gdrive/MyDrive/Personality prediction/Modele/modelul4.joblib')"
      ],
      "execution_count": 12,
      "outputs": []
    },
    {
      "cell_type": "code",
      "metadata": {
        "colab": {
          "base_uri": "https://localhost:8080/",
          "height": 35
        },
        "id": "fGyuFUHeKCn9",
        "outputId": "e457649c-aca9-4b9b-baa7-b7bb6175d38e"
      },
      "source": [
        "model1.predict([tweet])[0] + model2.predict([tweet])[0] + model3.predict([tweet])[0] + model4.predict([tweet])[0]"
      ],
      "execution_count": 18,
      "outputs": [
        {
          "output_type": "execute_result",
          "data": {
            "application/vnd.google.colaboratory.intrinsic+json": {
              "type": "string"
            },
            "text/plain": [
              "'INFJ'"
            ]
          },
          "metadata": {
            "tags": []
          },
          "execution_count": 18
        }
      ]
    }
  ]
}