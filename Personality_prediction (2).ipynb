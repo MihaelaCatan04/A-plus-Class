{
  "nbformat": 4,
  "nbformat_minor": 0,
  "metadata": {
    "colab": {
      "name": "Personality prediction.ipynb",
      "provenance": [],
      "collapsed_sections": [
        "-coC_Pz-8bPi"
      ],
      "toc_visible": true
    },
    "kernelspec": {
      "display_name": "Python 3",
      "name": "python3"
    },
    "language_info": {
      "name": "python"
    }
  },
  "cells": [
    {
      "cell_type": "markdown",
      "metadata": {
        "id": "Jk4f7f3HLeAF"
      },
      "source": [
        "# **Prezicerea personalității**"
      ]
    },
    {
      "cell_type": "markdown",
      "metadata": {
        "id": "-coC_Pz-8bPi"
      },
      "source": [
        "## Citirea datelor"
      ]
    },
    {
      "cell_type": "markdown",
      "metadata": {
        "id": "xjRjcLyaLi9s"
      },
      "source": [
        "Importăm librăriile:"
      ]
    },
    {
      "cell_type": "code",
      "metadata": {
        "id": "lOVULjJM7uWk"
      },
      "source": [
        "import pandas as pd\n",
        "import nltk\n",
        "import seaborn as sns\n",
        "import matplotlib.pyplot as plt\n",
        "import numpy as np"
      ],
      "execution_count": 105,
      "outputs": []
    },
    {
      "cell_type": "markdown",
      "metadata": {
        "id": "kPapmt2_LllP"
      },
      "source": [
        "Importăm și citim setul de date:"
      ]
    },
    {
      "cell_type": "code",
      "metadata": {
        "colab": {
          "base_uri": "https://localhost:8080/"
        },
        "id": "bR0SNoLBcPEF",
        "outputId": "bdd9e954-c6f5-41dc-b25a-7299adce67a1"
      },
      "source": [
        "from google.colab import drive\n",
        "drive.mount('/content/gdrive')"
      ],
      "execution_count": 106,
      "outputs": [
        {
          "output_type": "stream",
          "text": [
            "Drive already mounted at /content/gdrive; to attempt to forcibly remount, call drive.mount(\"/content/gdrive\", force_remount=True).\n"
          ],
          "name": "stdout"
        }
      ]
    },
    {
      "cell_type": "code",
      "metadata": {
        "colab": {
          "base_uri": "https://localhost:8080/"
        },
        "id": "F0ww23agFCRJ",
        "outputId": "b3621344-662f-4759-ce2c-fb07365fff57"
      },
      "source": [
        "df = pd.read_csv('/content/gdrive/My Drive/Personality prediction/Bronze/mbti_1.csv')\n",
        "print(df)"
      ],
      "execution_count": 107,
      "outputs": [
        {
          "output_type": "stream",
          "text": [
            "      type                                              posts\n",
            "0     INFJ  'http://www.youtube.com/watch?v=qsXHcwe3krw|||...\n",
            "1     ENTP  'I'm finding the lack of me in these posts ver...\n",
            "2     INTP  'Good one  _____   https://www.youtube.com/wat...\n",
            "3     INTJ  'Dear INTP,   I enjoyed our conversation the o...\n",
            "4     ENTJ  'You're fired.|||That's another silly misconce...\n",
            "...    ...                                                ...\n",
            "8670  ISFP  'https://www.youtube.com/watch?v=t8edHB_h908||...\n",
            "8671  ENFP  'So...if this thread already exists someplace ...\n",
            "8672  INTP  'So many questions when i do these things.  I ...\n",
            "8673  INFP  'I am very conflicted right now when it comes ...\n",
            "8674  INFP  'It has been too long since I have been on per...\n",
            "\n",
            "[8675 rows x 2 columns]\n"
          ],
          "name": "stdout"
        }
      ]
    },
    {
      "cell_type": "markdown",
      "metadata": {
        "id": "YvvSEEF6Lp7X"
      },
      "source": [
        "## EDA"
      ]
    },
    {
      "cell_type": "markdown",
      "metadata": {
        "id": "rrdtWAd0O91p"
      },
      "source": [
        "### Validarea și pregătirea datelor"
      ]
    },
    {
      "cell_type": "markdown",
      "metadata": {
        "id": "02ee2QViwWI1"
      },
      "source": [
        "Vizualizăm setul de date:"
      ]
    },
    {
      "cell_type": "code",
      "metadata": {
        "colab": {
          "base_uri": "https://localhost:8080/",
          "height": 204
        },
        "id": "kqYewG4qFM90",
        "outputId": "b66ee5a0-358a-4f91-f38d-da1b550f25a8"
      },
      "source": [
        "df.head()"
      ],
      "execution_count": 108,
      "outputs": [
        {
          "output_type": "execute_result",
          "data": {
            "text/html": [
              "<div>\n",
              "<style scoped>\n",
              "    .dataframe tbody tr th:only-of-type {\n",
              "        vertical-align: middle;\n",
              "    }\n",
              "\n",
              "    .dataframe tbody tr th {\n",
              "        vertical-align: top;\n",
              "    }\n",
              "\n",
              "    .dataframe thead th {\n",
              "        text-align: right;\n",
              "    }\n",
              "</style>\n",
              "<table border=\"1\" class=\"dataframe\">\n",
              "  <thead>\n",
              "    <tr style=\"text-align: right;\">\n",
              "      <th></th>\n",
              "      <th>type</th>\n",
              "      <th>posts</th>\n",
              "    </tr>\n",
              "  </thead>\n",
              "  <tbody>\n",
              "    <tr>\n",
              "      <th>0</th>\n",
              "      <td>INFJ</td>\n",
              "      <td>'http://www.youtube.com/watch?v=qsXHcwe3krw|||...</td>\n",
              "    </tr>\n",
              "    <tr>\n",
              "      <th>1</th>\n",
              "      <td>ENTP</td>\n",
              "      <td>'I'm finding the lack of me in these posts ver...</td>\n",
              "    </tr>\n",
              "    <tr>\n",
              "      <th>2</th>\n",
              "      <td>INTP</td>\n",
              "      <td>'Good one  _____   https://www.youtube.com/wat...</td>\n",
              "    </tr>\n",
              "    <tr>\n",
              "      <th>3</th>\n",
              "      <td>INTJ</td>\n",
              "      <td>'Dear INTP,   I enjoyed our conversation the o...</td>\n",
              "    </tr>\n",
              "    <tr>\n",
              "      <th>4</th>\n",
              "      <td>ENTJ</td>\n",
              "      <td>'You're fired.|||That's another silly misconce...</td>\n",
              "    </tr>\n",
              "  </tbody>\n",
              "</table>\n",
              "</div>"
            ],
            "text/plain": [
              "   type                                              posts\n",
              "0  INFJ  'http://www.youtube.com/watch?v=qsXHcwe3krw|||...\n",
              "1  ENTP  'I'm finding the lack of me in these posts ver...\n",
              "2  INTP  'Good one  _____   https://www.youtube.com/wat...\n",
              "3  INTJ  'Dear INTP,   I enjoyed our conversation the o...\n",
              "4  ENTJ  'You're fired.|||That's another silly misconce..."
            ]
          },
          "metadata": {
            "tags": []
          },
          "execution_count": 108
        }
      ]
    },
    {
      "cell_type": "markdown",
      "metadata": {
        "id": "_Cw8A6mPLMto"
      },
      "source": [
        "Verificăm dacă avem NaN values:\n"
      ]
    },
    {
      "cell_type": "code",
      "metadata": {
        "colab": {
          "base_uri": "https://localhost:8080/"
        },
        "id": "vC4QTGzxHFVy",
        "outputId": "433edb47-c97f-45cd-8e03-8f3347badf11"
      },
      "source": [
        "df.isnull().any()"
      ],
      "execution_count": 109,
      "outputs": [
        {
          "output_type": "execute_result",
          "data": {
            "text/plain": [
              "type     False\n",
              "posts    False\n",
              "dtype: bool"
            ]
          },
          "metadata": {
            "tags": []
          },
          "execution_count": 109
        }
      ]
    },
    {
      "cell_type": "markdown",
      "metadata": {
        "id": "ymi3Kk5MLUqj"
      },
      "source": [
        "Verificăm tipul datelor:"
      ]
    },
    {
      "cell_type": "code",
      "metadata": {
        "colab": {
          "base_uri": "https://localhost:8080/"
        },
        "id": "4V55QCb4HF68",
        "outputId": "b02fff6c-dd1f-4777-be7d-c2f8a38fe93c"
      },
      "source": [
        "df.dtypes"
      ],
      "execution_count": 110,
      "outputs": [
        {
          "output_type": "execute_result",
          "data": {
            "text/plain": [
              "type     object\n",
              "posts    object\n",
              "dtype: object"
            ]
          },
          "metadata": {
            "tags": []
          },
          "execution_count": 110
        }
      ]
    },
    {
      "cell_type": "code",
      "metadata": {
        "colab": {
          "base_uri": "https://localhost:8080/"
        },
        "id": "7w1-mEn9HQin",
        "outputId": "dcbf6e3b-b17e-43a2-a28d-f4853c963324"
      },
      "source": [
        "df.info()"
      ],
      "execution_count": 111,
      "outputs": [
        {
          "output_type": "stream",
          "text": [
            "<class 'pandas.core.frame.DataFrame'>\n",
            "RangeIndex: 8675 entries, 0 to 8674\n",
            "Data columns (total 2 columns):\n",
            " #   Column  Non-Null Count  Dtype \n",
            "---  ------  --------------  ----- \n",
            " 0   type    8675 non-null   object\n",
            " 1   posts   8675 non-null   object\n",
            "dtypes: object(2)\n",
            "memory usage: 135.7+ KB\n"
          ],
          "name": "stdout"
        }
      ]
    },
    {
      "cell_type": "markdown",
      "metadata": {
        "id": "saX9ItVMLX4k"
      },
      "source": [
        "Analizăm setul de date:"
      ]
    },
    {
      "cell_type": "code",
      "metadata": {
        "colab": {
          "base_uri": "https://localhost:8080/",
          "height": 173
        },
        "id": "TcYFJ88bHkU-",
        "outputId": "ac8d0e4b-cc47-49fc-b385-0ae5221c081e"
      },
      "source": [
        "df.describe(include=['object'])"
      ],
      "execution_count": 112,
      "outputs": [
        {
          "output_type": "execute_result",
          "data": {
            "text/html": [
              "<div>\n",
              "<style scoped>\n",
              "    .dataframe tbody tr th:only-of-type {\n",
              "        vertical-align: middle;\n",
              "    }\n",
              "\n",
              "    .dataframe tbody tr th {\n",
              "        vertical-align: top;\n",
              "    }\n",
              "\n",
              "    .dataframe thead th {\n",
              "        text-align: right;\n",
              "    }\n",
              "</style>\n",
              "<table border=\"1\" class=\"dataframe\">\n",
              "  <thead>\n",
              "    <tr style=\"text-align: right;\">\n",
              "      <th></th>\n",
              "      <th>type</th>\n",
              "      <th>posts</th>\n",
              "    </tr>\n",
              "  </thead>\n",
              "  <tbody>\n",
              "    <tr>\n",
              "      <th>count</th>\n",
              "      <td>8675</td>\n",
              "      <td>8675</td>\n",
              "    </tr>\n",
              "    <tr>\n",
              "      <th>unique</th>\n",
              "      <td>16</td>\n",
              "      <td>8675</td>\n",
              "    </tr>\n",
              "    <tr>\n",
              "      <th>top</th>\n",
              "      <td>INFP</td>\n",
              "      <td>'The Decline of the West by Oswald Spengler.||...</td>\n",
              "    </tr>\n",
              "    <tr>\n",
              "      <th>freq</th>\n",
              "      <td>1832</td>\n",
              "      <td>1</td>\n",
              "    </tr>\n",
              "  </tbody>\n",
              "</table>\n",
              "</div>"
            ],
            "text/plain": [
              "        type                                              posts\n",
              "count   8675                                               8675\n",
              "unique    16                                               8675\n",
              "top     INFP  'The Decline of the West by Oswald Spengler.||...\n",
              "freq    1832                                                  1"
            ]
          },
          "metadata": {
            "tags": []
          },
          "execution_count": 112
        }
      ]
    },
    {
      "cell_type": "code",
      "metadata": {
        "colab": {
          "base_uri": "https://localhost:8080/"
        },
        "id": "dTUpDsccHpPC",
        "outputId": "784f4d51-573d-4161-c644-62e0a9c6db06"
      },
      "source": [
        "types = np.unique(np.array(df['type']))\n",
        "types"
      ],
      "execution_count": 113,
      "outputs": [
        {
          "output_type": "execute_result",
          "data": {
            "text/plain": [
              "array(['ENFJ', 'ENFP', 'ENTJ', 'ENTP', 'ESFJ', 'ESFP', 'ESTJ', 'ESTP',\n",
              "       'INFJ', 'INFP', 'INTJ', 'INTP', 'ISFJ', 'ISFP', 'ISTJ', 'ISTP'],\n",
              "      dtype=object)"
            ]
          },
          "metadata": {
            "tags": []
          },
          "execution_count": 113
        }
      ]
    },
    {
      "cell_type": "markdown",
      "metadata": {
        "id": "yR4Eb0e1LmHg"
      },
      "source": [
        "Facem split la postări și dublăm tipul personalității de câte ori e nevoie:"
      ]
    },
    {
      "cell_type": "code",
      "metadata": {
        "colab": {
          "base_uri": "https://localhost:8080/"
        },
        "id": "ZAQlPfN8K17c",
        "outputId": "16c1becc-9ba3-4bbd-9f68-425a138924ea"
      },
      "source": [
        "def extract(posts, new_posts):\n",
        "    for post in posts[1].split(\"|||\"):\n",
        "        new_posts.append((posts[0], post))\n",
        "\n",
        "posts = []\n",
        "df.apply(lambda x: extract(x, posts), axis=1)\n",
        "print(\"Number of users\", len(df))\n",
        "print(\"Number of posts\", len(posts))"
      ],
      "execution_count": 114,
      "outputs": [
        {
          "output_type": "stream",
          "text": [
            "Number of users 8675\n",
            "Number of posts 422845\n"
          ],
          "name": "stdout"
        }
      ]
    },
    {
      "cell_type": "code",
      "metadata": {
        "colab": {
          "base_uri": "https://localhost:8080/"
        },
        "id": "aEsFxmONK2yC",
        "outputId": "4a381c19-0151-4e46-9155-9c0535abe1ec"
      },
      "source": [
        "df = pd.DataFrame(posts, columns=[\"types\", \"posts\"])\n",
        "print(df.shape)\n",
        "print(df.head())"
      ],
      "execution_count": 115,
      "outputs": [
        {
          "output_type": "stream",
          "text": [
            "(422845, 2)\n",
            "  types                                              posts\n",
            "0  INFJ        'http://www.youtube.com/watch?v=qsXHcwe3krw\n",
            "1  INFJ  http://41.media.tumblr.com/tumblr_lfouy03PMA1q...\n",
            "2  INFJ  enfp and intj moments  https://www.youtube.com...\n",
            "3  INFJ  What has been the most life-changing experienc...\n",
            "4  INFJ  http://www.youtube.com/watch?v=vXZeYwwRDw8   h...\n"
          ],
          "name": "stdout"
        }
      ]
    },
    {
      "cell_type": "markdown",
      "metadata": {
        "id": "QupT_EIAPXJJ"
      },
      "source": [
        "### Analiza multivariată"
      ]
    },
    {
      "cell_type": "markdown",
      "metadata": {
        "id": "4z5pGTAULd6_"
      },
      "source": [
        "Analizăm ce tipuri de personalități avem și câte postări:"
      ]
    },
    {
      "cell_type": "code",
      "metadata": {
        "colab": {
          "base_uri": "https://localhost:8080/",
          "height": 576
        },
        "id": "6JR9CrLsH0p2",
        "outputId": "f2889b96-c747-417c-9b60-9603e7eb936d"
      },
      "source": [
        "total = df.groupby(['types']).count()\n",
        "total"
      ],
      "execution_count": 116,
      "outputs": [
        {
          "output_type": "execute_result",
          "data": {
            "text/html": [
              "<div>\n",
              "<style scoped>\n",
              "    .dataframe tbody tr th:only-of-type {\n",
              "        vertical-align: middle;\n",
              "    }\n",
              "\n",
              "    .dataframe tbody tr th {\n",
              "        vertical-align: top;\n",
              "    }\n",
              "\n",
              "    .dataframe thead th {\n",
              "        text-align: right;\n",
              "    }\n",
              "</style>\n",
              "<table border=\"1\" class=\"dataframe\">\n",
              "  <thead>\n",
              "    <tr style=\"text-align: right;\">\n",
              "      <th></th>\n",
              "      <th>posts</th>\n",
              "    </tr>\n",
              "    <tr>\n",
              "      <th>types</th>\n",
              "      <th></th>\n",
              "    </tr>\n",
              "  </thead>\n",
              "  <tbody>\n",
              "    <tr>\n",
              "      <th>ENFJ</th>\n",
              "      <td>9288</td>\n",
              "    </tr>\n",
              "    <tr>\n",
              "      <th>ENFP</th>\n",
              "      <td>32769</td>\n",
              "    </tr>\n",
              "    <tr>\n",
              "      <th>ENTJ</th>\n",
              "      <td>11273</td>\n",
              "    </tr>\n",
              "    <tr>\n",
              "      <th>ENTP</th>\n",
              "      <td>33761</td>\n",
              "    </tr>\n",
              "    <tr>\n",
              "      <th>ESFJ</th>\n",
              "      <td>2018</td>\n",
              "    </tr>\n",
              "    <tr>\n",
              "      <th>ESFP</th>\n",
              "      <td>2215</td>\n",
              "    </tr>\n",
              "    <tr>\n",
              "      <th>ESTJ</th>\n",
              "      <td>1921</td>\n",
              "    </tr>\n",
              "    <tr>\n",
              "      <th>ESTP</th>\n",
              "      <td>4337</td>\n",
              "    </tr>\n",
              "    <tr>\n",
              "      <th>INFJ</th>\n",
              "      <td>72105</td>\n",
              "    </tr>\n",
              "    <tr>\n",
              "      <th>INFP</th>\n",
              "      <td>89796</td>\n",
              "    </tr>\n",
              "    <tr>\n",
              "      <th>INTJ</th>\n",
              "      <td>52471</td>\n",
              "    </tr>\n",
              "    <tr>\n",
              "      <th>INTP</th>\n",
              "      <td>63359</td>\n",
              "    </tr>\n",
              "    <tr>\n",
              "      <th>ISFJ</th>\n",
              "      <td>8121</td>\n",
              "    </tr>\n",
              "    <tr>\n",
              "      <th>ISFP</th>\n",
              "      <td>13000</td>\n",
              "    </tr>\n",
              "    <tr>\n",
              "      <th>ISTJ</th>\n",
              "      <td>9913</td>\n",
              "    </tr>\n",
              "    <tr>\n",
              "      <th>ISTP</th>\n",
              "      <td>16498</td>\n",
              "    </tr>\n",
              "  </tbody>\n",
              "</table>\n",
              "</div>"
            ],
            "text/plain": [
              "       posts\n",
              "types       \n",
              "ENFJ    9288\n",
              "ENFP   32769\n",
              "ENTJ   11273\n",
              "ENTP   33761\n",
              "ESFJ    2018\n",
              "ESFP    2215\n",
              "ESTJ    1921\n",
              "ESTP    4337\n",
              "INFJ   72105\n",
              "INFP   89796\n",
              "INTJ   52471\n",
              "INTP   63359\n",
              "ISFJ    8121\n",
              "ISFP   13000\n",
              "ISTJ    9913\n",
              "ISTP   16498"
            ]
          },
          "metadata": {
            "tags": []
          },
          "execution_count": 116
        }
      ]
    },
    {
      "cell_type": "markdown",
      "metadata": {
        "id": "ClmGuwrjwibJ"
      },
      "source": [
        "Graficele numărului total de postări pentru fiecare tip de personalitate:"
      ]
    },
    {
      "cell_type": "code",
      "metadata": {
        "colab": {
          "base_uri": "https://localhost:8080/",
          "height": 316
        },
        "id": "EO594nPFH2wb",
        "outputId": "5d865da0-d7bb-4fb8-c6f4-bce84c1c5993"
      },
      "source": [
        "plt.figure(figsize = (12,4))\n",
        "plt.bar(np.array(total.index), height = total['posts'],)\n",
        "plt.xlabel('Personality types', size = 14)\n",
        "plt.ylabel('No. of posts available', size = 14)\n",
        "plt.title('Total posts for each personality type')"
      ],
      "execution_count": 117,
      "outputs": [
        {
          "output_type": "execute_result",
          "data": {
            "text/plain": [
              "Text(0.5, 1.0, 'Total posts for each personality type')"
            ]
          },
          "metadata": {
            "tags": []
          },
          "execution_count": 117
        },
        {
          "output_type": "display_data",
          "data": {
            "image/png": "[encoded data removed]",
            "text/plain": [
              "<Figure size 864x288 with 1 Axes>"
            ]
          },
          "metadata": {
            "tags": [],
            "needs_background": "light"
          }
        }
      ]
    },
    {
      "cell_type": "code",
      "metadata": {
        "colab": {
          "base_uri": "https://localhost:8080/",
          "height": 336
        },
        "id": "YzufmwqkI9ZT",
        "outputId": "9a5e4c5d-8319-4071-f659-04740cf7ad93"
      },
      "source": [
        "cnt_srs = df['types'].value_counts()\n",
        "plt.figure(figsize=(12,4))\n",
        "sns.barplot(cnt_srs.index, cnt_srs.values, alpha=0.8)\n",
        "plt.xlabel('Personality types', fontsize=12)\n",
        "plt.ylabel('No. of posts availables', fontsize=12)\n",
        "plt.show()"
      ],
      "execution_count": 118,
      "outputs": [
        {
          "output_type": "stream",
          "text": [
            "/usr/local/lib/python3.7/dist-packages/seaborn/_decorators.py:43: FutureWarning: Pass the following variables as keyword args: x, y. From version 0.12, the only valid positional argument will be `data`, and passing other arguments without an explicit keyword will result in an error or misinterpretation.\n",
            "  FutureWarning\n"
          ],
          "name": "stderr"
        },
        {
          "output_type": "display_data",
          "data": {
            "image/png": "[encoded data removed]",
            "text/plain": [
              "<Figure size 864x288 with 1 Axes>"
            ]
          },
          "metadata": {
            "tags": [],
            "needs_background": "light"
          }
        }
      ]
    },
    {
      "cell_type": "markdown",
      "metadata": {
        "id": "sOv-fWFxQO6V"
      },
      "source": [
        "### Analiza univariată"
      ]
    },
    {
      "cell_type": "markdown",
      "metadata": {
        "id": "3kh7mOzjL1o3"
      },
      "source": [
        "Vom împărți fiecare personalitate pe litere:"
      ]
    },
    {
      "cell_type": "code",
      "metadata": {
        "colab": {
          "base_uri": "https://localhost:8080/"
        },
        "id": "1np0285qJrHs",
        "outputId": "bb84f2a2-5144-406a-b69f-3f7a19028239"
      },
      "source": [
        "df['Letter1'] = df.apply(lambda row: row.types[0], axis = 1)\n",
        "df['Letter2'] = df.apply(lambda row: row.types[1], axis = 1)\n",
        "df['Letter3'] = df.apply(lambda row: row.types[2], axis = 1)\n",
        "df['Letter4'] = df.apply(lambda row: row.types[3], axis = 1)\n",
        "df = df.drop(df.columns[0], axis=1)\n",
        "print(df)"
      ],
      "execution_count": 119,
      "outputs": [
        {
          "output_type": "stream",
          "text": [
            "                                                    posts  ... Letter4\n",
            "0             'http://www.youtube.com/watch?v=qsXHcwe3krw  ...       J\n",
            "1       http://41.media.tumblr.com/tumblr_lfouy03PMA1q...  ...       J\n",
            "2       enfp and intj moments  https://www.youtube.com...  ...       J\n",
            "3       What has been the most life-changing experienc...  ...       J\n",
            "4       http://www.youtube.com/watch?v=vXZeYwwRDw8   h...  ...       J\n",
            "...                                                   ...  ...     ...\n",
            "422840  I was going to close my facebook a few months ...  ...       P\n",
            "422841  30 Seconds to Mars - All of my collections. It...  ...       P\n",
            "422842  I have seen it, and i agree. I did actually th...  ...       P\n",
            "422843  Ok so i have just watched Underworld 4 (Awaken...  ...       P\n",
            "422844  I would never want to turn off my emotions. so...  ...       P\n",
            "\n",
            "[422845 rows x 5 columns]\n"
          ],
          "name": "stdout"
        }
      ]
    },
    {
      "cell_type": "markdown",
      "metadata": {
        "id": "1H3Y3gGKypc2"
      },
      "source": [
        "Am obținut un dataframe cu 422845 de rânduri și 5 coloane."
      ]
    },
    {
      "cell_type": "markdown",
      "metadata": {
        "id": "EFQxBOs1MRfX"
      },
      "source": [
        "Vom scăpa de dubluri:"
      ]
    },
    {
      "cell_type": "code",
      "metadata": {
        "id": "rUDeWd-qJ0Ps"
      },
      "source": [
        "df = df.drop_duplicates()"
      ],
      "execution_count": 120,
      "outputs": []
    },
    {
      "cell_type": "code",
      "metadata": {
        "colab": {
          "base_uri": "https://localhost:8080/"
        },
        "id": "Opsruo6GJ3Ve",
        "outputId": "f16ac289-b9ea-4fd4-809f-a756a23dbabc"
      },
      "source": [
        "df.shape"
      ],
      "execution_count": 121,
      "outputs": [
        {
          "output_type": "execute_result",
          "data": {
            "text/plain": [
              "(419055, 5)"
            ]
          },
          "metadata": {
            "tags": []
          },
          "execution_count": 121
        }
      ]
    },
    {
      "cell_type": "markdown",
      "metadata": {
        "id": "K2VEB-btMUIb"
      },
      "source": [
        "Vom scăpa de valori lipsă, dacă avem:"
      ]
    },
    {
      "cell_type": "code",
      "metadata": {
        "id": "vSHx-5S4J9OG"
      },
      "source": [
        "df = df.dropna()"
      ],
      "execution_count": 122,
      "outputs": []
    },
    {
      "cell_type": "code",
      "metadata": {
        "colab": {
          "base_uri": "https://localhost:8080/"
        },
        "id": "sYimIjNjKE9M",
        "outputId": "ce5f041b-9283-422d-c24f-e6b5021f28a4"
      },
      "source": [
        "df.shape"
      ],
      "execution_count": 123,
      "outputs": [
        {
          "output_type": "execute_result",
          "data": {
            "text/plain": [
              "(419055, 5)"
            ]
          },
          "metadata": {
            "tags": []
          },
          "execution_count": 123
        }
      ]
    },
    {
      "cell_type": "markdown",
      "metadata": {
        "id": "t0u_TMUgy5Oy"
      },
      "source": [
        "Am obținut un dataframe final cu 419055 de rânduri și 5 coloane. Cu acesta și vom lucra pe tot parcursul proiectului."
      ]
    },
    {
      "cell_type": "markdown",
      "metadata": {
        "id": "yNudG3V4MZNe"
      },
      "source": [
        "Analizăm numărul de postări per literă:"
      ]
    },
    {
      "cell_type": "code",
      "metadata": {
        "colab": {
          "base_uri": "https://localhost:8080/",
          "height": 142
        },
        "id": "PI2kLmQ7KaiT",
        "outputId": "eb2ee059-4a20-4bd5-8292-aced04311e82"
      },
      "source": [
        "letter1 = df[['posts','Letter1']].groupby(['Letter1']).count()\n",
        "letter1"
      ],
      "execution_count": 124,
      "outputs": [
        {
          "output_type": "execute_result",
          "data": {
            "text/html": [
              "<div>\n",
              "<style scoped>\n",
              "    .dataframe tbody tr th:only-of-type {\n",
              "        vertical-align: middle;\n",
              "    }\n",
              "\n",
              "    .dataframe tbody tr th {\n",
              "        vertical-align: top;\n",
              "    }\n",
              "\n",
              "    .dataframe thead th {\n",
              "        text-align: right;\n",
              "    }\n",
              "</style>\n",
              "<table border=\"1\" class=\"dataframe\">\n",
              "  <thead>\n",
              "    <tr style=\"text-align: right;\">\n",
              "      <th></th>\n",
              "      <th>posts</th>\n",
              "    </tr>\n",
              "    <tr>\n",
              "      <th>Letter1</th>\n",
              "      <th></th>\n",
              "    </tr>\n",
              "  </thead>\n",
              "  <tbody>\n",
              "    <tr>\n",
              "      <th>E</th>\n",
              "      <td>96550</td>\n",
              "    </tr>\n",
              "    <tr>\n",
              "      <th>I</th>\n",
              "      <td>322505</td>\n",
              "    </tr>\n",
              "  </tbody>\n",
              "</table>\n",
              "</div>"
            ],
            "text/plain": [
              "          posts\n",
              "Letter1        \n",
              "E         96550\n",
              "I        322505"
            ]
          },
          "metadata": {
            "tags": []
          },
          "execution_count": 124
        }
      ]
    },
    {
      "cell_type": "code",
      "metadata": {
        "colab": {
          "base_uri": "https://localhost:8080/",
          "height": 316
        },
        "id": "0uDua2ufKkUs",
        "outputId": "623602c5-70a1-453f-e05b-e76536dd2364"
      },
      "source": [
        "plt.figure(figsize = (12,4))\n",
        "plt.bar(np.array(letter1.index), height = letter1['posts'])\n",
        "plt.xlabel('Personality types', size = 14)\n",
        "plt.ylabel('No. of posts available', size = 14)\n",
        "plt.title('Total posts for each personality type per letter')"
      ],
      "execution_count": 125,
      "outputs": [
        {
          "output_type": "execute_result",
          "data": {
            "text/plain": [
              "Text(0.5, 1.0, 'Total posts for each personality type per letter')"
            ]
          },
          "metadata": {
            "tags": []
          },
          "execution_count": 125
        },
        {
          "output_type": "display_data",
          "data": {
            "image/png": "[encoded data removed]",
            "text/plain": [
              "<Figure size 864x288 with 1 Axes>"
            ]
          },
          "metadata": {
            "tags": [],
            "needs_background": "light"
          }
        }
      ]
    },
    {
      "cell_type": "code",
      "metadata": {
        "colab": {
          "base_uri": "https://localhost:8080/",
          "height": 142
        },
        "id": "T9OGCjKZVci-",
        "outputId": "68e85192-fd6b-46b8-8e4c-4deb4685ef66"
      },
      "source": [
        "letter2 = df[['posts','Letter2']].groupby(['Letter2']).count()\n",
        "letter2"
      ],
      "execution_count": 126,
      "outputs": [
        {
          "output_type": "execute_result",
          "data": {
            "text/html": [
              "<div>\n",
              "<style scoped>\n",
              "    .dataframe tbody tr th:only-of-type {\n",
              "        vertical-align: middle;\n",
              "    }\n",
              "\n",
              "    .dataframe tbody tr th {\n",
              "        vertical-align: top;\n",
              "    }\n",
              "\n",
              "    .dataframe thead th {\n",
              "        text-align: right;\n",
              "    }\n",
              "</style>\n",
              "<table border=\"1\" class=\"dataframe\">\n",
              "  <thead>\n",
              "    <tr style=\"text-align: right;\">\n",
              "      <th></th>\n",
              "      <th>posts</th>\n",
              "    </tr>\n",
              "    <tr>\n",
              "      <th>Letter2</th>\n",
              "      <th></th>\n",
              "    </tr>\n",
              "  </thead>\n",
              "  <tbody>\n",
              "    <tr>\n",
              "      <th>N</th>\n",
              "      <td>361537</td>\n",
              "    </tr>\n",
              "    <tr>\n",
              "      <th>S</th>\n",
              "      <td>57518</td>\n",
              "    </tr>\n",
              "  </tbody>\n",
              "</table>\n",
              "</div>"
            ],
            "text/plain": [
              "          posts\n",
              "Letter2        \n",
              "N        361537\n",
              "S         57518"
            ]
          },
          "metadata": {
            "tags": []
          },
          "execution_count": 126
        }
      ]
    },
    {
      "cell_type": "code",
      "metadata": {
        "colab": {
          "base_uri": "https://localhost:8080/",
          "height": 316
        },
        "id": "G2-qafVsVj7z",
        "outputId": "742b023e-c72f-473f-a7dd-a61dd8faab0a"
      },
      "source": [
        "plt.figure(figsize = (12,4))\n",
        "plt.bar(np.array(letter2.index), height = letter2['posts'])\n",
        "plt.xlabel('Personality types', size = 14)\n",
        "plt.ylabel('No. of posts available', size = 14)\n",
        "plt.title('Total posts for each personality type per letter')"
      ],
      "execution_count": 127,
      "outputs": [
        {
          "output_type": "execute_result",
          "data": {
            "text/plain": [
              "Text(0.5, 1.0, 'Total posts for each personality type per letter')"
            ]
          },
          "metadata": {
            "tags": []
          },
          "execution_count": 127
        },
        {
          "output_type": "display_data",
          "data": {
            "image/png": "[encoded data removed]",
            "text/plain": [
              "<Figure size 864x288 with 1 Axes>"
            ]
          },
          "metadata": {
            "tags": [],
            "needs_background": "light"
          }
        }
      ]
    },
    {
      "cell_type": "code",
      "metadata": {
        "colab": {
          "base_uri": "https://localhost:8080/",
          "height": 142
        },
        "id": "XESEELKQVqIB",
        "outputId": "f6269836-5f48-447a-86e2-e69ac3afe43a"
      },
      "source": [
        "letter3 = df[['posts','Letter3']].groupby(['Letter3']).count()\n",
        "letter3"
      ],
      "execution_count": 128,
      "outputs": [
        {
          "output_type": "execute_result",
          "data": {
            "text/html": [
              "<div>\n",
              "<style scoped>\n",
              "    .dataframe tbody tr th:only-of-type {\n",
              "        vertical-align: middle;\n",
              "    }\n",
              "\n",
              "    .dataframe tbody tr th {\n",
              "        vertical-align: top;\n",
              "    }\n",
              "\n",
              "    .dataframe thead th {\n",
              "        text-align: right;\n",
              "    }\n",
              "</style>\n",
              "<table border=\"1\" class=\"dataframe\">\n",
              "  <thead>\n",
              "    <tr style=\"text-align: right;\">\n",
              "      <th></th>\n",
              "      <th>posts</th>\n",
              "    </tr>\n",
              "    <tr>\n",
              "      <th>Letter3</th>\n",
              "      <th></th>\n",
              "    </tr>\n",
              "  </thead>\n",
              "  <tbody>\n",
              "    <tr>\n",
              "      <th>F</th>\n",
              "      <td>227253</td>\n",
              "    </tr>\n",
              "    <tr>\n",
              "      <th>T</th>\n",
              "      <td>191802</td>\n",
              "    </tr>\n",
              "  </tbody>\n",
              "</table>\n",
              "</div>"
            ],
            "text/plain": [
              "          posts\n",
              "Letter3        \n",
              "F        227253\n",
              "T        191802"
            ]
          },
          "metadata": {
            "tags": []
          },
          "execution_count": 128
        }
      ]
    },
    {
      "cell_type": "code",
      "metadata": {
        "colab": {
          "base_uri": "https://localhost:8080/",
          "height": 316
        },
        "id": "CLkCEDkiVwAA",
        "outputId": "cedee451-1e95-4e4d-e118-c02dc2210788"
      },
      "source": [
        "plt.figure(figsize = (12,4))\n",
        "plt.bar(np.array(letter3.index), height = letter3['posts'])\n",
        "plt.xlabel('Personality types', size = 14)\n",
        "plt.ylabel('No. of posts available', size = 14)\n",
        "plt.title('Total posts for each personality type per letter')"
      ],
      "execution_count": 129,
      "outputs": [
        {
          "output_type": "execute_result",
          "data": {
            "text/plain": [
              "Text(0.5, 1.0, 'Total posts for each personality type per letter')"
            ]
          },
          "metadata": {
            "tags": []
          },
          "execution_count": 129
        },
        {
          "output_type": "display_data",
          "data": {
            "image/png": "[encoded data removed]",
            "text/plain": [
              "<Figure size 864x288 with 1 Axes>"
            ]
          },
          "metadata": {
            "tags": [],
            "needs_background": "light"
          }
        }
      ]
    },
    {
      "cell_type": "code",
      "metadata": {
        "colab": {
          "base_uri": "https://localhost:8080/",
          "height": 142
        },
        "id": "7xrEVF9-V2pG",
        "outputId": "e7003ed2-e569-4304-b2bc-b900ccadb640"
      },
      "source": [
        "letter4 = df[['posts','Letter4']].groupby(['Letter4']).count()\n",
        "letter4"
      ],
      "execution_count": 130,
      "outputs": [
        {
          "output_type": "execute_result",
          "data": {
            "text/html": [
              "<div>\n",
              "<style scoped>\n",
              "    .dataframe tbody tr th:only-of-type {\n",
              "        vertical-align: middle;\n",
              "    }\n",
              "\n",
              "    .dataframe tbody tr th {\n",
              "        vertical-align: top;\n",
              "    }\n",
              "\n",
              "    .dataframe thead th {\n",
              "        text-align: right;\n",
              "    }\n",
              "</style>\n",
              "<table border=\"1\" class=\"dataframe\">\n",
              "  <thead>\n",
              "    <tr style=\"text-align: right;\">\n",
              "      <th></th>\n",
              "      <th>posts</th>\n",
              "    </tr>\n",
              "    <tr>\n",
              "      <th>Letter4</th>\n",
              "      <th></th>\n",
              "    </tr>\n",
              "  </thead>\n",
              "  <tbody>\n",
              "    <tr>\n",
              "      <th>J</th>\n",
              "      <td>165684</td>\n",
              "    </tr>\n",
              "    <tr>\n",
              "      <th>P</th>\n",
              "      <td>253371</td>\n",
              "    </tr>\n",
              "  </tbody>\n",
              "</table>\n",
              "</div>"
            ],
            "text/plain": [
              "          posts\n",
              "Letter4        \n",
              "J        165684\n",
              "P        253371"
            ]
          },
          "metadata": {
            "tags": []
          },
          "execution_count": 130
        }
      ]
    },
    {
      "cell_type": "code",
      "metadata": {
        "colab": {
          "base_uri": "https://localhost:8080/",
          "height": 316
        },
        "id": "9GNWs1UcV6A0",
        "outputId": "77d39506-9ba1-487b-d9f4-bf5959e3cd6e"
      },
      "source": [
        "plt.figure(figsize = (12,4))\n",
        "plt.bar(np.array(letter4.index), height = letter4['posts'])\n",
        "plt.xlabel('Personality types', size = 14)\n",
        "plt.ylabel('No. of posts available', size = 14)\n",
        "plt.title('Total posts for each personality type per letter')"
      ],
      "execution_count": 131,
      "outputs": [
        {
          "output_type": "execute_result",
          "data": {
            "text/plain": [
              "Text(0.5, 1.0, 'Total posts for each personality type per letter')"
            ]
          },
          "metadata": {
            "tags": []
          },
          "execution_count": 131
        },
        {
          "output_type": "display_data",
          "data": {
            "image/png": "[encoded data removed]",
            "text/plain": [
              "<Figure size 864x288 with 1 Axes>"
            ]
          },
          "metadata": {
            "tags": [],
            "needs_background": "light"
          }
        }
      ]
    },
    {
      "cell_type": "markdown",
      "metadata": {
        "id": "lt2r6n6pRLlG"
      },
      "source": [
        "## Preprocesarea postărilor"
      ]
    },
    {
      "cell_type": "markdown",
      "metadata": {
        "id": "fCVfh6qpkRnC"
      },
      "source": [
        "Vom șterge părțile în plus, vom lăsa doar denumirea rețelei sociale, scoatem stopwords, punctuația, trasnformăm în caractere mici și facem tokenizarea: - modifica!!!\n",
        "\n"
      ]
    },
    {
      "cell_type": "code",
      "metadata": {
        "colab": {
          "base_uri": "https://localhost:8080/"
        },
        "id": "_jQZs34Gd9Nc",
        "outputId": "1b0ec447-008c-48f5-df16-7e67c5c56e79"
      },
      "source": [
        "import nltk\n",
        "nltk.download('stopwords')\n",
        "import nltk\n",
        "from nltk.corpus import stopwords\n",
        "stop = stopwords.words('english')\n",
        "from nltk.stem import PorterStemmer\n",
        "porter = PorterStemmer()"
      ],
      "execution_count": 132,
      "outputs": [
        {
          "output_type": "stream",
          "text": [
            "[nltk_data] Downloading package stopwords to /root/nltk_data...\n",
            "[nltk_data]   Package stopwords is already up-to-date!\n"
          ],
          "name": "stdout"
        }
      ]
    },
    {
      "cell_type": "code",
      "metadata": {
        "id": "6tsa4kUNb_xC"
      },
      "source": [
        "import re\n",
        "from nltk.tokenize import RegexpTokenizer\n",
        "tokenizer = RegexpTokenizer(r'\\w+')\n",
        "regex = '(http|ftp|https)://([\\w_-]+(?:(?:\\.[\\w_-]+)+))([\\w.,@?^=%&:/~+#-]*[\\w@?^=%&/~+#-])?'\n",
        "df['posts'] = df['posts'].replace(to_replace = regex, value = np.NaN, regex=True)\n",
        "df = df.dropna()\n",
        "posts = df['posts'].values\n",
        "for i in range(len(posts)):\n",
        "  posts[i] = ' '.join([porter.stem(word.lower()) for word in tokenizer.tokenize(posts[i]) if word.lower() not in stop])\n",
        "df['posts'] = posts"
      ],
      "execution_count": 133,
      "outputs": []
    },
    {
      "cell_type": "markdown",
      "metadata": {
        "id": "Q_IIfGxrzh8L"
      },
      "source": [
        "Vizualizăm dataframe-ul:\n"
      ]
    },
    {
      "cell_type": "code",
      "metadata": {
        "colab": {
          "base_uri": "https://localhost:8080/",
          "height": 204
        },
        "id": "bDMH-ANDeXoa",
        "outputId": "90081ab7-84d6-43dc-d731-62b1c1cd1bf2"
      },
      "source": [
        "df.head()"
      ],
      "execution_count": 134,
      "outputs": [
        {
          "output_type": "execute_result",
          "data": {
            "text/html": [
              "<div>\n",
              "<style scoped>\n",
              "    .dataframe tbody tr th:only-of-type {\n",
              "        vertical-align: middle;\n",
              "    }\n",
              "\n",
              "    .dataframe tbody tr th {\n",
              "        vertical-align: top;\n",
              "    }\n",
              "\n",
              "    .dataframe thead th {\n",
              "        text-align: right;\n",
              "    }\n",
              "</style>\n",
              "<table border=\"1\" class=\"dataframe\">\n",
              "  <thead>\n",
              "    <tr style=\"text-align: right;\">\n",
              "      <th></th>\n",
              "      <th>posts</th>\n",
              "      <th>Letter1</th>\n",
              "      <th>Letter2</th>\n",
              "      <th>Letter3</th>\n",
              "      <th>Letter4</th>\n",
              "    </tr>\n",
              "  </thead>\n",
              "  <tbody>\n",
              "    <tr>\n",
              "      <th>3</th>\n",
              "      <td>life chang experi life</td>\n",
              "      <td>I</td>\n",
              "      <td>N</td>\n",
              "      <td>F</td>\n",
              "      <td>J</td>\n",
              "    </tr>\n",
              "    <tr>\n",
              "      <th>5</th>\n",
              "      <td>may perc experi immers</td>\n",
              "      <td>I</td>\n",
              "      <td>N</td>\n",
              "      <td>F</td>\n",
              "      <td>J</td>\n",
              "    </tr>\n",
              "    <tr>\n",
              "      <th>7</th>\n",
              "      <td>hello enfj7 sorri hear distress natur relation...</td>\n",
              "      <td>I</td>\n",
              "      <td>N</td>\n",
              "      <td>F</td>\n",
              "      <td>J</td>\n",
              "    </tr>\n",
              "    <tr>\n",
              "      <th>9</th>\n",
              "      <td>welcom stuff</td>\n",
              "      <td>I</td>\n",
              "      <td>N</td>\n",
              "      <td>F</td>\n",
              "      <td>J</td>\n",
              "    </tr>\n",
              "    <tr>\n",
              "      <th>11</th>\n",
              "      <td>prozac wellbrutin least thirti minut move leg ...</td>\n",
              "      <td>I</td>\n",
              "      <td>N</td>\n",
              "      <td>F</td>\n",
              "      <td>J</td>\n",
              "    </tr>\n",
              "  </tbody>\n",
              "</table>\n",
              "</div>"
            ],
            "text/plain": [
              "                                                posts Letter1  ... Letter3 Letter4\n",
              "3                              life chang experi life       I  ...       F       J\n",
              "5                              may perc experi immers       I  ...       F       J\n",
              "7   hello enfj7 sorri hear distress natur relation...       I  ...       F       J\n",
              "9                                        welcom stuff       I  ...       F       J\n",
              "11  prozac wellbrutin least thirti minut move leg ...       I  ...       F       J\n",
              "\n",
              "[5 rows x 5 columns]"
            ]
          },
          "metadata": {
            "tags": []
          },
          "execution_count": 134
        }
      ]
    },
    {
      "cell_type": "code",
      "metadata": {
        "colab": {
          "base_uri": "https://localhost:8080/",
          "height": 204
        },
        "id": "Xm-rUdd_r6DC",
        "outputId": "31a2071e-0a67-4988-8141-43d095495f57"
      },
      "source": [
        "df.tail()"
      ],
      "execution_count": 135,
      "outputs": [
        {
          "output_type": "execute_result",
          "data": {
            "text/html": [
              "<div>\n",
              "<style scoped>\n",
              "    .dataframe tbody tr th:only-of-type {\n",
              "        vertical-align: middle;\n",
              "    }\n",
              "\n",
              "    .dataframe tbody tr th {\n",
              "        vertical-align: top;\n",
              "    }\n",
              "\n",
              "    .dataframe thead th {\n",
              "        text-align: right;\n",
              "    }\n",
              "</style>\n",
              "<table border=\"1\" class=\"dataframe\">\n",
              "  <thead>\n",
              "    <tr style=\"text-align: right;\">\n",
              "      <th></th>\n",
              "      <th>posts</th>\n",
              "      <th>Letter1</th>\n",
              "      <th>Letter2</th>\n",
              "      <th>Letter3</th>\n",
              "      <th>Letter4</th>\n",
              "    </tr>\n",
              "  </thead>\n",
              "  <tbody>\n",
              "    <tr>\n",
              "      <th>422840</th>\n",
              "      <td>go close facebook month back well want abl mes...</td>\n",
              "      <td>I</td>\n",
              "      <td>N</td>\n",
              "      <td>F</td>\n",
              "      <td>P</td>\n",
              "    </tr>\n",
              "    <tr>\n",
              "      <th>422841</th>\n",
              "      <td>30 second mar collect seem fit mood right</td>\n",
              "      <td>I</td>\n",
              "      <td>N</td>\n",
              "      <td>F</td>\n",
              "      <td>P</td>\n",
              "    </tr>\n",
              "    <tr>\n",
              "      <th>422842</th>\n",
              "      <td>seen agre actual think first time watch movi b...</td>\n",
              "      <td>I</td>\n",
              "      <td>N</td>\n",
              "      <td>F</td>\n",
              "      <td>P</td>\n",
              "    </tr>\n",
              "    <tr>\n",
              "      <th>422843</th>\n",
              "      <td>ok watch underworld 4 awaken must say realli g...</td>\n",
              "      <td>I</td>\n",
              "      <td>N</td>\n",
              "      <td>F</td>\n",
              "      <td>P</td>\n",
              "    </tr>\n",
              "    <tr>\n",
              "      <th>422844</th>\n",
              "      <td>would never want turn emot sometim hide world ...</td>\n",
              "      <td>I</td>\n",
              "      <td>N</td>\n",
              "      <td>F</td>\n",
              "      <td>P</td>\n",
              "    </tr>\n",
              "  </tbody>\n",
              "</table>\n",
              "</div>"
            ],
            "text/plain": [
              "                                                    posts  ... Letter4\n",
              "422840  go close facebook month back well want abl mes...  ...       P\n",
              "422841          30 second mar collect seem fit mood right  ...       P\n",
              "422842  seen agre actual think first time watch movi b...  ...       P\n",
              "422843  ok watch underworld 4 awaken must say realli g...  ...       P\n",
              "422844  would never want turn emot sometim hide world ...  ...       P\n",
              "\n",
              "[5 rows x 5 columns]"
            ]
          },
          "metadata": {
            "tags": []
          },
          "execution_count": 135
        }
      ]
    },
    {
      "cell_type": "markdown",
      "metadata": {
        "id": "FOyG8p8YRwa9"
      },
      "source": [
        "### Analiza celor mai frecvente cuvinte"
      ]
    },
    {
      "cell_type": "markdown",
      "metadata": {
        "id": "Y6-L3Iyms62_"
      },
      "source": [
        "Facem Frequency Distribution:"
      ]
    },
    {
      "cell_type": "code",
      "metadata": {
        "id": "I-_WjGcBOE1y"
      },
      "source": [
        "import nltk\n",
        "import pandas as pd\n",
        "from nltk.probability import FreqDist\n",
        "import matplotlib.pyplot as plt\n",
        "import seaborn as sns\n",
        "def counter(text, column_text, quantity, title):\n",
        "    frequency = nltk.FreqDist(' '.join(list(text[column_text].apply(lambda x: ' '.join(x)))).split())  \n",
        "    df_frequency = pd.DataFrame({\"Word\": list(frequency.keys()),\n",
        "                                   \"Frequency\": list(frequency.values())})\n",
        "    df_frequency = df_frequency.nlargest(columns = \"Frequency\", n = quantity)\n",
        "    plt.figure(figsize=(12,8))\n",
        "    ax = sns.barplot(data = df_frequency, x = \"Word\", y = \"Frequency\", color = 'blue')\n",
        "    ax.set(ylabel = \"Count\")\n",
        "    plt.xticks(rotation='vertical')\n",
        "    plt.title(title)\n",
        "    plt.show()"
      ],
      "execution_count": 136,
      "outputs": []
    },
    {
      "cell_type": "markdown",
      "metadata": {
        "id": "B6KRjPQntaLW"
      },
      "source": [
        "Vom reprezenta grafic frecvența cuvintelor per literă:"
      ]
    },
    {
      "cell_type": "code",
      "metadata": {
        "colab": {
          "base_uri": "https://localhost:8080/",
          "height": 509
        },
        "id": "rjAO3xBsqoF4",
        "outputId": "e067a6e9-9ad1-46a6-855f-ca32aeb739da"
      },
      "source": [
        "counter(df[df['Letter1'].str.contains(\"I\")], 'posts', 10, 'Cele mai frecvente cuvinte pentru I')"
      ],
      "execution_count": 137,
      "outputs": [
        {
          "output_type": "display_data",
          "data": {
            "image/png": "[encoded data removed]",
            "text/plain": [
              "<Figure size 864x576 with 1 Axes>"
            ]
          },
          "metadata": {
            "tags": [],
            "needs_background": "light"
          }
        }
      ]
    },
    {
      "cell_type": "code",
      "metadata": {
        "id": "L1JUoSZ8rNUj"
      },
      "source": [
        "counter(df[df['Letter1'].str.contains(\"E\")], 'post', 10, 'Cele mai frecvente cuvinte pentru E')"
      ],
      "execution_count": null,
      "outputs": []
    },
    {
      "cell_type": "code",
      "metadata": {
        "id": "ewo4gm7_rYlR"
      },
      "source": [
        "counter(df[df['Letter2'].str.contains(\"N\")], 'post', 10, 'Cele mai frecvente cuvinte pentru N')"
      ],
      "execution_count": null,
      "outputs": []
    },
    {
      "cell_type": "code",
      "metadata": {
        "id": "96TZ_Nm_raWe"
      },
      "source": [
        "counter(df[df['Letter2'].str.contains(\"S\")], 'post', 10, 'Cele mai frecvente cuvinte pentru S')"
      ],
      "execution_count": null,
      "outputs": []
    },
    {
      "cell_type": "code",
      "metadata": {
        "id": "_TDxoQ0grcRp"
      },
      "source": [
        "counter(df[df['Letter3'].str.contains(\"T\")], 'post', 10, 'Cele mai frecvente cuvinte pentru T')"
      ],
      "execution_count": null,
      "outputs": []
    },
    {
      "cell_type": "code",
      "metadata": {
        "id": "l0Oj_zFMrhAO"
      },
      "source": [
        "counter(df[df['Letter3'].str.contains(\"F\")], 'post', 10, 'Cele mai frecvente cuvinte pentru F')"
      ],
      "execution_count": null,
      "outputs": []
    },
    {
      "cell_type": "code",
      "metadata": {
        "id": "fznObpRDrihO"
      },
      "source": [
        "counter(df[df['Letter4'].str.contains(\"J\")], 'post', 10, 'Cele mai frecvente cuvinte pentru J')"
      ],
      "execution_count": null,
      "outputs": []
    },
    {
      "cell_type": "code",
      "metadata": {
        "id": "nLddyomrrn9m"
      },
      "source": [
        "counter(df[df['Letter4'].str.contains(\"P\")], 'post', 10, 'Cele mai frecvente cuvinte pentru P')"
      ],
      "execution_count": null,
      "outputs": []
    },
    {
      "cell_type": "code",
      "metadata": {
        "id": "OhzrU1WztYpP"
      },
      "source": [
        "counter(df, 'post', 20, 'Cele mai frecvente cuvinte în tot setul de date')"
      ],
      "execution_count": null,
      "outputs": []
    },
    {
      "cell_type": "markdown",
      "metadata": {
        "id": "om2xTvRLcwim"
      },
      "source": [
        "## Modelarea"
      ]
    },
    {
      "cell_type": "code",
      "metadata": {
        "id": "wLLzF7iwyfZ4"
      },
      "source": [
        "df = df.sample(frac = 1)"
      ],
      "execution_count": 138,
      "outputs": []
    },
    {
      "cell_type": "markdown",
      "metadata": {
        "id": "zYWLE4dt03lL"
      },
      "source": [
        "Vom crea 4 modele: câte unul pentru fiecare pereche de litere din tipul personalității."
      ]
    },
    {
      "cell_type": "markdown",
      "metadata": {
        "id": "5WEgDZ771ikt"
      },
      "source": [
        "Importăm librărille necesare:"
      ]
    },
    {
      "cell_type": "code",
      "metadata": {
        "id": "n-S_T9bMjCs-"
      },
      "source": [
        "from sklearn.pipeline import Pipeline\n",
        "from sklearn.feature_extraction.text import TfidfVectorizer\n",
        "from sklearn.metrics import accuracy_score\n",
        "from sklearn import metrics\n",
        "from sklearn.model_selection import train_test_split\n",
        "from sklearn.ensemble import RandomForestClassifier\n",
        "from sklearn.metrics import plot_confusion_matrix"
      ],
      "execution_count": 139,
      "outputs": []
    },
    {
      "cell_type": "code",
      "metadata": {
        "id": "xzEGHQf6INU2"
      },
      "source": [
        "from joblib import dump, load"
      ],
      "execution_count": 144,
      "outputs": []
    },
    {
      "cell_type": "markdown",
      "metadata": {
        "id": "Fpx-PmkK-iqX"
      },
      "source": [
        "Modelul lucrează doar cu string-uri, de aceea vom transforma listele de token-uri în string-uri:"
      ]
    },
    {
      "cell_type": "markdown",
      "metadata": {
        "id": "AXTNOq_Fl8xi"
      },
      "source": [
        "### Modelul pentru perechea 1"
      ]
    },
    {
      "cell_type": "markdown",
      "metadata": {
        "id": "tXZ1Rv0Rl__r"
      },
      "source": [
        "Vom crea dataframe-ul necesar:"
      ]
    },
    {
      "cell_type": "code",
      "metadata": {
        "colab": {
          "base_uri": "https://localhost:8080/",
          "height": 419
        },
        "id": "oKWRzeJvmA_7",
        "outputId": "43e01462-59a3-4e50-b6ba-c2a9faa75e9e"
      },
      "source": [
        "df1 = df[['posts', 'Letter1']]\n",
        "df1"
      ],
      "execution_count": 140,
      "outputs": [
        {
          "output_type": "execute_result",
          "data": {
            "text/html": [
              "<div>\n",
              "<style scoped>\n",
              "    .dataframe tbody tr th:only-of-type {\n",
              "        vertical-align: middle;\n",
              "    }\n",
              "\n",
              "    .dataframe tbody tr th {\n",
              "        vertical-align: top;\n",
              "    }\n",
              "\n",
              "    .dataframe thead th {\n",
              "        text-align: right;\n",
              "    }\n",
              "</style>\n",
              "<table border=\"1\" class=\"dataframe\">\n",
              "  <thead>\n",
              "    <tr style=\"text-align: right;\">\n",
              "      <th></th>\n",
              "      <th>posts</th>\n",
              "      <th>Letter1</th>\n",
              "    </tr>\n",
              "  </thead>\n",
              "  <tbody>\n",
              "    <tr>\n",
              "      <th>416874</th>\n",
              "      <td>mom xstj dad xntp</td>\n",
              "      <td>I</td>\n",
              "    </tr>\n",
              "    <tr>\n",
              "      <th>152946</th>\n",
              "      <td>post rock realli good well lot idm artist writ...</td>\n",
              "      <td>I</td>\n",
              "    </tr>\n",
              "    <tr>\n",
              "      <th>377340</th>\n",
              "      <td>hello beauti peopl person alway test big prefe...</td>\n",
              "      <td>I</td>\n",
              "    </tr>\n",
              "    <tr>\n",
              "      <th>356372</th>\n",
              "      <td>besid nibbl someon heart today ate slice tomat...</td>\n",
              "      <td>I</td>\n",
              "    </tr>\n",
              "    <tr>\n",
              "      <th>395382</th>\n",
              "      <td>know feel know big question whether whole pict...</td>\n",
              "      <td>I</td>\n",
              "    </tr>\n",
              "    <tr>\n",
              "      <th>...</th>\n",
              "      <td>...</td>\n",
              "      <td>...</td>\n",
              "    </tr>\n",
              "    <tr>\n",
              "      <th>361399</th>\n",
              "      <td>ever bodi experi talk star strang notic stop f...</td>\n",
              "      <td>E</td>\n",
              "    </tr>\n",
              "    <tr>\n",
              "      <th>356269</th>\n",
              "      <td>want anyth seriou probabl see peopl side entj ...</td>\n",
              "      <td>E</td>\n",
              "    </tr>\n",
              "    <tr>\n",
              "      <th>78510</th>\n",
              "      <td>lost troll particularli concern desir exclus c...</td>\n",
              "      <td>E</td>\n",
              "    </tr>\n",
              "    <tr>\n",
              "      <th>259401</th>\n",
              "      <td>extrem confid ne think either fi come fe stron...</td>\n",
              "      <td>I</td>\n",
              "    </tr>\n",
              "    <tr>\n",
              "      <th>106895</th>\n",
              "      <td>ok spill quickli</td>\n",
              "      <td>I</td>\n",
              "    </tr>\n",
              "  </tbody>\n",
              "</table>\n",
              "<p>393979 rows × 2 columns</p>\n",
              "</div>"
            ],
            "text/plain": [
              "                                                    posts Letter1\n",
              "416874                                  mom xstj dad xntp       I\n",
              "152946  post rock realli good well lot idm artist writ...       I\n",
              "377340  hello beauti peopl person alway test big prefe...       I\n",
              "356372  besid nibbl someon heart today ate slice tomat...       I\n",
              "395382  know feel know big question whether whole pict...       I\n",
              "...                                                   ...     ...\n",
              "361399  ever bodi experi talk star strang notic stop f...       E\n",
              "356269  want anyth seriou probabl see peopl side entj ...       E\n",
              "78510   lost troll particularli concern desir exclus c...       E\n",
              "259401  extrem confid ne think either fi come fe stron...       I\n",
              "106895                                   ok spill quickli       I\n",
              "\n",
              "[393979 rows x 2 columns]"
            ]
          },
          "metadata": {
            "tags": []
          },
          "execution_count": 140
        }
      ]
    },
    {
      "cell_type": "markdown",
      "metadata": {
        "id": "y9DotlAumGSP"
      },
      "source": [
        "Împărțim setul de date în datele pentru antrenare și datele pentru prezicere:"
      ]
    },
    {
      "cell_type": "code",
      "metadata": {
        "id": "wCMKb-IjmLFS"
      },
      "source": [
        "X1 = df1['posts']\n",
        "y1 = df1['Letter1']\n",
        "X_train1, X_test1, y_train1, y_test1 = train_test_split(X1, y1, test_size=0.33, random_state=42)"
      ],
      "execution_count": 141,
      "outputs": []
    },
    {
      "cell_type": "markdown",
      "metadata": {
        "id": "l-58xJHWmRZq"
      },
      "source": [
        "Creăm modelul:"
      ]
    },
    {
      "cell_type": "code",
      "metadata": {
        "id": "i72qmbm-mVH8"
      },
      "source": [
        "pipe1 = Pipeline([('vect', TfidfVectorizer()),\n",
        "                 ('model', RandomForestClassifier(n_estimators=50, criterion=\"entropy\", random_state = 2))])\n",
        "# Antrenăm modelul\n",
        "model1 = pipe1.fit(X_train1, y_train1)\n",
        "# Prezicem valorile\n",
        "prediction1 = model1.predict(X_test1)"
      ],
      "execution_count": 142,
      "outputs": []
    },
    {
      "cell_type": "code",
      "metadata": {
        "colab": {
          "base_uri": "https://localhost:8080/",
          "height": 449
        },
        "id": "YEZ0Z6ZZ7VLw",
        "outputId": "def2c04b-f9c6-4604-e7eb-88456aefc300"
      },
      "source": [
        "print(\"accuracy: {}%\".format(round(accuracy_score(y_test1, prediction1)*100,2)))\n",
        "print(metrics.classification_report(y_test1, prediction1))\n",
        "plot_confusion_matrix(model1, X_test1, y_test1)  \n",
        "plt.show()"
      ],
      "execution_count": 143,
      "outputs": [
        {
          "output_type": "stream",
          "text": [
            "accuracy: 76.93%\n",
            "              precision    recall  f1-score   support\n",
            "\n",
            "           E       0.53      0.06      0.11     30241\n",
            "           I       0.78      0.98      0.87     99773\n",
            "\n",
            "    accuracy                           0.77    130014\n",
            "   macro avg       0.66      0.52      0.49    130014\n",
            "weighted avg       0.72      0.77      0.69    130014\n",
            "\n"
          ],
          "name": "stdout"
        },
        {
          "output_type": "display_data",
          "data": {
            "image/png": "[encoded data removed]",
            "text/plain": [
              "<Figure size 432x288 with 2 Axes>"
            ]
          },
          "metadata": {
            "tags": [],
            "needs_background": "light"
          }
        }
      ]
    },
    {
      "cell_type": "code",
      "metadata": {
        "colab": {
          "base_uri": "https://localhost:8080/"
        },
        "id": "Rk9tpIV9IOwO",
        "outputId": "e12a6587-5ef7-47f1-aa70-1fde5e501db7"
      },
      "source": [
        "dump(model1, '/content/gdrive/MyDrive/Personality prediction/Modele/modelul1.joblib')"
      ],
      "execution_count": 145,
      "outputs": [
        {
          "output_type": "execute_result",
          "data": {
            "text/plain": [
              "['/content/gdrive/MyDrive/Personality prediction/Modele/modelul1.joblib']"
            ]
          },
          "metadata": {
            "tags": []
          },
          "execution_count": 145
        }
      ]
    },
    {
      "cell_type": "markdown",
      "metadata": {
        "id": "7q0qMhAPlDd5"
      },
      "source": [
        "### Modelul pentru perechea 2\n"
      ]
    },
    {
      "cell_type": "markdown",
      "metadata": {
        "id": "ERLHAPt4lZfu"
      },
      "source": [
        "Vom crea dataframe-ul necesar:"
      ]
    },
    {
      "cell_type": "code",
      "metadata": {
        "colab": {
          "base_uri": "https://localhost:8080/",
          "height": 419
        },
        "id": "EtHO5q_3lHmT",
        "outputId": "bc92bd5a-45ed-4db4-b2ca-21fb20763d98"
      },
      "source": [
        "df2 = df[['posts', 'Letter2']]\n",
        "df2"
      ],
      "execution_count": 147,
      "outputs": [
        {
          "output_type": "execute_result",
          "data": {
            "text/html": [
              "<div>\n",
              "<style scoped>\n",
              "    .dataframe tbody tr th:only-of-type {\n",
              "        vertical-align: middle;\n",
              "    }\n",
              "\n",
              "    .dataframe tbody tr th {\n",
              "        vertical-align: top;\n",
              "    }\n",
              "\n",
              "    .dataframe thead th {\n",
              "        text-align: right;\n",
              "    }\n",
              "</style>\n",
              "<table border=\"1\" class=\"dataframe\">\n",
              "  <thead>\n",
              "    <tr style=\"text-align: right;\">\n",
              "      <th></th>\n",
              "      <th>posts</th>\n",
              "      <th>Letter2</th>\n",
              "    </tr>\n",
              "  </thead>\n",
              "  <tbody>\n",
              "    <tr>\n",
              "      <th>416874</th>\n",
              "      <td>mom xstj dad xntp</td>\n",
              "      <td>N</td>\n",
              "    </tr>\n",
              "    <tr>\n",
              "      <th>152946</th>\n",
              "      <td>post rock realli good well lot idm artist writ...</td>\n",
              "      <td>N</td>\n",
              "    </tr>\n",
              "    <tr>\n",
              "      <th>377340</th>\n",
              "      <td>hello beauti peopl person alway test big prefe...</td>\n",
              "      <td>S</td>\n",
              "    </tr>\n",
              "    <tr>\n",
              "      <th>356372</th>\n",
              "      <td>besid nibbl someon heart today ate slice tomat...</td>\n",
              "      <td>N</td>\n",
              "    </tr>\n",
              "    <tr>\n",
              "      <th>395382</th>\n",
              "      <td>know feel know big question whether whole pict...</td>\n",
              "      <td>N</td>\n",
              "    </tr>\n",
              "    <tr>\n",
              "      <th>...</th>\n",
              "      <td>...</td>\n",
              "      <td>...</td>\n",
              "    </tr>\n",
              "    <tr>\n",
              "      <th>361399</th>\n",
              "      <td>ever bodi experi talk star strang notic stop f...</td>\n",
              "      <td>N</td>\n",
              "    </tr>\n",
              "    <tr>\n",
              "      <th>356269</th>\n",
              "      <td>want anyth seriou probabl see peopl side entj ...</td>\n",
              "      <td>N</td>\n",
              "    </tr>\n",
              "    <tr>\n",
              "      <th>78510</th>\n",
              "      <td>lost troll particularli concern desir exclus c...</td>\n",
              "      <td>N</td>\n",
              "    </tr>\n",
              "    <tr>\n",
              "      <th>259401</th>\n",
              "      <td>extrem confid ne think either fi come fe stron...</td>\n",
              "      <td>N</td>\n",
              "    </tr>\n",
              "    <tr>\n",
              "      <th>106895</th>\n",
              "      <td>ok spill quickli</td>\n",
              "      <td>N</td>\n",
              "    </tr>\n",
              "  </tbody>\n",
              "</table>\n",
              "<p>393979 rows × 2 columns</p>\n",
              "</div>"
            ],
            "text/plain": [
              "                                                    posts Letter2\n",
              "416874                                  mom xstj dad xntp       N\n",
              "152946  post rock realli good well lot idm artist writ...       N\n",
              "377340  hello beauti peopl person alway test big prefe...       S\n",
              "356372  besid nibbl someon heart today ate slice tomat...       N\n",
              "395382  know feel know big question whether whole pict...       N\n",
              "...                                                   ...     ...\n",
              "361399  ever bodi experi talk star strang notic stop f...       N\n",
              "356269  want anyth seriou probabl see peopl side entj ...       N\n",
              "78510   lost troll particularli concern desir exclus c...       N\n",
              "259401  extrem confid ne think either fi come fe stron...       N\n",
              "106895                                   ok spill quickli       N\n",
              "\n",
              "[393979 rows x 2 columns]"
            ]
          },
          "metadata": {
            "tags": []
          },
          "execution_count": 147
        }
      ]
    },
    {
      "cell_type": "markdown",
      "metadata": {
        "id": "Uc3D1GgolW4E"
      },
      "source": [
        "Împărțim setul de date în datele pentru antrenare și datele pentru prezicere:"
      ]
    },
    {
      "cell_type": "code",
      "metadata": {
        "id": "SJ7fyh5gleFu"
      },
      "source": [
        "X2 = df2['posts']\n",
        "y2 = df2['Letter2']\n",
        "X_train2, X_test2, y_train2, y_test2 = train_test_split(X2, y2, test_size=0.33, random_state=42)"
      ],
      "execution_count": 148,
      "outputs": []
    },
    {
      "cell_type": "markdown",
      "metadata": {
        "id": "LRVcff9Qlhgk"
      },
      "source": [
        "Creăm modelul:"
      ]
    },
    {
      "cell_type": "code",
      "metadata": {
        "id": "EoJcjPBvllNM"
      },
      "source": [
        "pipe2 = Pipeline([('vect', TfidfVectorizer()),\n",
        "                 ('model', RandomForestClassifier(n_estimators=50, criterion=\"entropy\", random_state = 2))])\n",
        "# Antrenăm modelul\n",
        "model2 = pipe2.fit(X_train2, y_train2)\n",
        "# Prezicem valorile\n",
        "prediction2 = model2.predict(X_test2)"
      ],
      "execution_count": 149,
      "outputs": []
    },
    {
      "cell_type": "markdown",
      "metadata": {
        "id": "YmuKuYffwtaj"
      },
      "source": [
        "Evaluăm:"
      ]
    },
    {
      "cell_type": "code",
      "metadata": {
        "colab": {
          "base_uri": "https://localhost:8080/",
          "height": 449
        },
        "id": "ikasQDvWwgO6",
        "outputId": "2c420b44-80da-4da3-a57b-b1aea5afdc9f"
      },
      "source": [
        "print(\"accuracy: {}%\".format(round(accuracy_score(y_test2, prediction2)*100,2)))\n",
        "print(metrics.classification_report(y_test2, prediction2))\n",
        "plot_confusion_matrix(model2, X_test2, y_test2)  \n",
        "plt.show()"
      ],
      "execution_count": 150,
      "outputs": [
        {
          "output_type": "stream",
          "text": [
            "accuracy: 86.16%\n",
            "              precision    recall  f1-score   support\n",
            "\n",
            "           N       0.86      1.00      0.93    112186\n",
            "           S       0.38      0.01      0.03     17828\n",
            "\n",
            "    accuracy                           0.86    130014\n",
            "   macro avg       0.62      0.51      0.48    130014\n",
            "weighted avg       0.80      0.86      0.80    130014\n",
            "\n"
          ],
          "name": "stdout"
        },
        {
          "output_type": "display_data",
          "data": {
            "image/png": "[encoded data removed]",
            "text/plain": [
              "<Figure size 432x288 with 2 Axes>"
            ]
          },
          "metadata": {
            "tags": [],
            "needs_background": "light"
          }
        }
      ]
    },
    {
      "cell_type": "code",
      "metadata": {
        "colab": {
          "base_uri": "https://localhost:8080/"
        },
        "id": "r8CqmOfRw5tf",
        "outputId": "2d72c3e0-4a7b-4302-c9e9-636ad56d5403"
      },
      "source": [
        "dump(model2, '/content/gdrive/MyDrive/Personality prediction/Modele/modelul2.joblib')"
      ],
      "execution_count": 151,
      "outputs": [
        {
          "output_type": "execute_result",
          "data": {
            "text/plain": [
              "['/content/gdrive/MyDrive/Personality prediction/Modele/modelul2.joblib']"
            ]
          },
          "metadata": {
            "tags": []
          },
          "execution_count": 151
        }
      ]
    },
    {
      "cell_type": "markdown",
      "metadata": {
        "id": "zEkCTRVv1NI8"
      },
      "source": [
        "### Modelul pentru perechea 3"
      ]
    },
    {
      "cell_type": "markdown",
      "metadata": {
        "id": "4oSAvce81BeJ"
      },
      "source": [
        "Vom crea dataframe-ul necesar:"
      ]
    },
    {
      "cell_type": "code",
      "metadata": {
        "colab": {
          "base_uri": "https://localhost:8080/",
          "height": 419
        },
        "id": "votmoFJJdkAE",
        "outputId": "ae718894-606a-4e47-b4ec-1685cc1f5f63"
      },
      "source": [
        "df3 = df[['posts', 'Letter3']]\n",
        "df3"
      ],
      "execution_count": 153,
      "outputs": [
        {
          "output_type": "execute_result",
          "data": {
            "text/html": [
              "<div>\n",
              "<style scoped>\n",
              "    .dataframe tbody tr th:only-of-type {\n",
              "        vertical-align: middle;\n",
              "    }\n",
              "\n",
              "    .dataframe tbody tr th {\n",
              "        vertical-align: top;\n",
              "    }\n",
              "\n",
              "    .dataframe thead th {\n",
              "        text-align: right;\n",
              "    }\n",
              "</style>\n",
              "<table border=\"1\" class=\"dataframe\">\n",
              "  <thead>\n",
              "    <tr style=\"text-align: right;\">\n",
              "      <th></th>\n",
              "      <th>posts</th>\n",
              "      <th>Letter3</th>\n",
              "    </tr>\n",
              "  </thead>\n",
              "  <tbody>\n",
              "    <tr>\n",
              "      <th>416874</th>\n",
              "      <td>mom xstj dad xntp</td>\n",
              "      <td>F</td>\n",
              "    </tr>\n",
              "    <tr>\n",
              "      <th>152946</th>\n",
              "      <td>post rock realli good well lot idm artist writ...</td>\n",
              "      <td>T</td>\n",
              "    </tr>\n",
              "    <tr>\n",
              "      <th>377340</th>\n",
              "      <td>hello beauti peopl person alway test big prefe...</td>\n",
              "      <td>T</td>\n",
              "    </tr>\n",
              "    <tr>\n",
              "      <th>356372</th>\n",
              "      <td>besid nibbl someon heart today ate slice tomat...</td>\n",
              "      <td>F</td>\n",
              "    </tr>\n",
              "    <tr>\n",
              "      <th>395382</th>\n",
              "      <td>know feel know big question whether whole pict...</td>\n",
              "      <td>F</td>\n",
              "    </tr>\n",
              "    <tr>\n",
              "      <th>...</th>\n",
              "      <td>...</td>\n",
              "      <td>...</td>\n",
              "    </tr>\n",
              "    <tr>\n",
              "      <th>361399</th>\n",
              "      <td>ever bodi experi talk star strang notic stop f...</td>\n",
              "      <td>T</td>\n",
              "    </tr>\n",
              "    <tr>\n",
              "      <th>356269</th>\n",
              "      <td>want anyth seriou probabl see peopl side entj ...</td>\n",
              "      <td>T</td>\n",
              "    </tr>\n",
              "    <tr>\n",
              "      <th>78510</th>\n",
              "      <td>lost troll particularli concern desir exclus c...</td>\n",
              "      <td>F</td>\n",
              "    </tr>\n",
              "    <tr>\n",
              "      <th>259401</th>\n",
              "      <td>extrem confid ne think either fi come fe stron...</td>\n",
              "      <td>F</td>\n",
              "    </tr>\n",
              "    <tr>\n",
              "      <th>106895</th>\n",
              "      <td>ok spill quickli</td>\n",
              "      <td>F</td>\n",
              "    </tr>\n",
              "  </tbody>\n",
              "</table>\n",
              "<p>393979 rows × 2 columns</p>\n",
              "</div>"
            ],
            "text/plain": [
              "                                                    posts Letter3\n",
              "416874                                  mom xstj dad xntp       F\n",
              "152946  post rock realli good well lot idm artist writ...       T\n",
              "377340  hello beauti peopl person alway test big prefe...       T\n",
              "356372  besid nibbl someon heart today ate slice tomat...       F\n",
              "395382  know feel know big question whether whole pict...       F\n",
              "...                                                   ...     ...\n",
              "361399  ever bodi experi talk star strang notic stop f...       T\n",
              "356269  want anyth seriou probabl see peopl side entj ...       T\n",
              "78510   lost troll particularli concern desir exclus c...       F\n",
              "259401  extrem confid ne think either fi come fe stron...       F\n",
              "106895                                   ok spill quickli       F\n",
              "\n",
              "[393979 rows x 2 columns]"
            ]
          },
          "metadata": {
            "tags": []
          },
          "execution_count": 153
        }
      ]
    },
    {
      "cell_type": "markdown",
      "metadata": {
        "id": "k_GEwPVe1qLm"
      },
      "source": [
        "Împărțim setul de date în datele pentru antrenare și datele pentru prezicere:"
      ]
    },
    {
      "cell_type": "code",
      "metadata": {
        "id": "n3gI_NK8h5Pk"
      },
      "source": [
        "X3 = df3['posts']\n",
        "y3 = df3['Letter3']\n",
        "X_train3, X_test3, y_train3, y_test3 = train_test_split(X3, y3, test_size=0.33, random_state=42)"
      ],
      "execution_count": 155,
      "outputs": []
    },
    {
      "cell_type": "markdown",
      "metadata": {
        "id": "QAF7fh8T1xah"
      },
      "source": [
        "Creăm modelul:"
      ]
    },
    {
      "cell_type": "code",
      "metadata": {
        "id": "F82QIGbMizNT"
      },
      "source": [
        "pipe3 = Pipeline([('vect', TfidfVectorizer()),\n",
        "                 ('model', RandomForestClassifier(n_estimators=50, criterion=\"entropy\", random_state = 2))])\n",
        "# Antrenăm modelul\n",
        "model3 = pipe3.fit(X_train3, y_train3)\n",
        "# Prezicem valorile\n",
        "prediction3 = model3.predict(X_test3)"
      ],
      "execution_count": 162,
      "outputs": []
    },
    {
      "cell_type": "markdown",
      "metadata": {
        "id": "hBl8WGvg11fz"
      },
      "source": [
        "Evaluăm:"
      ]
    },
    {
      "cell_type": "code",
      "metadata": {
        "colab": {
          "base_uri": "https://localhost:8080/",
          "height": 449
        },
        "id": "MSb4Pijs14Cx",
        "outputId": "77b8b75a-f673-4806-fe25-83acf2b01a0f"
      },
      "source": [
        "print(\"accuracy: {}%\".format(round(accuracy_score(y_test3, prediction3)*100,2)))\n",
        "print(metrics.classification_report(y_test3, prediction3))\n",
        "plot_confusion_matrix(model3, X_test3, y_test3)  \n",
        "plt.show()"
      ],
      "execution_count": 163,
      "outputs": [
        {
          "output_type": "stream",
          "text": [
            "accuracy: 60.92%\n",
            "              precision    recall  f1-score   support\n",
            "\n",
            "           F       0.62      0.74      0.67     70668\n",
            "           T       0.59      0.46      0.52     59346\n",
            "\n",
            "    accuracy                           0.61    130014\n",
            "   macro avg       0.61      0.60      0.59    130014\n",
            "weighted avg       0.61      0.61      0.60    130014\n",
            "\n"
          ],
          "name": "stdout"
        },
        {
          "output_type": "display_data",
          "data": {
            "image/png": "[encoded data removed]",
            "text/plain": [
              "<Figure size 432x288 with 2 Axes>"
            ]
          },
          "metadata": {
            "tags": [],
            "needs_background": "light"
          }
        }
      ]
    },
    {
      "cell_type": "markdown",
      "metadata": {
        "id": "Hmu6LZCm35P2"
      },
      "source": [
        "Concluzie:"
      ]
    },
    {
      "cell_type": "code",
      "metadata": {
        "colab": {
          "base_uri": "https://localhost:8080/"
        },
        "id": "RQkSbzHixLv2",
        "outputId": "4ee7c93a-82e9-4472-90dd-4d24e19ea7b0"
      },
      "source": [
        "dump(model3, '/content/gdrive/MyDrive/Personality prediction/Modele/modelul3.joblib')"
      ],
      "execution_count": 164,
      "outputs": [
        {
          "output_type": "execute_result",
          "data": {
            "text/plain": [
              "['/content/gdrive/MyDrive/Personality prediction/Modele/modelul3.joblib']"
            ]
          },
          "metadata": {
            "tags": []
          },
          "execution_count": 164
        }
      ]
    },
    {
      "cell_type": "markdown",
      "metadata": {
        "id": "WlXkVMk637CR"
      },
      "source": [
        "### Modelul pentru perechea 4\n",
        "\n",
        "\n"
      ]
    },
    {
      "cell_type": "markdown",
      "metadata": {
        "id": "Dxa5cuvM3_Nq"
      },
      "source": [
        "Vom crea dataframe-ul necesar:"
      ]
    },
    {
      "cell_type": "code",
      "metadata": {
        "colab": {
          "base_uri": "https://localhost:8080/",
          "height": 419
        },
        "id": "rIaYD-HihcwX",
        "outputId": "47d2a53a-e4e1-46cb-cf8d-188f274f5b0d"
      },
      "source": [
        "df4 = df[['posts', 'Letter4']]\n",
        "df4"
      ],
      "execution_count": 165,
      "outputs": [
        {
          "output_type": "execute_result",
          "data": {
            "text/html": [
              "<div>\n",
              "<style scoped>\n",
              "    .dataframe tbody tr th:only-of-type {\n",
              "        vertical-align: middle;\n",
              "    }\n",
              "\n",
              "    .dataframe tbody tr th {\n",
              "        vertical-align: top;\n",
              "    }\n",
              "\n",
              "    .dataframe thead th {\n",
              "        text-align: right;\n",
              "    }\n",
              "</style>\n",
              "<table border=\"1\" class=\"dataframe\">\n",
              "  <thead>\n",
              "    <tr style=\"text-align: right;\">\n",
              "      <th></th>\n",
              "      <th>posts</th>\n",
              "      <th>Letter4</th>\n",
              "    </tr>\n",
              "  </thead>\n",
              "  <tbody>\n",
              "    <tr>\n",
              "      <th>416874</th>\n",
              "      <td>mom xstj dad xntp</td>\n",
              "      <td>P</td>\n",
              "    </tr>\n",
              "    <tr>\n",
              "      <th>152946</th>\n",
              "      <td>post rock realli good well lot idm artist writ...</td>\n",
              "      <td>J</td>\n",
              "    </tr>\n",
              "    <tr>\n",
              "      <th>377340</th>\n",
              "      <td>hello beauti peopl person alway test big prefe...</td>\n",
              "      <td>P</td>\n",
              "    </tr>\n",
              "    <tr>\n",
              "      <th>356372</th>\n",
              "      <td>besid nibbl someon heart today ate slice tomat...</td>\n",
              "      <td>J</td>\n",
              "    </tr>\n",
              "    <tr>\n",
              "      <th>395382</th>\n",
              "      <td>know feel know big question whether whole pict...</td>\n",
              "      <td>P</td>\n",
              "    </tr>\n",
              "    <tr>\n",
              "      <th>...</th>\n",
              "      <td>...</td>\n",
              "      <td>...</td>\n",
              "    </tr>\n",
              "    <tr>\n",
              "      <th>361399</th>\n",
              "      <td>ever bodi experi talk star strang notic stop f...</td>\n",
              "      <td>P</td>\n",
              "    </tr>\n",
              "    <tr>\n",
              "      <th>356269</th>\n",
              "      <td>want anyth seriou probabl see peopl side entj ...</td>\n",
              "      <td>J</td>\n",
              "    </tr>\n",
              "    <tr>\n",
              "      <th>78510</th>\n",
              "      <td>lost troll particularli concern desir exclus c...</td>\n",
              "      <td>P</td>\n",
              "    </tr>\n",
              "    <tr>\n",
              "      <th>259401</th>\n",
              "      <td>extrem confid ne think either fi come fe stron...</td>\n",
              "      <td>P</td>\n",
              "    </tr>\n",
              "    <tr>\n",
              "      <th>106895</th>\n",
              "      <td>ok spill quickli</td>\n",
              "      <td>P</td>\n",
              "    </tr>\n",
              "  </tbody>\n",
              "</table>\n",
              "<p>393979 rows × 2 columns</p>\n",
              "</div>"
            ],
            "text/plain": [
              "                                                    posts Letter4\n",
              "416874                                  mom xstj dad xntp       P\n",
              "152946  post rock realli good well lot idm artist writ...       J\n",
              "377340  hello beauti peopl person alway test big prefe...       P\n",
              "356372  besid nibbl someon heart today ate slice tomat...       J\n",
              "395382  know feel know big question whether whole pict...       P\n",
              "...                                                   ...     ...\n",
              "361399  ever bodi experi talk star strang notic stop f...       P\n",
              "356269  want anyth seriou probabl see peopl side entj ...       J\n",
              "78510   lost troll particularli concern desir exclus c...       P\n",
              "259401  extrem confid ne think either fi come fe stron...       P\n",
              "106895                                   ok spill quickli       P\n",
              "\n",
              "[393979 rows x 2 columns]"
            ]
          },
          "metadata": {
            "tags": []
          },
          "execution_count": 165
        }
      ]
    },
    {
      "cell_type": "markdown",
      "metadata": {
        "id": "aw5Kt1Aa4I0I"
      },
      "source": [
        "Împărțim setul de date în datele pentru antrenare și datele pentru prezicere:"
      ]
    },
    {
      "cell_type": "code",
      "metadata": {
        "id": "fU-4UNysjrFK"
      },
      "source": [
        "X4 = df4['posts']\n",
        "y4 = df4['Letter4']\n",
        "X_train4, X_test4, y_train4, y_test4 = train_test_split(X4, y4, test_size=0.33, random_state=42)"
      ],
      "execution_count": 166,
      "outputs": []
    },
    {
      "cell_type": "markdown",
      "metadata": {
        "id": "yH7jOjHa4Q_V"
      },
      "source": [
        "Creăm modelul:"
      ]
    },
    {
      "cell_type": "code",
      "metadata": {
        "id": "TMw_-quXjwOV"
      },
      "source": [
        "pipe4 = Pipeline([('vect', TfidfVectorizer()),\n",
        "                 ('model', RandomForestClassifier(n_estimators=50, criterion=\"entropy\", random_state = 2))])\n",
        "# Antrenăm modelul\n",
        "model4 = pipe4.fit(X_train4, y_train4)\n",
        "# Prezicem valorile\n",
        "prediction4 = model4.predict(X_test4)"
      ],
      "execution_count": 167,
      "outputs": []
    },
    {
      "cell_type": "markdown",
      "metadata": {
        "id": "8YInKw7t4fqz"
      },
      "source": [
        "Evaluăm:"
      ]
    },
    {
      "cell_type": "code",
      "metadata": {
        "colab": {
          "base_uri": "https://localhost:8080/",
          "height": 449
        },
        "id": "sUamKw2l4h6F",
        "outputId": "61b3851f-5a93-43d6-f0b1-3b5b870b10b9"
      },
      "source": [
        "print(\"accuracy: {}%\".format(round(accuracy_score(y_test4, prediction4)*100,2)))\n",
        "print(metrics.classification_report(y_test4, prediction4))\n",
        "plot_confusion_matrix(model4, X_test4, y_test4)  \n",
        "plt.show()"
      ],
      "execution_count": 168,
      "outputs": [
        {
          "output_type": "stream",
          "text": [
            "accuracy: 61.71%\n",
            "              precision    recall  f1-score   support\n",
            "\n",
            "           J       0.55      0.21      0.30     51663\n",
            "           P       0.63      0.89      0.74     78351\n",
            "\n",
            "    accuracy                           0.62    130014\n",
            "   macro avg       0.59      0.55      0.52    130014\n",
            "weighted avg       0.60      0.62      0.56    130014\n",
            "\n"
          ],
          "name": "stdout"
        },
        {
          "output_type": "display_data",
          "data": {
            "image/png": "[encoded data removed]",
            "text/plain": [
              "<Figure size 432x288 with 2 Axes>"
            ]
          },
          "metadata": {
            "tags": [],
            "needs_background": "light"
          }
        }
      ]
    },
    {
      "cell_type": "markdown",
      "metadata": {
        "id": "Dx6UfN5G4r0s"
      },
      "source": [
        "Concluzie:"
      ]
    },
    {
      "cell_type": "code",
      "metadata": {
        "colab": {
          "base_uri": "https://localhost:8080/"
        },
        "id": "VCYz_cssxP80",
        "outputId": "066b1908-9547-43ae-ecf2-aa49cc14de35"
      },
      "source": [
        "dump(model4, '/content/gdrive/MyDrive/Personality prediction/Modele/modelul4.joblib')"
      ],
      "execution_count": 169,
      "outputs": [
        {
          "output_type": "execute_result",
          "data": {
            "text/plain": [
              "['/content/gdrive/MyDrive/Personality prediction/Modele/modelul4.joblib']"
            ]
          },
          "metadata": {
            "tags": []
          },
          "execution_count": 169
        }
      ]
    },
    {
      "cell_type": "markdown",
      "metadata": {
        "id": "-81qilPoTPWT"
      },
      "source": [
        "# Concluzii"
      ]
    },
    {
      "cell_type": "markdown",
      "metadata": {
        "id": "S5p4GCWrTUPO"
      },
      "source": [
        "# Bibliografie"
      ]
    }
  ]
}