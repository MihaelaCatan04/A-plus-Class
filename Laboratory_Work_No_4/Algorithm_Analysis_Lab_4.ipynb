{
  "nbformat": 4,
  "nbformat_minor": 0,
  "metadata": {
    "colab": {
      "provenance": [],
      "authorship_tag": "ABX9TyMtnJKpKgWgONCLJ5Mkh3NN",
      "include_colab_link": true
    },
    "kernelspec": {
      "name": "python3",
      "display_name": "Python 3"
    },
    "language_info": {
      "name": "python"
    }
  },
  "cells": [
    {
      "cell_type": "markdown",
      "metadata": {
        "id": "view-in-github",
        "colab_type": "text"
      },
      "source": [
        "<a href=\"https://colab.research.google.com/github/MihaelaCatan04/A-plus-Class/blob/main/Laboratory_Work_No_4/Algorithm_Analysis_Lab_4.ipynb\" target=\"_parent\"><img src=\"https://colab.research.google.com/assets/colab-badge.svg\" alt=\"Open In Colab\"/></a>"
      ]
    },
    {
      "cell_type": "markdown",
      "source": [
        "## Dijkstra's Algorithm"
      ],
      "metadata": {
        "id": "ThHX50wLBaRs"
      }
    },
    {
      "cell_type": "markdown",
      "source": [
        "Dijkstra's algorithm is an algorithm for finding the shortest paths between nodes in a weighted graph, which may represent, for example, a road network.\n",
        "\n",
        "It differs from the minimum spanning tree because the shortest distance between two vertices might not include all the vertices of the graph.\n",
        "\n",
        "The algorithm uses a greedy approach in the sense that we find the next best solution hoping that the end result is the best solution for the whole problem."
      ],
      "metadata": {
        "id": "NRP6wxMhNWw4"
      }
    },
    {
      "cell_type": "code",
      "source": [
        "def dijkstra(graph, start):\n",
        "    distances = {node: float('inf') for node in graph}\n",
        "    distances[start] = 0\n",
        "    visited = set()\n",
        "\n",
        "    while len(visited) < len(graph):\n",
        "        current_node = None\n",
        "        current_distance = float('inf')\n",
        "        for node in graph:\n",
        "            if node not in visited and distances[node] < current_distance:\n",
        "                current_node = node\n",
        "                current_distance = distances[node]\n",
        "\n",
        "        if current_node is None:\n",
        "            break\n",
        "\n",
        "        print(\"Visiting\", current_node)\n",
        "        visited.add(current_node)\n",
        "\n",
        "        for neighbor, weight in graph[current_node].items():\n",
        "            distance = current_distance + weight\n",
        "            if distance < distances[neighbor]:\n",
        "                distances[neighbor] = distance\n",
        "\n",
        "    return distances"
      ],
      "metadata": {
        "id": "D9M_CslFOxny"
      },
      "execution_count": null,
      "outputs": []
    },
    {
      "cell_type": "code",
      "source": [
        "graph = {'0': {'1': 1, '2': 2},\n",
        "         '1': {'0': 1, '3': 3, '4': 4},\n",
        "         '2': {'0': 2},\n",
        "         '3': {'1': 3},\n",
        "         '4': {'1': 4, '2': 5}}\n",
        "\n",
        "result = dijkstra(graph, '0')\n",
        "print(\"Shortest distances:\", result)"
      ],
      "metadata": {
        "colab": {
          "base_uri": "https://localhost:8080/"
        },
        "id": "ahHEYkQAPF-8",
        "outputId": "06315d73-c6da-429b-cd6a-754b13c7cef4"
      },
      "execution_count": null,
      "outputs": [
        {
          "output_type": "stream",
          "name": "stdout",
          "text": [
            "Visiting 0\n",
            "Visiting 1\n",
            "Visiting 2\n",
            "Visiting 3\n",
            "Visiting 4\n",
            "Shortest distances: {'0': 0, '1': 1, '2': 2, '3': 4, '4': 5}\n"
          ]
        }
      ]
    },
    {
      "cell_type": "markdown",
      "source": [
        "**Optimized Djikstra's Algorithm**"
      ],
      "metadata": {
        "id": "1uc8dzigPmjR"
      }
    },
    {
      "cell_type": "markdown",
      "source": [
        "This version of Djikstra's Algorithm is optimized because:\n",
        "1. It uses a priority queue (`heapq`) to always process the node with the smallest distance first. This avoids scanning all nodes to find the minimum each time, saving computational effort.\n",
        "\n",
        "2. The priority queue implementation has better overall efficiency with a time complexity of `(O((V + E) log V))`, where `(E)` is the number of edges, as heap operations (insertion and extraction) are logarithmic.\n",
        "\n",
        "3. Using the priority queue, this implementation dynamically identifies the next node to process without exhaustively scanning the graph, whereas the less optimized version repeatedly checks all nodes, leading to unnecessary overhead.\n"
      ],
      "metadata": {
        "id": "hnhdoXhBPsDk"
      }
    },
    {
      "cell_type": "code",
      "source": [
        "import heapq"
      ],
      "metadata": {
        "id": "VayBSa0wBg99"
      },
      "execution_count": null,
      "outputs": []
    },
    {
      "cell_type": "code",
      "source": [
        "def dijkstra_optimized(graph, start):\n",
        "    distances = {node: float('inf') for node in graph}\n",
        "    distances[start] = 0\n",
        "    visited = set()\n",
        "    priority_queue = [(0, start)]\n",
        "\n",
        "    while priority_queue:\n",
        "        current_distance, current_node = heapq.heappop(priority_queue)\n",
        "\n",
        "        if current_node in visited:\n",
        "            continue\n",
        "\n",
        "        print(\"Visiting\", current_node)\n",
        "        visited.add(current_node)\n",
        "\n",
        "        for neighbor, weight in graph[current_node].items():\n",
        "            distance = current_distance + weight\n",
        "            if distance < distances[neighbor]:\n",
        "                distances[neighbor] = distance\n",
        "                heapq.heappush(priority_queue, (distance, neighbor))\n",
        "\n",
        "    return distances"
      ],
      "metadata": {
        "id": "k4rF8D0vow7X"
      },
      "execution_count": null,
      "outputs": []
    },
    {
      "cell_type": "code",
      "source": [
        "graph = {'0': {'1': 1, '2': 2},\n",
        "         '1': {'0': 1, '3': 3, '4': 4},\n",
        "         '2': {'0': 2},\n",
        "         '3': {'1': 3},\n",
        "         '4': {'1': 4, '2': 5}}\n",
        "\n",
        "result = dijkstra_optimized(graph, '0')\n",
        "print(\"Shortest distances:\", result)"
      ],
      "metadata": {
        "colab": {
          "base_uri": "https://localhost:8080/"
        },
        "id": "dPx7CQ4q_ART",
        "outputId": "82d844db-7c60-4cbd-c116-8e5d03cde93a"
      },
      "execution_count": null,
      "outputs": [
        {
          "output_type": "stream",
          "name": "stdout",
          "text": [
            "Visiting 0\n",
            "Visiting 1\n",
            "Visiting 2\n",
            "Visiting 3\n",
            "Visiting 4\n",
            "Shortest distances: {'0': 0, '1': 1, '2': 2, '3': 4, '4': 5}\n"
          ]
        }
      ]
    },
    {
      "cell_type": "markdown",
      "source": [
        "Time Complexity: `O(E Log V)`, where `E` is the number of edges and `V` is the number of vertices.\n",
        "\n",
        "Space Complexity: `O(V)`"
      ],
      "metadata": {
        "id": "RsoFLS_tDKIG"
      }
    },
    {
      "cell_type": "markdown",
      "source": [
        "## Floyd-Warshall Algorithm"
      ],
      "metadata": {
        "id": "auqfG1yrTjIk"
      }
    },
    {
      "cell_type": "markdown",
      "source": [
        "Floyd-Warshall Algorithm is an algorithm for finding the shortest path between all the pairs of vertices in a weighted graph. This algorithm works for both the directed and undirected weighted graphs. But, it does not work for the graphs with negative cycles (where the sum of the edges in a cycle is negative).\n",
        "\n"
      ],
      "metadata": {
        "id": "1BNX01EQTqnl"
      }
    },
    {
      "cell_type": "code",
      "source": [
        "def floyd_warshall(graph):\n",
        "    nodes = list(graph.keys())\n",
        "    num_nodes = len(nodes)\n",
        "\n",
        "    INF = float('inf')\n",
        "    dist = [[INF for _ in range(num_nodes)] for _ in range(num_nodes)]\n",
        "\n",
        "    for u_index, u in enumerate(nodes):\n",
        "        for v_index, v in enumerate(nodes):\n",
        "            if v in graph[u]:\n",
        "                dist[u_index][v_index] = graph[u][v]\n",
        "            if u == v:\n",
        "                dist[u_index][v_index] = 0\n",
        "\n",
        "    for k_index, k in enumerate(nodes):\n",
        "        for i_index, i in enumerate(nodes):\n",
        "            for j_index, j in enumerate(nodes):\n",
        "                dist[i_index][j_index] = min(dist[i_index][j_index], dist[i_index][k_index] + dist[k_index][j_index])\n",
        "\n",
        "    result = {}\n",
        "    for i_index, i in enumerate(nodes):\n",
        "        result[i] = {}\n",
        "        for j_index, j in enumerate(nodes):\n",
        "            result[i][j] = dist[i_index][j_index]\n",
        "\n",
        "    return result"
      ],
      "metadata": {
        "id": "pTy2JriTaNRo"
      },
      "execution_count": null,
      "outputs": []
    },
    {
      "cell_type": "code",
      "source": [
        "graph = {'0': {'1': 1, '2': 2},\n",
        "         '1': {'0': 1, '3': 3, '4': 4},\n",
        "         '2': {'0': 2},\n",
        "         '3': {'1': 3},\n",
        "         '4': {'1': 4, '2': 5}}\n",
        "\n",
        "shortest_distances = floyd_warshall(graph)\n",
        "print(\"Shortest distances:\")\n",
        "for start in shortest_distances:\n",
        "    for end in shortest_distances[start]:\n",
        "        print(f\"{start} -> {end}: {shortest_distances[start][end]}\")"
      ],
      "metadata": {
        "colab": {
          "base_uri": "https://localhost:8080/"
        },
        "id": "Fm50anLPabMF",
        "outputId": "5eecc004-7d7f-4365-b1bd-c51b3fe63c96"
      },
      "execution_count": null,
      "outputs": [
        {
          "output_type": "stream",
          "name": "stdout",
          "text": [
            "Shortest distances:\n",
            "0 -> 0: 0\n",
            "0 -> 1: 1\n",
            "0 -> 2: 2\n",
            "0 -> 3: 4\n",
            "0 -> 4: 5\n",
            "1 -> 0: 1\n",
            "1 -> 1: 0\n",
            "1 -> 2: 3\n",
            "1 -> 3: 3\n",
            "1 -> 4: 4\n",
            "2 -> 0: 2\n",
            "2 -> 1: 3\n",
            "2 -> 2: 0\n",
            "2 -> 3: 6\n",
            "2 -> 4: 7\n",
            "3 -> 0: 4\n",
            "3 -> 1: 3\n",
            "3 -> 2: 6\n",
            "3 -> 3: 0\n",
            "3 -> 4: 7\n",
            "4 -> 0: 5\n",
            "4 -> 1: 4\n",
            "4 -> 2: 5\n",
            "4 -> 3: 7\n",
            "4 -> 4: 0\n"
          ]
        }
      ]
    },
    {
      "cell_type": "markdown",
      "source": [
        "**Optimized Floyd-Warshall:**"
      ],
      "metadata": {
        "id": "5EXbqZb3bKaG"
      }
    },
    {
      "cell_type": "markdown",
      "source": [
        "This version of the Floyd-Warshall Algorithm is more optimized because:\n",
        "\n",
        "1. It uses nested dictionaries (`dist[u][v]`), which provide direct lookups for distances between nodes. This is more efficient and intuitive when working with sparse graphs or when the graph structure aligns naturally with key-value pairs.  \n",
        "\n",
        "2. The `dist` dictionary is initialized directly with distances based on the graph, minimizing redundant operations. Each node initializes distances to infinity (`INF`) for others and explicitly sets the self-distance to 0.  \n"
      ],
      "metadata": {
        "id": "ZRd73J-bbQkB"
      }
    },
    {
      "cell_type": "code",
      "source": [
        "def floyd_warshall_optimized(graph):\n",
        "  nodes = list(graph.keys())\n",
        "  num_nodes = len(nodes)\n",
        "\n",
        "  INF = float('inf')\n",
        "  dist = {node: {other: INF for other in nodes} for node in nodes}\n",
        "\n",
        "  for u in graph:\n",
        "    for v in graph[u]:\n",
        "      dist[u][v] = graph[u][v]\n",
        "    dist[u][u] = 0\n",
        "\n",
        "  for k in nodes:\n",
        "    for i in nodes:\n",
        "      for j in nodes:\n",
        "        dist[i][j] = min(dist[i][j], dist[i][k] + dist[k][j])\n",
        "\n",
        "  return dist"
      ],
      "metadata": {
        "id": "GLIBvi59_IiF"
      },
      "execution_count": null,
      "outputs": []
    },
    {
      "cell_type": "code",
      "source": [
        "graph = {'0': {'1': 1, '2': 2},\n",
        "         '1': {'0': 1, '3': 3, '4': 4},\n",
        "         '2': {'0': 2},\n",
        "         '3': {'1': 3},\n",
        "         '4': {'1': 4, '2': 5}}\n",
        "\n",
        "shortest_distances = floyd_warshall_optimized(graph)\n",
        "print(\"Shortest distances:\")\n",
        "for start in shortest_distances:\n",
        "    for end in shortest_distances[start]:\n",
        "        print(f\"{start} -> {end}: {shortest_distances[start][end]}\")"
      ],
      "metadata": {
        "colab": {
          "base_uri": "https://localhost:8080/"
        },
        "id": "at6W13gHHj59",
        "outputId": "1155e8d0-42a8-4d64-a846-b368c1155a2c"
      },
      "execution_count": null,
      "outputs": [
        {
          "output_type": "stream",
          "name": "stdout",
          "text": [
            "Shortest distances:\n",
            "0 -> 0: 0\n",
            "0 -> 1: 1\n",
            "0 -> 2: 2\n",
            "0 -> 3: 4\n",
            "0 -> 4: 5\n",
            "1 -> 0: 1\n",
            "1 -> 1: 0\n",
            "1 -> 2: 3\n",
            "1 -> 3: 3\n",
            "1 -> 4: 4\n",
            "2 -> 0: 2\n",
            "2 -> 1: 3\n",
            "2 -> 2: 0\n",
            "2 -> 3: 6\n",
            "2 -> 4: 7\n",
            "3 -> 0: 4\n",
            "3 -> 1: 3\n",
            "3 -> 2: 6\n",
            "3 -> 3: 0\n",
            "3 -> 4: 7\n",
            "4 -> 0: 5\n",
            "4 -> 1: 4\n",
            "4 -> 2: 5\n",
            "4 -> 3: 7\n",
            "4 -> 4: 0\n"
          ]
        }
      ]
    },
    {
      "cell_type": "markdown",
      "source": [
        "There are three loops. Each loop has constant complexities. So, the time complexity of the Floyd-Warshall algorithm is `O(n^3)`.\n",
        "\n",
        "The space complexity of the Floyd-Warshall algorithm is `O(n^2)`."
      ],
      "metadata": {
        "id": "XMidHkNLG8bY"
      }
    }
  ]
}